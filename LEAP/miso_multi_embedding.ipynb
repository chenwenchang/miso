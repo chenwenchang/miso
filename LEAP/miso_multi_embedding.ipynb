{
 "cells": [
  {
   "cell_type": "code",
   "execution_count": 4,
   "id": "6c60e40b-6b2e-43ee-9dad-2f3507e4d891",
   "metadata": {},
   "outputs": [],
   "source": [
    "# basic import\n",
    "import os\n",
    "import re\n",
    "from os.path import join\n",
    "from tqdm import tqdm\n",
    "import math\n",
    "import ast\n",
    "import random\n",
    "import warnings\n",
    "\n",
    "\n",
    "import matplotlib.pyplot as plt\n",
    "import numpy as np\n",
    "import pandas as pd\n",
    "from sklearn.decomposition import PCA\n",
    "import cv2\n",
    "import openslide\n",
    "from PIL import Image\n",
    "import torch\n",
    "\n",
    "# spatialdata import \n",
    "import geopandas as gpd\n",
    "import anndata\n",
    "import spatialdata as sd\n",
    "import squidpy as sq\n",
    "import scanpy as sc\n",
    "from shapely.geometry import Point\n",
    "from spatialdata.models import Image2DModel, ShapesModel, TableModel\n",
    "from spatialdata.transformations import (\n",
    "    Affine,\n",
    "    MapAxis,\n",
    "    Scale,\n",
    "    Sequence,\n",
    "    Translation,\n",
    "    get_transformation,\n",
    "    set_transformation,\n",
    ")\n",
    "\n",
    "# MISO import \n",
    "from miso import Miso"
   ]
  },
  {
   "cell_type": "code",
   "execution_count": 5,
   "id": "472d50a3-d251-44f3-93a3-84135273c47f",
   "metadata": {},
   "outputs": [
    {
     "name": "stdout",
     "output_type": "stream",
     "text": [
      "CUDA is available. Using GPU: NVIDIA GeForce RTX 4090 Laptop GPU\n"
     ]
    }
   ],
   "source": [
    "# Setup device (GPU if available, otherwise CPU)\n",
    "if torch.cuda.is_available():\n",
    "    device = \"cuda\"\n",
    "    print(f\"CUDA is available. Using GPU: {torch.cuda.get_device_name(0)}\")\n",
    "else:\n",
    "    device = \"cpu\"\n",
    "    print(\"CUDA is not available. Using CPU.\")"
   ]
  },
  {
   "cell_type": "code",
   "execution_count": 6,
   "id": "f5c89a5f-8aa5-42b1-909e-e40bf5f83dda",
   "metadata": {},
   "outputs": [],
   "source": [
    "input_path = 'C:/Users/hua01/Desktop/cwc/SpatialMultimodal/spd_new/UNI'\n",
    "output_path = 'C:/Users/hua01/Desktop/cwc/SpatialMultimodal/spd_new/miso'\n",
    "subfolders = sorted([f.path for f in os.scandir(input_path) if f.is_dir()])\n",
    "LEAP_folders  = [x for x in subfolders if '.zarr' in x]"
   ]
  },
  {
   "cell_type": "code",
   "execution_count": 7,
   "id": "c04b3e4d-6979-468b-bd39-745b12e90e22",
   "metadata": {},
   "outputs": [
    {
     "data": {
      "text/plain": [
       "array([[1.5005606 , 0.        , 0.38155514, ..., 0.        , 0.        ,\n",
       "        0.7707566 ],\n",
       "       [1.6139451 , 0.        , 0.        , ..., 0.        , 0.        ,\n",
       "        0.        ],\n",
       "       [1.3195369 , 0.        , 0.        , ..., 0.        , 0.        ,\n",
       "        0.43718192],\n",
       "       ...,\n",
       "       [1.3554627 , 0.2000201 , 0.        , ..., 0.        , 0.        ,\n",
       "        0.36662355],\n",
       "       [2.1712945 , 0.        , 0.        , ..., 0.        , 0.        ,\n",
       "        0.        ],\n",
       "       [0.9917529 , 0.        , 0.3198194 , ..., 0.3198194 , 0.        ,\n",
       "        0.17264116]], dtype=float32)"
      ]
     },
     "execution_count": 7,
     "metadata": {},
     "output_type": "execute_result"
    }
   ],
   "source": [
    "sdata = sd.read_zarr(LEAP_folders[11])\n",
    "adata = sdata['adata']\n",
    "adata.X.toarray()"
   ]
  },
  {
   "cell_type": "code",
   "execution_count": 8,
   "id": "454ecf0e-8823-400e-a7ce-1534375a40a5",
   "metadata": {},
   "outputs": [
    {
     "data": {
      "text/plain": [
       "AnnData object with n_obs × n_vars = 2118 × 6000\n",
       "    obs: 'in_tissue', 'array_row', 'array_col', 'n_genes', 'n_genes_by_counts', 'total_counts', 'total_counts_mt', 'pct_counts_mt', 'S_score', 'G2M_score', 'phase', '_indices', '_scvi_batch', '_scvi_labels', 'SampleID', 'LeapID', 'LEAP_PatientID', 'Treatment', 'ARM', 'pCR', 'gBRCA_status', 'PatientID', 'leiden_pca', 'leiden_scvi', 'Adipocytes_c2l_Midlevel', 'Arterial-like_EC_c2l_Midlevel', 'B_cell_c2l_Midlevel', 'CCR7_DC_c2l_Midlevel', 'CD4_Tfh-like_c2l_Midlevel', 'CD4_Treg_c2l_Midlevel', 'CD8_T_c2l_Midlevel', 'CD8_Texh_c2l_Midlevel', 'Cancer Epithelial_c2l_Midlevel', 'Capilary-like_EC_c2l_Midlevel', 'DC1_c2l_Midlevel', 'DC2_c2l_Midlevel', 'EC_angiogenic_c2l_Midlevel', 'Follicular_DC_c2l_Midlevel', 'GC_B_cell_c2l_Midlevel', 'LASP_c2l_Midlevel', 'LHS_c2l_Midlevel', 'Lymphatic_EC_c2l_Midlevel', 'Mac_C3_c2l_Midlevel', 'Mac_CCL18_c2l_Midlevel', 'Mac_CD36_c2l_Midlevel', 'Mac_COL27A1_c2l_Midlevel', 'Mac_LYVE1_c2l_Midlevel', 'Mac_SPP1_c2l_Midlevel', 'Mono/Mac_c2l_Midlevel', 'NK_cell_c2l_Midlevel', 'Naive_T_c2l_Midlevel', 'Plasma_c2l_Midlevel', 'Venular-like_EC_c2l_Midlevel', 'dPVL_c2l_Midlevel', 'iCAF_c2l_Midlevel', 'imPVL_c2l_Midlevel', 'myCAF_c2l_Midlevel', 'pDC_c2l_Midlevel', 'leiden_c2l_Midlevel', 'Topic1', 'Topic2', 'Topic3', 'Topic4', 'Topic5', 'Topic6', 'Topic7', 'Topic8', 'Topic9', 'Topic10', 'Topic11', 'Topic12', 'Topic13', 'Topic14', 'Topic15', 'Topic16', 'Topic17', 'Topic18', 'Topic19', 'Topic20', 'leiden_stamp', 'region', 'spot_id'\n",
       "    var: 'n_cells', 'mt', 'n_cells_by_counts', 'mean_counts', 'pct_dropout_by_counts', 'total_counts', 'highly_variable', 'highly_variable_rank', 'means', 'variances', 'variances_norm', 'highly_variable_nbatches'\n",
       "    uns: 'LEAP_PatientID_colors', 'LeapID_colors', 'SampleID_colors', 'Treatment_colors', '_scvi_manager_uuid', '_scvi_uuid', 'c2l_Midlevel', 'hvg', 'leiden', 'leiden_stamp_colors', 'log1p', 'mod', 'mod_c2l_Midlevel', 'pCR_colors', 'pca', 'scvi', 'spatial', 'spatial_neighbors', 'spatialdata_attrs', 'stamp', 'umap'\n",
       "    obsm: 'X_pca', 'X_scVI', 'X_stamp', 'X_umap', 'X_umap_c2l_Midlevel', 'X_umap_pca', 'X_umap_scvi', '_scvi_extra_categorical_covs', '_scvi_extra_continuous_covs', 'hne_emb', 'means_cell_abundance_w_sf', 'q05_cell_abundance_w_sf', 'q05_cell_abundance_w_sf_c2l_Midlevel', 'q95_cell_abundance_w_sf', 'spatial', 'stds_cell_abundance_w_sf', 'uni_emb'\n",
       "    varm: 'X_stamp'\n",
       "    layers: 'counts'\n",
       "    obsp: 'c2l_Midlevel_connectivities', 'c2l_Midlevel_distances', 'pca_connectivities', 'pca_distances', 'scvi_connectivities', 'scvi_distances', 'spatial_connectivities', 'spatial_distances', 'stamp_connectivities', 'stamp_distances'"
      ]
     },
     "execution_count": 8,
     "metadata": {},
     "output_type": "execute_result"
    }
   ],
   "source": [
    "adata"
   ]
  },
  {
   "cell_type": "code",
   "execution_count": 17,
   "id": "12f1c665-f415-4e18-8f3b-a2343ef8e636",
   "metadata": {
    "scrolled": true
   },
   "outputs": [
    {
     "name": "stdout",
     "output_type": "stream",
     "text": [
      "LEAP-002A\n"
     ]
    },
    {
     "data": {
      "application/vnd.jupyter.widget-view+json": {
       "model_id": "9073c914c02a4665b61012f50da8f225",
       "version_major": 2,
       "version_minor": 0
      },
      "text/plain": [
       "Training network for modality 1:   0%|          | 0/1000 [00:00<?, ?it/s]"
      ]
     },
     "metadata": {},
     "output_type": "display_data"
    },
    {
     "data": {
      "application/vnd.jupyter.widget-view+json": {
       "model_id": "b025f8b0b41f41d3b90017ffc0fda49e",
       "version_major": 2,
       "version_minor": 0
      },
      "text/plain": [
       "Training network for modality 2:   0%|          | 0/1000 [00:00<?, ?it/s]"
      ]
     },
     "metadata": {},
     "output_type": "display_data"
    },
    {
     "name": "stdout",
     "output_type": "stream",
     "text": [
      "\u001b[34mINFO    \u001b[0m The SpatialData object is not self-contained \u001b[1m(\u001b[0mi.e. it contains some elements that are Dask-backed from    \n",
      "         locations outside C:\\Users\\hua01\\Desktop\\cwc\\SpatialMultimodal\\spd_new\\miso\\LEAP-002A_sdata.zarr\u001b[1m)\u001b[0m. Please \n",
      "         see the documentation of `\u001b[1;35mis_self_contained\u001b[0m\u001b[1m(\u001b[0m\u001b[1m)\u001b[0m` to understand the implications of working with SpatialData \n",
      "         objects that are not self-contained.                                                                      \n",
      "\u001b[34mINFO    \u001b[0m The Zarr backing store has been changed from                                                              \n",
      "         C:\\Users\\hua01\\Desktop\\cwc\\SpatialMultimodal\\spd_new\\UNI\\LEAP-002A_sdata.zarr the new file path:          \n",
      "         C:\\Users\\hua01\\Desktop\\cwc\\SpatialMultimodal\\spd_new\\miso\\LEAP-002A_sdata.zarr                            \n",
      "LEAP-002B\n"
     ]
    },
    {
     "data": {
      "application/vnd.jupyter.widget-view+json": {
       "model_id": "a9789b193630424a8f6e3fb766e3c5f7",
       "version_major": 2,
       "version_minor": 0
      },
      "text/plain": [
       "Training network for modality 1:   0%|          | 0/1000 [00:00<?, ?it/s]"
      ]
     },
     "metadata": {},
     "output_type": "display_data"
    },
    {
     "data": {
      "application/vnd.jupyter.widget-view+json": {
       "model_id": "078b0f2f6a0c4adab7a48a796414fc67",
       "version_major": 2,
       "version_minor": 0
      },
      "text/plain": [
       "Training network for modality 2:   0%|          | 0/1000 [00:00<?, ?it/s]"
      ]
     },
     "metadata": {},
     "output_type": "display_data"
    },
    {
     "name": "stdout",
     "output_type": "stream",
     "text": [
      "\u001b[34mINFO    \u001b[0m The SpatialData object is not self-contained \u001b[1m(\u001b[0mi.e. it contains some elements that are Dask-backed from    \n",
      "         locations outside C:\\Users\\hua01\\Desktop\\cwc\\SpatialMultimodal\\spd_new\\miso\\LEAP-002B_sdata.zarr\u001b[1m)\u001b[0m. Please \n",
      "         see the documentation of `\u001b[1;35mis_self_contained\u001b[0m\u001b[1m(\u001b[0m\u001b[1m)\u001b[0m` to understand the implications of working with SpatialData \n",
      "         objects that are not self-contained.                                                                      \n",
      "\u001b[34mINFO    \u001b[0m The Zarr backing store has been changed from                                                              \n",
      "         C:\\Users\\hua01\\Desktop\\cwc\\SpatialMultimodal\\spd_new\\UNI\\LEAP-002B_sdata.zarr the new file path:          \n",
      "         C:\\Users\\hua01\\Desktop\\cwc\\SpatialMultimodal\\spd_new\\miso\\LEAP-002B_sdata.zarr                            \n",
      "LEAP-003A\n"
     ]
    },
    {
     "data": {
      "application/vnd.jupyter.widget-view+json": {
       "model_id": "69af34f7e8c8419b9afd943879278db0",
       "version_major": 2,
       "version_minor": 0
      },
      "text/plain": [
       "Training network for modality 1:   0%|          | 0/1000 [00:00<?, ?it/s]"
      ]
     },
     "metadata": {},
     "output_type": "display_data"
    },
    {
     "data": {
      "application/vnd.jupyter.widget-view+json": {
       "model_id": "d166debc33af40f2931c90ea0420ef4c",
       "version_major": 2,
       "version_minor": 0
      },
      "text/plain": [
       "Training network for modality 2:   0%|          | 0/1000 [00:00<?, ?it/s]"
      ]
     },
     "metadata": {},
     "output_type": "display_data"
    },
    {
     "name": "stdout",
     "output_type": "stream",
     "text": [
      "\u001b[34mINFO    \u001b[0m The SpatialData object is not self-contained \u001b[1m(\u001b[0mi.e. it contains some elements that are Dask-backed from    \n",
      "         locations outside C:\\Users\\hua01\\Desktop\\cwc\\SpatialMultimodal\\spd_new\\miso\\LEAP-003A_sdata.zarr\u001b[1m)\u001b[0m. Please \n",
      "         see the documentation of `\u001b[1;35mis_self_contained\u001b[0m\u001b[1m(\u001b[0m\u001b[1m)\u001b[0m` to understand the implications of working with SpatialData \n",
      "         objects that are not self-contained.                                                                      \n",
      "\u001b[34mINFO    \u001b[0m The Zarr backing store has been changed from                                                              \n",
      "         C:\\Users\\hua01\\Desktop\\cwc\\SpatialMultimodal\\spd_new\\UNI\\LEAP-003A_sdata.zarr the new file path:          \n",
      "         C:\\Users\\hua01\\Desktop\\cwc\\SpatialMultimodal\\spd_new\\miso\\LEAP-003A_sdata.zarr                            \n",
      "LEAP-003B\n"
     ]
    },
    {
     "data": {
      "application/vnd.jupyter.widget-view+json": {
       "model_id": "cdc633cd537e4f0e92ec37e72d3fb5eb",
       "version_major": 2,
       "version_minor": 0
      },
      "text/plain": [
       "Training network for modality 1:   0%|          | 0/1000 [00:00<?, ?it/s]"
      ]
     },
     "metadata": {},
     "output_type": "display_data"
    },
    {
     "data": {
      "application/vnd.jupyter.widget-view+json": {
       "model_id": "5fb871f625e74d4c8af1b10ff552318b",
       "version_major": 2,
       "version_minor": 0
      },
      "text/plain": [
       "Training network for modality 2:   0%|          | 0/1000 [00:00<?, ?it/s]"
      ]
     },
     "metadata": {},
     "output_type": "display_data"
    },
    {
     "name": "stdout",
     "output_type": "stream",
     "text": [
      "\u001b[34mINFO    \u001b[0m The SpatialData object is not self-contained \u001b[1m(\u001b[0mi.e. it contains some elements that are Dask-backed from    \n",
      "         locations outside C:\\Users\\hua01\\Desktop\\cwc\\SpatialMultimodal\\spd_new\\miso\\LEAP-003B_sdata.zarr\u001b[1m)\u001b[0m. Please \n",
      "         see the documentation of `\u001b[1;35mis_self_contained\u001b[0m\u001b[1m(\u001b[0m\u001b[1m)\u001b[0m` to understand the implications of working with SpatialData \n",
      "         objects that are not self-contained.                                                                      \n",
      "\u001b[34mINFO    \u001b[0m The Zarr backing store has been changed from                                                              \n",
      "         C:\\Users\\hua01\\Desktop\\cwc\\SpatialMultimodal\\spd_new\\UNI\\LEAP-003B_sdata.zarr the new file path:          \n",
      "         C:\\Users\\hua01\\Desktop\\cwc\\SpatialMultimodal\\spd_new\\miso\\LEAP-003B_sdata.zarr                            \n",
      "LEAP-004A\n"
     ]
    },
    {
     "data": {
      "application/vnd.jupyter.widget-view+json": {
       "model_id": "e29ed75acbb749d69c3eb7faf1136727",
       "version_major": 2,
       "version_minor": 0
      },
      "text/plain": [
       "Training network for modality 1:   0%|          | 0/1000 [00:00<?, ?it/s]"
      ]
     },
     "metadata": {},
     "output_type": "display_data"
    },
    {
     "data": {
      "application/vnd.jupyter.widget-view+json": {
       "model_id": "d0bf59245374484582ac6087ab445f01",
       "version_major": 2,
       "version_minor": 0
      },
      "text/plain": [
       "Training network for modality 2:   0%|          | 0/1000 [00:00<?, ?it/s]"
      ]
     },
     "metadata": {},
     "output_type": "display_data"
    },
    {
     "name": "stdout",
     "output_type": "stream",
     "text": [
      "\u001b[34mINFO    \u001b[0m The SpatialData object is not self-contained \u001b[1m(\u001b[0mi.e. it contains some elements that are Dask-backed from    \n",
      "         locations outside C:\\Users\\hua01\\Desktop\\cwc\\SpatialMultimodal\\spd_new\\miso\\LEAP-004A_sdata.zarr\u001b[1m)\u001b[0m. Please \n",
      "         see the documentation of `\u001b[1;35mis_self_contained\u001b[0m\u001b[1m(\u001b[0m\u001b[1m)\u001b[0m` to understand the implications of working with SpatialData \n",
      "         objects that are not self-contained.                                                                      \n",
      "\u001b[34mINFO    \u001b[0m The Zarr backing store has been changed from                                                              \n",
      "         C:\\Users\\hua01\\Desktop\\cwc\\SpatialMultimodal\\spd_new\\UNI\\LEAP-004A_sdata.zarr the new file path:          \n",
      "         C:\\Users\\hua01\\Desktop\\cwc\\SpatialMultimodal\\spd_new\\miso\\LEAP-004A_sdata.zarr                            \n",
      "LEAP-004B\n"
     ]
    },
    {
     "data": {
      "application/vnd.jupyter.widget-view+json": {
       "model_id": "31ad1752879942eeb33657c2ac4da53f",
       "version_major": 2,
       "version_minor": 0
      },
      "text/plain": [
       "Training network for modality 1:   0%|          | 0/1000 [00:00<?, ?it/s]"
      ]
     },
     "metadata": {},
     "output_type": "display_data"
    },
    {
     "data": {
      "application/vnd.jupyter.widget-view+json": {
       "model_id": "4ff1486724c64d8ea31f3bb9ab11fcd3",
       "version_major": 2,
       "version_minor": 0
      },
      "text/plain": [
       "Training network for modality 2:   0%|          | 0/1000 [00:00<?, ?it/s]"
      ]
     },
     "metadata": {},
     "output_type": "display_data"
    },
    {
     "name": "stdout",
     "output_type": "stream",
     "text": [
      "\u001b[34mINFO    \u001b[0m The SpatialData object is not self-contained \u001b[1m(\u001b[0mi.e. it contains some elements that are Dask-backed from    \n",
      "         locations outside C:\\Users\\hua01\\Desktop\\cwc\\SpatialMultimodal\\spd_new\\miso\\LEAP-004B_sdata.zarr\u001b[1m)\u001b[0m. Please \n",
      "         see the documentation of `\u001b[1;35mis_self_contained\u001b[0m\u001b[1m(\u001b[0m\u001b[1m)\u001b[0m` to understand the implications of working with SpatialData \n",
      "         objects that are not self-contained.                                                                      \n",
      "\u001b[34mINFO    \u001b[0m The Zarr backing store has been changed from                                                              \n",
      "         C:\\Users\\hua01\\Desktop\\cwc\\SpatialMultimodal\\spd_new\\UNI\\LEAP-004B_sdata.zarr the new file path:          \n",
      "         C:\\Users\\hua01\\Desktop\\cwc\\SpatialMultimodal\\spd_new\\miso\\LEAP-004B_sdata.zarr                            \n",
      "LEAP-005B\n"
     ]
    },
    {
     "data": {
      "application/vnd.jupyter.widget-view+json": {
       "model_id": "76ceb2a999594e238377e582206ade46",
       "version_major": 2,
       "version_minor": 0
      },
      "text/plain": [
       "Training network for modality 1:   0%|          | 0/1000 [00:00<?, ?it/s]"
      ]
     },
     "metadata": {},
     "output_type": "display_data"
    },
    {
     "data": {
      "application/vnd.jupyter.widget-view+json": {
       "model_id": "19b43022a99c433185ac515938801b26",
       "version_major": 2,
       "version_minor": 0
      },
      "text/plain": [
       "Training network for modality 2:   0%|          | 0/1000 [00:00<?, ?it/s]"
      ]
     },
     "metadata": {},
     "output_type": "display_data"
    },
    {
     "name": "stdout",
     "output_type": "stream",
     "text": [
      "\u001b[34mINFO    \u001b[0m The SpatialData object is not self-contained \u001b[1m(\u001b[0mi.e. it contains some elements that are Dask-backed from    \n",
      "         locations outside C:\\Users\\hua01\\Desktop\\cwc\\SpatialMultimodal\\spd_new\\miso\\LEAP-005B_sdata.zarr\u001b[1m)\u001b[0m. Please \n",
      "         see the documentation of `\u001b[1;35mis_self_contained\u001b[0m\u001b[1m(\u001b[0m\u001b[1m)\u001b[0m` to understand the implications of working with SpatialData \n",
      "         objects that are not self-contained.                                                                      \n",
      "\u001b[34mINFO    \u001b[0m The Zarr backing store has been changed from                                                              \n",
      "         C:\\Users\\hua01\\Desktop\\cwc\\SpatialMultimodal\\spd_new\\UNI\\LEAP-005B_sdata.zarr the new file path:          \n",
      "         C:\\Users\\hua01\\Desktop\\cwc\\SpatialMultimodal\\spd_new\\miso\\LEAP-005B_sdata.zarr                            \n",
      "LEAP-006A\n"
     ]
    },
    {
     "data": {
      "application/vnd.jupyter.widget-view+json": {
       "model_id": "c1a12de928524cac9d20b9627075177e",
       "version_major": 2,
       "version_minor": 0
      },
      "text/plain": [
       "Training network for modality 1:   0%|          | 0/1000 [00:00<?, ?it/s]"
      ]
     },
     "metadata": {},
     "output_type": "display_data"
    },
    {
     "data": {
      "application/vnd.jupyter.widget-view+json": {
       "model_id": "6b76189a87ee4293b4f88d097cb5f629",
       "version_major": 2,
       "version_minor": 0
      },
      "text/plain": [
       "Training network for modality 2:   0%|          | 0/1000 [00:00<?, ?it/s]"
      ]
     },
     "metadata": {},
     "output_type": "display_data"
    },
    {
     "name": "stdout",
     "output_type": "stream",
     "text": [
      "\u001b[34mINFO    \u001b[0m The SpatialData object is not self-contained \u001b[1m(\u001b[0mi.e. it contains some elements that are Dask-backed from    \n",
      "         locations outside C:\\Users\\hua01\\Desktop\\cwc\\SpatialMultimodal\\spd_new\\miso\\LEAP-006A_sdata.zarr\u001b[1m)\u001b[0m. Please \n",
      "         see the documentation of `\u001b[1;35mis_self_contained\u001b[0m\u001b[1m(\u001b[0m\u001b[1m)\u001b[0m` to understand the implications of working with SpatialData \n",
      "         objects that are not self-contained.                                                                      \n",
      "\u001b[34mINFO    \u001b[0m The Zarr backing store has been changed from                                                              \n",
      "         C:\\Users\\hua01\\Desktop\\cwc\\SpatialMultimodal\\spd_new\\UNI\\LEAP-006A_sdata.zarr the new file path:          \n",
      "         C:\\Users\\hua01\\Desktop\\cwc\\SpatialMultimodal\\spd_new\\miso\\LEAP-006A_sdata.zarr                            \n",
      "LEAP-006B\n"
     ]
    },
    {
     "data": {
      "application/vnd.jupyter.widget-view+json": {
       "model_id": "9fac503d37274194af4f8e80eb7b50ef",
       "version_major": 2,
       "version_minor": 0
      },
      "text/plain": [
       "Training network for modality 1:   0%|          | 0/1000 [00:00<?, ?it/s]"
      ]
     },
     "metadata": {},
     "output_type": "display_data"
    },
    {
     "data": {
      "application/vnd.jupyter.widget-view+json": {
       "model_id": "8da2a10322cd4fb5a82f3c56c3b9588e",
       "version_major": 2,
       "version_minor": 0
      },
      "text/plain": [
       "Training network for modality 2:   0%|          | 0/1000 [00:00<?, ?it/s]"
      ]
     },
     "metadata": {},
     "output_type": "display_data"
    },
    {
     "name": "stdout",
     "output_type": "stream",
     "text": [
      "\u001b[34mINFO    \u001b[0m The SpatialData object is not self-contained \u001b[1m(\u001b[0mi.e. it contains some elements that are Dask-backed from    \n",
      "         locations outside C:\\Users\\hua01\\Desktop\\cwc\\SpatialMultimodal\\spd_new\\miso\\LEAP-006B_sdata.zarr\u001b[1m)\u001b[0m. Please \n",
      "         see the documentation of `\u001b[1;35mis_self_contained\u001b[0m\u001b[1m(\u001b[0m\u001b[1m)\u001b[0m` to understand the implications of working with SpatialData \n",
      "         objects that are not self-contained.                                                                      \n",
      "\u001b[34mINFO    \u001b[0m The Zarr backing store has been changed from                                                              \n",
      "         C:\\Users\\hua01\\Desktop\\cwc\\SpatialMultimodal\\spd_new\\UNI\\LEAP-006B_sdata.zarr the new file path:          \n",
      "         C:\\Users\\hua01\\Desktop\\cwc\\SpatialMultimodal\\spd_new\\miso\\LEAP-006B_sdata.zarr                            \n",
      "LEAP-007A\n"
     ]
    },
    {
     "data": {
      "application/vnd.jupyter.widget-view+json": {
       "model_id": "215f71e1bc7d4dcabc0eabeeda4c5743",
       "version_major": 2,
       "version_minor": 0
      },
      "text/plain": [
       "Training network for modality 1:   0%|          | 0/1000 [00:00<?, ?it/s]"
      ]
     },
     "metadata": {},
     "output_type": "display_data"
    },
    {
     "data": {
      "application/vnd.jupyter.widget-view+json": {
       "model_id": "8c0171e98b684f229cc5806cafe22183",
       "version_major": 2,
       "version_minor": 0
      },
      "text/plain": [
       "Training network for modality 2:   0%|          | 0/1000 [00:00<?, ?it/s]"
      ]
     },
     "metadata": {},
     "output_type": "display_data"
    },
    {
     "name": "stdout",
     "output_type": "stream",
     "text": [
      "\u001b[34mINFO    \u001b[0m The SpatialData object is not self-contained \u001b[1m(\u001b[0mi.e. it contains some elements that are Dask-backed from    \n",
      "         locations outside C:\\Users\\hua01\\Desktop\\cwc\\SpatialMultimodal\\spd_new\\miso\\LEAP-007A_sdata.zarr\u001b[1m)\u001b[0m. Please \n",
      "         see the documentation of `\u001b[1;35mis_self_contained\u001b[0m\u001b[1m(\u001b[0m\u001b[1m)\u001b[0m` to understand the implications of working with SpatialData \n",
      "         objects that are not self-contained.                                                                      \n",
      "\u001b[34mINFO    \u001b[0m The Zarr backing store has been changed from                                                              \n",
      "         C:\\Users\\hua01\\Desktop\\cwc\\SpatialMultimodal\\spd_new\\UNI\\LEAP-007A_sdata.zarr the new file path:          \n",
      "         C:\\Users\\hua01\\Desktop\\cwc\\SpatialMultimodal\\spd_new\\miso\\LEAP-007A_sdata.zarr                            \n",
      "LEAP-007B\n"
     ]
    },
    {
     "data": {
      "application/vnd.jupyter.widget-view+json": {
       "model_id": "b26a6a6a1e124943b56f744b1269573d",
       "version_major": 2,
       "version_minor": 0
      },
      "text/plain": [
       "Training network for modality 1:   0%|          | 0/1000 [00:00<?, ?it/s]"
      ]
     },
     "metadata": {},
     "output_type": "display_data"
    },
    {
     "data": {
      "application/vnd.jupyter.widget-view+json": {
       "model_id": "6eea58d10cba413daaf853f5f58acc4c",
       "version_major": 2,
       "version_minor": 0
      },
      "text/plain": [
       "Training network for modality 2:   0%|          | 0/1000 [00:00<?, ?it/s]"
      ]
     },
     "metadata": {},
     "output_type": "display_data"
    },
    {
     "name": "stdout",
     "output_type": "stream",
     "text": [
      "\u001b[34mINFO    \u001b[0m The SpatialData object is not self-contained \u001b[1m(\u001b[0mi.e. it contains some elements that are Dask-backed from    \n",
      "         locations outside C:\\Users\\hua01\\Desktop\\cwc\\SpatialMultimodal\\spd_new\\miso\\LEAP-007B_sdata.zarr\u001b[1m)\u001b[0m. Please \n",
      "         see the documentation of `\u001b[1;35mis_self_contained\u001b[0m\u001b[1m(\u001b[0m\u001b[1m)\u001b[0m` to understand the implications of working with SpatialData \n",
      "         objects that are not self-contained.                                                                      \n",
      "\u001b[34mINFO    \u001b[0m The Zarr backing store has been changed from                                                              \n",
      "         C:\\Users\\hua01\\Desktop\\cwc\\SpatialMultimodal\\spd_new\\UNI\\LEAP-007B_sdata.zarr the new file path:          \n",
      "         C:\\Users\\hua01\\Desktop\\cwc\\SpatialMultimodal\\spd_new\\miso\\LEAP-007B_sdata.zarr                            \n",
      "LEAP-008A\n"
     ]
    },
    {
     "data": {
      "application/vnd.jupyter.widget-view+json": {
       "model_id": "2becc192c8c74a258b21fb20d200ae1f",
       "version_major": 2,
       "version_minor": 0
      },
      "text/plain": [
       "Training network for modality 1:   0%|          | 0/1000 [00:00<?, ?it/s]"
      ]
     },
     "metadata": {},
     "output_type": "display_data"
    },
    {
     "data": {
      "application/vnd.jupyter.widget-view+json": {
       "model_id": "fe02a3577bfb40d9b6ff8ab388930549",
       "version_major": 2,
       "version_minor": 0
      },
      "text/plain": [
       "Training network for modality 2:   0%|          | 0/1000 [00:00<?, ?it/s]"
      ]
     },
     "metadata": {},
     "output_type": "display_data"
    },
    {
     "name": "stdout",
     "output_type": "stream",
     "text": [
      "\u001b[34mINFO    \u001b[0m The SpatialData object is not self-contained \u001b[1m(\u001b[0mi.e. it contains some elements that are Dask-backed from    \n",
      "         locations outside C:\\Users\\hua01\\Desktop\\cwc\\SpatialMultimodal\\spd_new\\miso\\LEAP-008A_sdata.zarr\u001b[1m)\u001b[0m. Please \n",
      "         see the documentation of `\u001b[1;35mis_self_contained\u001b[0m\u001b[1m(\u001b[0m\u001b[1m)\u001b[0m` to understand the implications of working with SpatialData \n",
      "         objects that are not self-contained.                                                                      \n",
      "\u001b[34mINFO    \u001b[0m The Zarr backing store has been changed from                                                              \n",
      "         C:\\Users\\hua01\\Desktop\\cwc\\SpatialMultimodal\\spd_new\\UNI\\LEAP-008A_sdata.zarr the new file path:          \n",
      "         C:\\Users\\hua01\\Desktop\\cwc\\SpatialMultimodal\\spd_new\\miso\\LEAP-008A_sdata.zarr                            \n",
      "LEAP-008B\n"
     ]
    },
    {
     "data": {
      "application/vnd.jupyter.widget-view+json": {
       "model_id": "bd6fba08d6ed4161a4db68a774396894",
       "version_major": 2,
       "version_minor": 0
      },
      "text/plain": [
       "Training network for modality 1:   0%|          | 0/1000 [00:00<?, ?it/s]"
      ]
     },
     "metadata": {},
     "output_type": "display_data"
    },
    {
     "data": {
      "application/vnd.jupyter.widget-view+json": {
       "model_id": "8b61fd2b4dcf464384a00c79d87a8aaf",
       "version_major": 2,
       "version_minor": 0
      },
      "text/plain": [
       "Training network for modality 2:   0%|          | 0/1000 [00:00<?, ?it/s]"
      ]
     },
     "metadata": {},
     "output_type": "display_data"
    },
    {
     "name": "stdout",
     "output_type": "stream",
     "text": [
      "\u001b[34mINFO    \u001b[0m The SpatialData object is not self-contained \u001b[1m(\u001b[0mi.e. it contains some elements that are Dask-backed from    \n",
      "         locations outside C:\\Users\\hua01\\Desktop\\cwc\\SpatialMultimodal\\spd_new\\miso\\LEAP-008B_sdata.zarr\u001b[1m)\u001b[0m. Please \n",
      "         see the documentation of `\u001b[1;35mis_self_contained\u001b[0m\u001b[1m(\u001b[0m\u001b[1m)\u001b[0m` to understand the implications of working with SpatialData \n",
      "         objects that are not self-contained.                                                                      \n",
      "\u001b[34mINFO    \u001b[0m The Zarr backing store has been changed from                                                              \n",
      "         C:\\Users\\hua01\\Desktop\\cwc\\SpatialMultimodal\\spd_new\\UNI\\LEAP-008B_sdata.zarr the new file path:          \n",
      "         C:\\Users\\hua01\\Desktop\\cwc\\SpatialMultimodal\\spd_new\\miso\\LEAP-008B_sdata.zarr                            \n",
      "LEAP-010A\n"
     ]
    },
    {
     "data": {
      "application/vnd.jupyter.widget-view+json": {
       "model_id": "537e18ecdf904b35895f1ff0d8089fff",
       "version_major": 2,
       "version_minor": 0
      },
      "text/plain": [
       "Training network for modality 1:   0%|          | 0/1000 [00:00<?, ?it/s]"
      ]
     },
     "metadata": {},
     "output_type": "display_data"
    },
    {
     "data": {
      "application/vnd.jupyter.widget-view+json": {
       "model_id": "d2e0b3e1952c48cfb117d875c5bfe982",
       "version_major": 2,
       "version_minor": 0
      },
      "text/plain": [
       "Training network for modality 2:   0%|          | 0/1000 [00:00<?, ?it/s]"
      ]
     },
     "metadata": {},
     "output_type": "display_data"
    },
    {
     "name": "stdout",
     "output_type": "stream",
     "text": [
      "\u001b[34mINFO    \u001b[0m The SpatialData object is not self-contained \u001b[1m(\u001b[0mi.e. it contains some elements that are Dask-backed from    \n",
      "         locations outside C:\\Users\\hua01\\Desktop\\cwc\\SpatialMultimodal\\spd_new\\miso\\LEAP-010A_sdata.zarr\u001b[1m)\u001b[0m. Please \n",
      "         see the documentation of `\u001b[1;35mis_self_contained\u001b[0m\u001b[1m(\u001b[0m\u001b[1m)\u001b[0m` to understand the implications of working with SpatialData \n",
      "         objects that are not self-contained.                                                                      \n",
      "\u001b[34mINFO    \u001b[0m The Zarr backing store has been changed from                                                              \n",
      "         C:\\Users\\hua01\\Desktop\\cwc\\SpatialMultimodal\\spd_new\\UNI\\LEAP-010A_sdata.zarr the new file path:          \n",
      "         C:\\Users\\hua01\\Desktop\\cwc\\SpatialMultimodal\\spd_new\\miso\\LEAP-010A_sdata.zarr                            \n",
      "LEAP-010B\n"
     ]
    },
    {
     "data": {
      "application/vnd.jupyter.widget-view+json": {
       "model_id": "136ae88cf89d481f8090d32924d94347",
       "version_major": 2,
       "version_minor": 0
      },
      "text/plain": [
       "Training network for modality 1:   0%|          | 0/1000 [00:00<?, ?it/s]"
      ]
     },
     "metadata": {},
     "output_type": "display_data"
    },
    {
     "data": {
      "application/vnd.jupyter.widget-view+json": {
       "model_id": "b764b5a7b8b84db38ba5e81014d06deb",
       "version_major": 2,
       "version_minor": 0
      },
      "text/plain": [
       "Training network for modality 2:   0%|          | 0/1000 [00:00<?, ?it/s]"
      ]
     },
     "metadata": {},
     "output_type": "display_data"
    },
    {
     "name": "stdout",
     "output_type": "stream",
     "text": [
      "\u001b[34mINFO    \u001b[0m The SpatialData object is not self-contained \u001b[1m(\u001b[0mi.e. it contains some elements that are Dask-backed from    \n",
      "         locations outside C:\\Users\\hua01\\Desktop\\cwc\\SpatialMultimodal\\spd_new\\miso\\LEAP-010B_sdata.zarr\u001b[1m)\u001b[0m. Please \n",
      "         see the documentation of `\u001b[1;35mis_self_contained\u001b[0m\u001b[1m(\u001b[0m\u001b[1m)\u001b[0m` to understand the implications of working with SpatialData \n",
      "         objects that are not self-contained.                                                                      \n",
      "\u001b[34mINFO    \u001b[0m The Zarr backing store has been changed from                                                              \n",
      "         C:\\Users\\hua01\\Desktop\\cwc\\SpatialMultimodal\\spd_new\\UNI\\LEAP-010B_sdata.zarr the new file path:          \n",
      "         C:\\Users\\hua01\\Desktop\\cwc\\SpatialMultimodal\\spd_new\\miso\\LEAP-010B_sdata.zarr                            \n",
      "LEAP-011A\n"
     ]
    },
    {
     "data": {
      "application/vnd.jupyter.widget-view+json": {
       "model_id": "6720f9ad5a6d4cd1bc764b9d80d97f2f",
       "version_major": 2,
       "version_minor": 0
      },
      "text/plain": [
       "Training network for modality 1:   0%|          | 0/1000 [00:00<?, ?it/s]"
      ]
     },
     "metadata": {},
     "output_type": "display_data"
    },
    {
     "data": {
      "application/vnd.jupyter.widget-view+json": {
       "model_id": "8147848a9dcf4553a096386c7835f702",
       "version_major": 2,
       "version_minor": 0
      },
      "text/plain": [
       "Training network for modality 2:   0%|          | 0/1000 [00:00<?, ?it/s]"
      ]
     },
     "metadata": {},
     "output_type": "display_data"
    },
    {
     "name": "stdout",
     "output_type": "stream",
     "text": [
      "\u001b[34mINFO    \u001b[0m The SpatialData object is not self-contained \u001b[1m(\u001b[0mi.e. it contains some elements that are Dask-backed from    \n",
      "         locations outside C:\\Users\\hua01\\Desktop\\cwc\\SpatialMultimodal\\spd_new\\miso\\LEAP-011A_sdata.zarr\u001b[1m)\u001b[0m. Please \n",
      "         see the documentation of `\u001b[1;35mis_self_contained\u001b[0m\u001b[1m(\u001b[0m\u001b[1m)\u001b[0m` to understand the implications of working with SpatialData \n",
      "         objects that are not self-contained.                                                                      \n",
      "\u001b[34mINFO    \u001b[0m The Zarr backing store has been changed from                                                              \n",
      "         C:\\Users\\hua01\\Desktop\\cwc\\SpatialMultimodal\\spd_new\\UNI\\LEAP-011A_sdata.zarr the new file path:          \n",
      "         C:\\Users\\hua01\\Desktop\\cwc\\SpatialMultimodal\\spd_new\\miso\\LEAP-011A_sdata.zarr                            \n",
      "LEAP-011B\n"
     ]
    },
    {
     "data": {
      "application/vnd.jupyter.widget-view+json": {
       "model_id": "7e0a13d9102c42aa9b6db5b947a242d1",
       "version_major": 2,
       "version_minor": 0
      },
      "text/plain": [
       "Training network for modality 1:   0%|          | 0/1000 [00:00<?, ?it/s]"
      ]
     },
     "metadata": {},
     "output_type": "display_data"
    },
    {
     "data": {
      "application/vnd.jupyter.widget-view+json": {
       "model_id": "013322ca495a4449916a71421312dafe",
       "version_major": 2,
       "version_minor": 0
      },
      "text/plain": [
       "Training network for modality 2:   0%|          | 0/1000 [00:00<?, ?it/s]"
      ]
     },
     "metadata": {},
     "output_type": "display_data"
    },
    {
     "name": "stdout",
     "output_type": "stream",
     "text": [
      "\u001b[34mINFO    \u001b[0m The SpatialData object is not self-contained \u001b[1m(\u001b[0mi.e. it contains some elements that are Dask-backed from    \n",
      "         locations outside C:\\Users\\hua01\\Desktop\\cwc\\SpatialMultimodal\\spd_new\\miso\\LEAP-011B_sdata.zarr\u001b[1m)\u001b[0m. Please \n",
      "         see the documentation of `\u001b[1;35mis_self_contained\u001b[0m\u001b[1m(\u001b[0m\u001b[1m)\u001b[0m` to understand the implications of working with SpatialData \n",
      "         objects that are not self-contained.                                                                      \n",
      "\u001b[34mINFO    \u001b[0m The Zarr backing store has been changed from                                                              \n",
      "         C:\\Users\\hua01\\Desktop\\cwc\\SpatialMultimodal\\spd_new\\UNI\\LEAP-011B_sdata.zarr the new file path:          \n",
      "         C:\\Users\\hua01\\Desktop\\cwc\\SpatialMultimodal\\spd_new\\miso\\LEAP-011B_sdata.zarr                            \n",
      "LEAP-012B\n"
     ]
    },
    {
     "data": {
      "application/vnd.jupyter.widget-view+json": {
       "model_id": "8424e92073614aa095e77df2c916bd47",
       "version_major": 2,
       "version_minor": 0
      },
      "text/plain": [
       "Training network for modality 1:   0%|          | 0/1000 [00:00<?, ?it/s]"
      ]
     },
     "metadata": {},
     "output_type": "display_data"
    },
    {
     "data": {
      "application/vnd.jupyter.widget-view+json": {
       "model_id": "ac3c78d7bcc0476cb4080b83724580c7",
       "version_major": 2,
       "version_minor": 0
      },
      "text/plain": [
       "Training network for modality 2:   0%|          | 0/1000 [00:00<?, ?it/s]"
      ]
     },
     "metadata": {},
     "output_type": "display_data"
    },
    {
     "name": "stdout",
     "output_type": "stream",
     "text": [
      "\u001b[34mINFO    \u001b[0m The SpatialData object is not self-contained \u001b[1m(\u001b[0mi.e. it contains some elements that are Dask-backed from    \n",
      "         locations outside C:\\Users\\hua01\\Desktop\\cwc\\SpatialMultimodal\\spd_new\\miso\\LEAP-012B_sdata.zarr\u001b[1m)\u001b[0m. Please \n",
      "         see the documentation of `\u001b[1;35mis_self_contained\u001b[0m\u001b[1m(\u001b[0m\u001b[1m)\u001b[0m` to understand the implications of working with SpatialData \n",
      "         objects that are not self-contained.                                                                      \n",
      "\u001b[34mINFO    \u001b[0m The Zarr backing store has been changed from                                                              \n",
      "         C:\\Users\\hua01\\Desktop\\cwc\\SpatialMultimodal\\spd_new\\UNI\\LEAP-012B_sdata.zarr the new file path:          \n",
      "         C:\\Users\\hua01\\Desktop\\cwc\\SpatialMultimodal\\spd_new\\miso\\LEAP-012B_sdata.zarr                            \n",
      "LEAP-013A\n"
     ]
    },
    {
     "data": {
      "application/vnd.jupyter.widget-view+json": {
       "model_id": "1c8cf60ce39141f4ae1fa3f6a1159949",
       "version_major": 2,
       "version_minor": 0
      },
      "text/plain": [
       "Training network for modality 1:   0%|          | 0/1000 [00:00<?, ?it/s]"
      ]
     },
     "metadata": {},
     "output_type": "display_data"
    },
    {
     "data": {
      "application/vnd.jupyter.widget-view+json": {
       "model_id": "51e4d1b4c0974810af8486a0728c49f6",
       "version_major": 2,
       "version_minor": 0
      },
      "text/plain": [
       "Training network for modality 2:   0%|          | 0/1000 [00:00<?, ?it/s]"
      ]
     },
     "metadata": {},
     "output_type": "display_data"
    },
    {
     "name": "stdout",
     "output_type": "stream",
     "text": [
      "\u001b[34mINFO    \u001b[0m The SpatialData object is not self-contained \u001b[1m(\u001b[0mi.e. it contains some elements that are Dask-backed from    \n",
      "         locations outside C:\\Users\\hua01\\Desktop\\cwc\\SpatialMultimodal\\spd_new\\miso\\LEAP-013A_sdata.zarr\u001b[1m)\u001b[0m. Please \n",
      "         see the documentation of `\u001b[1;35mis_self_contained\u001b[0m\u001b[1m(\u001b[0m\u001b[1m)\u001b[0m` to understand the implications of working with SpatialData \n",
      "         objects that are not self-contained.                                                                      \n",
      "\u001b[34mINFO    \u001b[0m The Zarr backing store has been changed from                                                              \n",
      "         C:\\Users\\hua01\\Desktop\\cwc\\SpatialMultimodal\\spd_new\\UNI\\LEAP-013A_sdata.zarr the new file path:          \n",
      "         C:\\Users\\hua01\\Desktop\\cwc\\SpatialMultimodal\\spd_new\\miso\\LEAP-013A_sdata.zarr                            \n",
      "LEAP-013B\n"
     ]
    },
    {
     "data": {
      "application/vnd.jupyter.widget-view+json": {
       "model_id": "21ecb3a666dd42c5a5aea9239ea4c487",
       "version_major": 2,
       "version_minor": 0
      },
      "text/plain": [
       "Training network for modality 1:   0%|          | 0/1000 [00:00<?, ?it/s]"
      ]
     },
     "metadata": {},
     "output_type": "display_data"
    },
    {
     "data": {
      "application/vnd.jupyter.widget-view+json": {
       "model_id": "a5c3f165245e494c81afae3ddf29fb55",
       "version_major": 2,
       "version_minor": 0
      },
      "text/plain": [
       "Training network for modality 2:   0%|          | 0/1000 [00:00<?, ?it/s]"
      ]
     },
     "metadata": {},
     "output_type": "display_data"
    },
    {
     "name": "stdout",
     "output_type": "stream",
     "text": [
      "\u001b[34mINFO    \u001b[0m The SpatialData object is not self-contained \u001b[1m(\u001b[0mi.e. it contains some elements that are Dask-backed from    \n",
      "         locations outside C:\\Users\\hua01\\Desktop\\cwc\\SpatialMultimodal\\spd_new\\miso\\LEAP-013B_sdata.zarr\u001b[1m)\u001b[0m. Please \n",
      "         see the documentation of `\u001b[1;35mis_self_contained\u001b[0m\u001b[1m(\u001b[0m\u001b[1m)\u001b[0m` to understand the implications of working with SpatialData \n",
      "         objects that are not self-contained.                                                                      \n",
      "\u001b[34mINFO    \u001b[0m The Zarr backing store has been changed from                                                              \n",
      "         C:\\Users\\hua01\\Desktop\\cwc\\SpatialMultimodal\\spd_new\\UNI\\LEAP-013B_sdata.zarr the new file path:          \n",
      "         C:\\Users\\hua01\\Desktop\\cwc\\SpatialMultimodal\\spd_new\\miso\\LEAP-013B_sdata.zarr                            \n",
      "LEAP-014B\n"
     ]
    },
    {
     "data": {
      "application/vnd.jupyter.widget-view+json": {
       "model_id": "a1ab20e8fd6a4c36b096bf5b10bc537a",
       "version_major": 2,
       "version_minor": 0
      },
      "text/plain": [
       "Training network for modality 1:   0%|          | 0/1000 [00:00<?, ?it/s]"
      ]
     },
     "metadata": {},
     "output_type": "display_data"
    },
    {
     "data": {
      "application/vnd.jupyter.widget-view+json": {
       "model_id": "d1a2e9aef0db40fba885936352c7fbd5",
       "version_major": 2,
       "version_minor": 0
      },
      "text/plain": [
       "Training network for modality 2:   0%|          | 0/1000 [00:00<?, ?it/s]"
      ]
     },
     "metadata": {},
     "output_type": "display_data"
    },
    {
     "name": "stdout",
     "output_type": "stream",
     "text": [
      "\u001b[34mINFO    \u001b[0m The SpatialData object is not self-contained \u001b[1m(\u001b[0mi.e. it contains some elements that are Dask-backed from    \n",
      "         locations outside C:\\Users\\hua01\\Desktop\\cwc\\SpatialMultimodal\\spd_new\\miso\\LEAP-014B_sdata.zarr\u001b[1m)\u001b[0m. Please \n",
      "         see the documentation of `\u001b[1;35mis_self_contained\u001b[0m\u001b[1m(\u001b[0m\u001b[1m)\u001b[0m` to understand the implications of working with SpatialData \n",
      "         objects that are not self-contained.                                                                      \n",
      "\u001b[34mINFO    \u001b[0m The Zarr backing store has been changed from                                                              \n",
      "         C:\\Users\\hua01\\Desktop\\cwc\\SpatialMultimodal\\spd_new\\UNI\\LEAP-014B_sdata.zarr the new file path:          \n",
      "         C:\\Users\\hua01\\Desktop\\cwc\\SpatialMultimodal\\spd_new\\miso\\LEAP-014B_sdata.zarr                            \n",
      "LEAP-015A\n"
     ]
    },
    {
     "data": {
      "application/vnd.jupyter.widget-view+json": {
       "model_id": "1d75417c5b0a476788439cf27d681e44",
       "version_major": 2,
       "version_minor": 0
      },
      "text/plain": [
       "Training network for modality 1:   0%|          | 0/1000 [00:00<?, ?it/s]"
      ]
     },
     "metadata": {},
     "output_type": "display_data"
    },
    {
     "data": {
      "application/vnd.jupyter.widget-view+json": {
       "model_id": "1666a4b919794ee18a3ba9ba01a5715f",
       "version_major": 2,
       "version_minor": 0
      },
      "text/plain": [
       "Training network for modality 2:   0%|          | 0/1000 [00:00<?, ?it/s]"
      ]
     },
     "metadata": {},
     "output_type": "display_data"
    },
    {
     "name": "stdout",
     "output_type": "stream",
     "text": [
      "\u001b[34mINFO    \u001b[0m The SpatialData object is not self-contained \u001b[1m(\u001b[0mi.e. it contains some elements that are Dask-backed from    \n",
      "         locations outside C:\\Users\\hua01\\Desktop\\cwc\\SpatialMultimodal\\spd_new\\miso\\LEAP-015A_sdata.zarr\u001b[1m)\u001b[0m. Please \n",
      "         see the documentation of `\u001b[1;35mis_self_contained\u001b[0m\u001b[1m(\u001b[0m\u001b[1m)\u001b[0m` to understand the implications of working with SpatialData \n",
      "         objects that are not self-contained.                                                                      \n",
      "\u001b[34mINFO    \u001b[0m The Zarr backing store has been changed from                                                              \n",
      "         C:\\Users\\hua01\\Desktop\\cwc\\SpatialMultimodal\\spd_new\\UNI\\LEAP-015A_sdata.zarr the new file path:          \n",
      "         C:\\Users\\hua01\\Desktop\\cwc\\SpatialMultimodal\\spd_new\\miso\\LEAP-015A_sdata.zarr                            \n",
      "LEAP-017A\n"
     ]
    },
    {
     "data": {
      "application/vnd.jupyter.widget-view+json": {
       "model_id": "e939d963f793477f8ddd93da512e9ac3",
       "version_major": 2,
       "version_minor": 0
      },
      "text/plain": [
       "Training network for modality 1:   0%|          | 0/1000 [00:00<?, ?it/s]"
      ]
     },
     "metadata": {},
     "output_type": "display_data"
    },
    {
     "data": {
      "application/vnd.jupyter.widget-view+json": {
       "model_id": "64269622f3de4e75a19a8b3e323e751e",
       "version_major": 2,
       "version_minor": 0
      },
      "text/plain": [
       "Training network for modality 2:   0%|          | 0/1000 [00:00<?, ?it/s]"
      ]
     },
     "metadata": {},
     "output_type": "display_data"
    },
    {
     "name": "stdout",
     "output_type": "stream",
     "text": [
      "\u001b[34mINFO    \u001b[0m The SpatialData object is not self-contained \u001b[1m(\u001b[0mi.e. it contains some elements that are Dask-backed from    \n",
      "         locations outside C:\\Users\\hua01\\Desktop\\cwc\\SpatialMultimodal\\spd_new\\miso\\LEAP-017A_sdata.zarr\u001b[1m)\u001b[0m. Please \n",
      "         see the documentation of `\u001b[1;35mis_self_contained\u001b[0m\u001b[1m(\u001b[0m\u001b[1m)\u001b[0m` to understand the implications of working with SpatialData \n",
      "         objects that are not self-contained.                                                                      \n",
      "\u001b[34mINFO    \u001b[0m The Zarr backing store has been changed from                                                              \n",
      "         C:\\Users\\hua01\\Desktop\\cwc\\SpatialMultimodal\\spd_new\\UNI\\LEAP-017A_sdata.zarr the new file path:          \n",
      "         C:\\Users\\hua01\\Desktop\\cwc\\SpatialMultimodal\\spd_new\\miso\\LEAP-017A_sdata.zarr                            \n",
      "LEAP-017B\n"
     ]
    },
    {
     "data": {
      "application/vnd.jupyter.widget-view+json": {
       "model_id": "70c56257fc22412d8660610e443aaf47",
       "version_major": 2,
       "version_minor": 0
      },
      "text/plain": [
       "Training network for modality 1:   0%|          | 0/1000 [00:00<?, ?it/s]"
      ]
     },
     "metadata": {},
     "output_type": "display_data"
    },
    {
     "data": {
      "application/vnd.jupyter.widget-view+json": {
       "model_id": "56a4d593b4394d0b9b5138b919090a33",
       "version_major": 2,
       "version_minor": 0
      },
      "text/plain": [
       "Training network for modality 2:   0%|          | 0/1000 [00:00<?, ?it/s]"
      ]
     },
     "metadata": {},
     "output_type": "display_data"
    },
    {
     "name": "stdout",
     "output_type": "stream",
     "text": [
      "\u001b[34mINFO    \u001b[0m The SpatialData object is not self-contained \u001b[1m(\u001b[0mi.e. it contains some elements that are Dask-backed from    \n",
      "         locations outside C:\\Users\\hua01\\Desktop\\cwc\\SpatialMultimodal\\spd_new\\miso\\LEAP-017B_sdata.zarr\u001b[1m)\u001b[0m. Please \n",
      "         see the documentation of `\u001b[1;35mis_self_contained\u001b[0m\u001b[1m(\u001b[0m\u001b[1m)\u001b[0m` to understand the implications of working with SpatialData \n",
      "         objects that are not self-contained.                                                                      \n",
      "\u001b[34mINFO    \u001b[0m The Zarr backing store has been changed from                                                              \n",
      "         C:\\Users\\hua01\\Desktop\\cwc\\SpatialMultimodal\\spd_new\\UNI\\LEAP-017B_sdata.zarr the new file path:          \n",
      "         C:\\Users\\hua01\\Desktop\\cwc\\SpatialMultimodal\\spd_new\\miso\\LEAP-017B_sdata.zarr                            \n",
      "LEAP-018A\n"
     ]
    },
    {
     "data": {
      "application/vnd.jupyter.widget-view+json": {
       "model_id": "29e5adfe0c8f47d1a2ce5aa8b6ea51cb",
       "version_major": 2,
       "version_minor": 0
      },
      "text/plain": [
       "Training network for modality 1:   0%|          | 0/1000 [00:00<?, ?it/s]"
      ]
     },
     "metadata": {},
     "output_type": "display_data"
    },
    {
     "data": {
      "application/vnd.jupyter.widget-view+json": {
       "model_id": "d02c6ad84af44d09b530a4afd2c08281",
       "version_major": 2,
       "version_minor": 0
      },
      "text/plain": [
       "Training network for modality 2:   0%|          | 0/1000 [00:00<?, ?it/s]"
      ]
     },
     "metadata": {},
     "output_type": "display_data"
    },
    {
     "name": "stdout",
     "output_type": "stream",
     "text": [
      "\u001b[34mINFO    \u001b[0m The SpatialData object is not self-contained \u001b[1m(\u001b[0mi.e. it contains some elements that are Dask-backed from    \n",
      "         locations outside C:\\Users\\hua01\\Desktop\\cwc\\SpatialMultimodal\\spd_new\\miso\\LEAP-018A_sdata.zarr\u001b[1m)\u001b[0m. Please \n",
      "         see the documentation of `\u001b[1;35mis_self_contained\u001b[0m\u001b[1m(\u001b[0m\u001b[1m)\u001b[0m` to understand the implications of working with SpatialData \n",
      "         objects that are not self-contained.                                                                      \n",
      "\u001b[34mINFO    \u001b[0m The Zarr backing store has been changed from                                                              \n",
      "         C:\\Users\\hua01\\Desktop\\cwc\\SpatialMultimodal\\spd_new\\UNI\\LEAP-018A_sdata.zarr the new file path:          \n",
      "         C:\\Users\\hua01\\Desktop\\cwc\\SpatialMultimodal\\spd_new\\miso\\LEAP-018A_sdata.zarr                            \n",
      "LEAP-018B\n"
     ]
    },
    {
     "data": {
      "application/vnd.jupyter.widget-view+json": {
       "model_id": "973b2626f60341a4b3328f882c29201e",
       "version_major": 2,
       "version_minor": 0
      },
      "text/plain": [
       "Training network for modality 1:   0%|          | 0/1000 [00:00<?, ?it/s]"
      ]
     },
     "metadata": {},
     "output_type": "display_data"
    },
    {
     "data": {
      "application/vnd.jupyter.widget-view+json": {
       "model_id": "206685055be54df2a65af57b90bb4bc9",
       "version_major": 2,
       "version_minor": 0
      },
      "text/plain": [
       "Training network for modality 2:   0%|          | 0/1000 [00:00<?, ?it/s]"
      ]
     },
     "metadata": {},
     "output_type": "display_data"
    },
    {
     "name": "stdout",
     "output_type": "stream",
     "text": [
      "\u001b[34mINFO    \u001b[0m The SpatialData object is not self-contained \u001b[1m(\u001b[0mi.e. it contains some elements that are Dask-backed from    \n",
      "         locations outside C:\\Users\\hua01\\Desktop\\cwc\\SpatialMultimodal\\spd_new\\miso\\LEAP-018B_sdata.zarr\u001b[1m)\u001b[0m. Please \n",
      "         see the documentation of `\u001b[1;35mis_self_contained\u001b[0m\u001b[1m(\u001b[0m\u001b[1m)\u001b[0m` to understand the implications of working with SpatialData \n",
      "         objects that are not self-contained.                                                                      \n",
      "\u001b[34mINFO    \u001b[0m The Zarr backing store has been changed from                                                              \n",
      "         C:\\Users\\hua01\\Desktop\\cwc\\SpatialMultimodal\\spd_new\\UNI\\LEAP-018B_sdata.zarr the new file path:          \n",
      "         C:\\Users\\hua01\\Desktop\\cwc\\SpatialMultimodal\\spd_new\\miso\\LEAP-018B_sdata.zarr                            \n",
      "LEAP-019A\n"
     ]
    },
    {
     "data": {
      "application/vnd.jupyter.widget-view+json": {
       "model_id": "393cde5e27774734b25b25f61faf46a2",
       "version_major": 2,
       "version_minor": 0
      },
      "text/plain": [
       "Training network for modality 1:   0%|          | 0/1000 [00:00<?, ?it/s]"
      ]
     },
     "metadata": {},
     "output_type": "display_data"
    },
    {
     "data": {
      "application/vnd.jupyter.widget-view+json": {
       "model_id": "0297db472a7b44f489848f39a820bfc2",
       "version_major": 2,
       "version_minor": 0
      },
      "text/plain": [
       "Training network for modality 2:   0%|          | 0/1000 [00:00<?, ?it/s]"
      ]
     },
     "metadata": {},
     "output_type": "display_data"
    },
    {
     "name": "stdout",
     "output_type": "stream",
     "text": [
      "\u001b[34mINFO    \u001b[0m The SpatialData object is not self-contained \u001b[1m(\u001b[0mi.e. it contains some elements that are Dask-backed from    \n",
      "         locations outside C:\\Users\\hua01\\Desktop\\cwc\\SpatialMultimodal\\spd_new\\miso\\LEAP-019A_sdata.zarr\u001b[1m)\u001b[0m. Please \n",
      "         see the documentation of `\u001b[1;35mis_self_contained\u001b[0m\u001b[1m(\u001b[0m\u001b[1m)\u001b[0m` to understand the implications of working with SpatialData \n",
      "         objects that are not self-contained.                                                                      \n",
      "\u001b[34mINFO    \u001b[0m The Zarr backing store has been changed from                                                              \n",
      "         C:\\Users\\hua01\\Desktop\\cwc\\SpatialMultimodal\\spd_new\\UNI\\LEAP-019A_sdata.zarr the new file path:          \n",
      "         C:\\Users\\hua01\\Desktop\\cwc\\SpatialMultimodal\\spd_new\\miso\\LEAP-019A_sdata.zarr                            \n",
      "LEAP-019B\n"
     ]
    },
    {
     "data": {
      "application/vnd.jupyter.widget-view+json": {
       "model_id": "2e240f0b9fca4e92948051f04ae5bed0",
       "version_major": 2,
       "version_minor": 0
      },
      "text/plain": [
       "Training network for modality 1:   0%|          | 0/1000 [00:00<?, ?it/s]"
      ]
     },
     "metadata": {},
     "output_type": "display_data"
    },
    {
     "data": {
      "application/vnd.jupyter.widget-view+json": {
       "model_id": "2d46d192cf6b4fa99582a4d3a27df9c8",
       "version_major": 2,
       "version_minor": 0
      },
      "text/plain": [
       "Training network for modality 2:   0%|          | 0/1000 [00:00<?, ?it/s]"
      ]
     },
     "metadata": {},
     "output_type": "display_data"
    },
    {
     "name": "stdout",
     "output_type": "stream",
     "text": [
      "\u001b[34mINFO    \u001b[0m The SpatialData object is not self-contained \u001b[1m(\u001b[0mi.e. it contains some elements that are Dask-backed from    \n",
      "         locations outside C:\\Users\\hua01\\Desktop\\cwc\\SpatialMultimodal\\spd_new\\miso\\LEAP-019B_sdata.zarr\u001b[1m)\u001b[0m. Please \n",
      "         see the documentation of `\u001b[1;35mis_self_contained\u001b[0m\u001b[1m(\u001b[0m\u001b[1m)\u001b[0m` to understand the implications of working with SpatialData \n",
      "         objects that are not self-contained.                                                                      \n",
      "\u001b[34mINFO    \u001b[0m The Zarr backing store has been changed from                                                              \n",
      "         C:\\Users\\hua01\\Desktop\\cwc\\SpatialMultimodal\\spd_new\\UNI\\LEAP-019B_sdata.zarr the new file path:          \n",
      "         C:\\Users\\hua01\\Desktop\\cwc\\SpatialMultimodal\\spd_new\\miso\\LEAP-019B_sdata.zarr                            \n",
      "LEAP-020A\n"
     ]
    },
    {
     "data": {
      "application/vnd.jupyter.widget-view+json": {
       "model_id": "36f2c3b6c0bb40e68d2829fd5033293e",
       "version_major": 2,
       "version_minor": 0
      },
      "text/plain": [
       "Training network for modality 1:   0%|          | 0/1000 [00:00<?, ?it/s]"
      ]
     },
     "metadata": {},
     "output_type": "display_data"
    },
    {
     "data": {
      "application/vnd.jupyter.widget-view+json": {
       "model_id": "92d4650b38d44a9cb09173321368d175",
       "version_major": 2,
       "version_minor": 0
      },
      "text/plain": [
       "Training network for modality 2:   0%|          | 0/1000 [00:00<?, ?it/s]"
      ]
     },
     "metadata": {},
     "output_type": "display_data"
    },
    {
     "name": "stdout",
     "output_type": "stream",
     "text": [
      "\u001b[34mINFO    \u001b[0m The SpatialData object is not self-contained \u001b[1m(\u001b[0mi.e. it contains some elements that are Dask-backed from    \n",
      "         locations outside C:\\Users\\hua01\\Desktop\\cwc\\SpatialMultimodal\\spd_new\\miso\\LEAP-020A_sdata.zarr\u001b[1m)\u001b[0m. Please \n",
      "         see the documentation of `\u001b[1;35mis_self_contained\u001b[0m\u001b[1m(\u001b[0m\u001b[1m)\u001b[0m` to understand the implications of working with SpatialData \n",
      "         objects that are not self-contained.                                                                      \n",
      "\u001b[34mINFO    \u001b[0m The Zarr backing store has been changed from                                                              \n",
      "         C:\\Users\\hua01\\Desktop\\cwc\\SpatialMultimodal\\spd_new\\UNI\\LEAP-020A_sdata.zarr the new file path:          \n",
      "         C:\\Users\\hua01\\Desktop\\cwc\\SpatialMultimodal\\spd_new\\miso\\LEAP-020A_sdata.zarr                            \n",
      "LEAP-020B\n"
     ]
    },
    {
     "data": {
      "application/vnd.jupyter.widget-view+json": {
       "model_id": "b3ef1a6fe3c7458db088c04eca36ad70",
       "version_major": 2,
       "version_minor": 0
      },
      "text/plain": [
       "Training network for modality 1:   0%|          | 0/1000 [00:00<?, ?it/s]"
      ]
     },
     "metadata": {},
     "output_type": "display_data"
    },
    {
     "data": {
      "application/vnd.jupyter.widget-view+json": {
       "model_id": "a893c83600a5474dbc7ad7f10c09bcd1",
       "version_major": 2,
       "version_minor": 0
      },
      "text/plain": [
       "Training network for modality 2:   0%|          | 0/1000 [00:00<?, ?it/s]"
      ]
     },
     "metadata": {},
     "output_type": "display_data"
    },
    {
     "name": "stdout",
     "output_type": "stream",
     "text": [
      "\u001b[34mINFO    \u001b[0m The SpatialData object is not self-contained \u001b[1m(\u001b[0mi.e. it contains some elements that are Dask-backed from    \n",
      "         locations outside C:\\Users\\hua01\\Desktop\\cwc\\SpatialMultimodal\\spd_new\\miso\\LEAP-020B_sdata.zarr\u001b[1m)\u001b[0m. Please \n",
      "         see the documentation of `\u001b[1;35mis_self_contained\u001b[0m\u001b[1m(\u001b[0m\u001b[1m)\u001b[0m` to understand the implications of working with SpatialData \n",
      "         objects that are not self-contained.                                                                      \n",
      "\u001b[34mINFO    \u001b[0m The Zarr backing store has been changed from                                                              \n",
      "         C:\\Users\\hua01\\Desktop\\cwc\\SpatialMultimodal\\spd_new\\UNI\\LEAP-020B_sdata.zarr the new file path:          \n",
      "         C:\\Users\\hua01\\Desktop\\cwc\\SpatialMultimodal\\spd_new\\miso\\LEAP-020B_sdata.zarr                            \n",
      "LEAP-021A\n"
     ]
    },
    {
     "data": {
      "application/vnd.jupyter.widget-view+json": {
       "model_id": "4dc606f0c43744d7a98078d0906ba8f5",
       "version_major": 2,
       "version_minor": 0
      },
      "text/plain": [
       "Training network for modality 1:   0%|          | 0/1000 [00:00<?, ?it/s]"
      ]
     },
     "metadata": {},
     "output_type": "display_data"
    },
    {
     "data": {
      "application/vnd.jupyter.widget-view+json": {
       "model_id": "db4d193409a34d59a549cdac489d2e7e",
       "version_major": 2,
       "version_minor": 0
      },
      "text/plain": [
       "Training network for modality 2:   0%|          | 0/1000 [00:00<?, ?it/s]"
      ]
     },
     "metadata": {},
     "output_type": "display_data"
    },
    {
     "name": "stdout",
     "output_type": "stream",
     "text": [
      "\u001b[34mINFO    \u001b[0m The SpatialData object is not self-contained \u001b[1m(\u001b[0mi.e. it contains some elements that are Dask-backed from    \n",
      "         locations outside C:\\Users\\hua01\\Desktop\\cwc\\SpatialMultimodal\\spd_new\\miso\\LEAP-021A_sdata.zarr\u001b[1m)\u001b[0m. Please \n",
      "         see the documentation of `\u001b[1;35mis_self_contained\u001b[0m\u001b[1m(\u001b[0m\u001b[1m)\u001b[0m` to understand the implications of working with SpatialData \n",
      "         objects that are not self-contained.                                                                      \n",
      "\u001b[34mINFO    \u001b[0m The Zarr backing store has been changed from                                                              \n",
      "         C:\\Users\\hua01\\Desktop\\cwc\\SpatialMultimodal\\spd_new\\UNI\\LEAP-021A_sdata.zarr the new file path:          \n",
      "         C:\\Users\\hua01\\Desktop\\cwc\\SpatialMultimodal\\spd_new\\miso\\LEAP-021A_sdata.zarr                            \n",
      "LEAP-021B\n"
     ]
    },
    {
     "data": {
      "application/vnd.jupyter.widget-view+json": {
       "model_id": "869296c760004962b69fbe7554a3542a",
       "version_major": 2,
       "version_minor": 0
      },
      "text/plain": [
       "Training network for modality 1:   0%|          | 0/1000 [00:00<?, ?it/s]"
      ]
     },
     "metadata": {},
     "output_type": "display_data"
    },
    {
     "data": {
      "application/vnd.jupyter.widget-view+json": {
       "model_id": "e44b94b5a1b844a7ae4cda2872415504",
       "version_major": 2,
       "version_minor": 0
      },
      "text/plain": [
       "Training network for modality 2:   0%|          | 0/1000 [00:00<?, ?it/s]"
      ]
     },
     "metadata": {},
     "output_type": "display_data"
    },
    {
     "name": "stdout",
     "output_type": "stream",
     "text": [
      "\u001b[34mINFO    \u001b[0m The SpatialData object is not self-contained \u001b[1m(\u001b[0mi.e. it contains some elements that are Dask-backed from    \n",
      "         locations outside C:\\Users\\hua01\\Desktop\\cwc\\SpatialMultimodal\\spd_new\\miso\\LEAP-021B_sdata.zarr\u001b[1m)\u001b[0m. Please \n",
      "         see the documentation of `\u001b[1;35mis_self_contained\u001b[0m\u001b[1m(\u001b[0m\u001b[1m)\u001b[0m` to understand the implications of working with SpatialData \n",
      "         objects that are not self-contained.                                                                      \n",
      "\u001b[34mINFO    \u001b[0m The Zarr backing store has been changed from                                                              \n",
      "         C:\\Users\\hua01\\Desktop\\cwc\\SpatialMultimodal\\spd_new\\UNI\\LEAP-021B_sdata.zarr the new file path:          \n",
      "         C:\\Users\\hua01\\Desktop\\cwc\\SpatialMultimodal\\spd_new\\miso\\LEAP-021B_sdata.zarr                            \n",
      "LEAP-022B\n"
     ]
    },
    {
     "data": {
      "application/vnd.jupyter.widget-view+json": {
       "model_id": "f8bef64686054204a0493093ca5f2242",
       "version_major": 2,
       "version_minor": 0
      },
      "text/plain": [
       "Training network for modality 1:   0%|          | 0/1000 [00:00<?, ?it/s]"
      ]
     },
     "metadata": {},
     "output_type": "display_data"
    },
    {
     "data": {
      "application/vnd.jupyter.widget-view+json": {
       "model_id": "ce98401cc0c145839811f4bec0b4c50a",
       "version_major": 2,
       "version_minor": 0
      },
      "text/plain": [
       "Training network for modality 2:   0%|          | 0/1000 [00:00<?, ?it/s]"
      ]
     },
     "metadata": {},
     "output_type": "display_data"
    },
    {
     "name": "stdout",
     "output_type": "stream",
     "text": [
      "\u001b[34mINFO    \u001b[0m The SpatialData object is not self-contained \u001b[1m(\u001b[0mi.e. it contains some elements that are Dask-backed from    \n",
      "         locations outside C:\\Users\\hua01\\Desktop\\cwc\\SpatialMultimodal\\spd_new\\miso\\LEAP-022B_sdata.zarr\u001b[1m)\u001b[0m. Please \n",
      "         see the documentation of `\u001b[1;35mis_self_contained\u001b[0m\u001b[1m(\u001b[0m\u001b[1m)\u001b[0m` to understand the implications of working with SpatialData \n",
      "         objects that are not self-contained.                                                                      \n",
      "\u001b[34mINFO    \u001b[0m The Zarr backing store has been changed from                                                              \n",
      "         C:\\Users\\hua01\\Desktop\\cwc\\SpatialMultimodal\\spd_new\\UNI\\LEAP-022B_sdata.zarr the new file path:          \n",
      "         C:\\Users\\hua01\\Desktop\\cwc\\SpatialMultimodal\\spd_new\\miso\\LEAP-022B_sdata.zarr                            \n",
      "LEAP-023A\n"
     ]
    },
    {
     "data": {
      "application/vnd.jupyter.widget-view+json": {
       "model_id": "96fbc3ecedf244e49eacebb87f926214",
       "version_major": 2,
       "version_minor": 0
      },
      "text/plain": [
       "Training network for modality 1:   0%|          | 0/1000 [00:00<?, ?it/s]"
      ]
     },
     "metadata": {},
     "output_type": "display_data"
    },
    {
     "data": {
      "application/vnd.jupyter.widget-view+json": {
       "model_id": "095d65a21a2b498b814bf07d1dc3bae7",
       "version_major": 2,
       "version_minor": 0
      },
      "text/plain": [
       "Training network for modality 2:   0%|          | 0/1000 [00:00<?, ?it/s]"
      ]
     },
     "metadata": {},
     "output_type": "display_data"
    },
    {
     "name": "stdout",
     "output_type": "stream",
     "text": [
      "\u001b[34mINFO    \u001b[0m The SpatialData object is not self-contained \u001b[1m(\u001b[0mi.e. it contains some elements that are Dask-backed from    \n",
      "         locations outside C:\\Users\\hua01\\Desktop\\cwc\\SpatialMultimodal\\spd_new\\miso\\LEAP-023A_sdata.zarr\u001b[1m)\u001b[0m. Please \n",
      "         see the documentation of `\u001b[1;35mis_self_contained\u001b[0m\u001b[1m(\u001b[0m\u001b[1m)\u001b[0m` to understand the implications of working with SpatialData \n",
      "         objects that are not self-contained.                                                                      \n",
      "\u001b[34mINFO    \u001b[0m The Zarr backing store has been changed from                                                              \n",
      "         C:\\Users\\hua01\\Desktop\\cwc\\SpatialMultimodal\\spd_new\\UNI\\LEAP-023A_sdata.zarr the new file path:          \n",
      "         C:\\Users\\hua01\\Desktop\\cwc\\SpatialMultimodal\\spd_new\\miso\\LEAP-023A_sdata.zarr                            \n",
      "LEAP-023B\n"
     ]
    },
    {
     "data": {
      "application/vnd.jupyter.widget-view+json": {
       "model_id": "5df015ea920c47bb9e829f12de85c50b",
       "version_major": 2,
       "version_minor": 0
      },
      "text/plain": [
       "Training network for modality 1:   0%|          | 0/1000 [00:00<?, ?it/s]"
      ]
     },
     "metadata": {},
     "output_type": "display_data"
    },
    {
     "data": {
      "application/vnd.jupyter.widget-view+json": {
       "model_id": "ade1904ed27b4127a3131fc0ce16ee1f",
       "version_major": 2,
       "version_minor": 0
      },
      "text/plain": [
       "Training network for modality 2:   0%|          | 0/1000 [00:00<?, ?it/s]"
      ]
     },
     "metadata": {},
     "output_type": "display_data"
    },
    {
     "name": "stdout",
     "output_type": "stream",
     "text": [
      "\u001b[34mINFO    \u001b[0m The SpatialData object is not self-contained \u001b[1m(\u001b[0mi.e. it contains some elements that are Dask-backed from    \n",
      "         locations outside C:\\Users\\hua01\\Desktop\\cwc\\SpatialMultimodal\\spd_new\\miso\\LEAP-023B_sdata.zarr\u001b[1m)\u001b[0m. Please \n",
      "         see the documentation of `\u001b[1;35mis_self_contained\u001b[0m\u001b[1m(\u001b[0m\u001b[1m)\u001b[0m` to understand the implications of working with SpatialData \n",
      "         objects that are not self-contained.                                                                      \n",
      "\u001b[34mINFO    \u001b[0m The Zarr backing store has been changed from                                                              \n",
      "         C:\\Users\\hua01\\Desktop\\cwc\\SpatialMultimodal\\spd_new\\UNI\\LEAP-023B_sdata.zarr the new file path:          \n",
      "         C:\\Users\\hua01\\Desktop\\cwc\\SpatialMultimodal\\spd_new\\miso\\LEAP-023B_sdata.zarr                            \n",
      "LEAP-024A\n"
     ]
    },
    {
     "data": {
      "application/vnd.jupyter.widget-view+json": {
       "model_id": "543165dba6ee41d3b863baab5c804d82",
       "version_major": 2,
       "version_minor": 0
      },
      "text/plain": [
       "Training network for modality 1:   0%|          | 0/1000 [00:00<?, ?it/s]"
      ]
     },
     "metadata": {},
     "output_type": "display_data"
    },
    {
     "data": {
      "application/vnd.jupyter.widget-view+json": {
       "model_id": "c6d88eef6775424e99a00751d8a6f435",
       "version_major": 2,
       "version_minor": 0
      },
      "text/plain": [
       "Training network for modality 2:   0%|          | 0/1000 [00:00<?, ?it/s]"
      ]
     },
     "metadata": {},
     "output_type": "display_data"
    },
    {
     "name": "stdout",
     "output_type": "stream",
     "text": [
      "\u001b[34mINFO    \u001b[0m The SpatialData object is not self-contained \u001b[1m(\u001b[0mi.e. it contains some elements that are Dask-backed from    \n",
      "         locations outside C:\\Users\\hua01\\Desktop\\cwc\\SpatialMultimodal\\spd_new\\miso\\LEAP-024A_sdata.zarr\u001b[1m)\u001b[0m. Please \n",
      "         see the documentation of `\u001b[1;35mis_self_contained\u001b[0m\u001b[1m(\u001b[0m\u001b[1m)\u001b[0m` to understand the implications of working with SpatialData \n",
      "         objects that are not self-contained.                                                                      \n",
      "\u001b[34mINFO    \u001b[0m The Zarr backing store has been changed from                                                              \n",
      "         C:\\Users\\hua01\\Desktop\\cwc\\SpatialMultimodal\\spd_new\\UNI\\LEAP-024A_sdata.zarr the new file path:          \n",
      "         C:\\Users\\hua01\\Desktop\\cwc\\SpatialMultimodal\\spd_new\\miso\\LEAP-024A_sdata.zarr                            \n",
      "LEAP-024B\n"
     ]
    },
    {
     "data": {
      "application/vnd.jupyter.widget-view+json": {
       "model_id": "2de57eccb77d43f39836ac6de8095c2e",
       "version_major": 2,
       "version_minor": 0
      },
      "text/plain": [
       "Training network for modality 1:   0%|          | 0/1000 [00:00<?, ?it/s]"
      ]
     },
     "metadata": {},
     "output_type": "display_data"
    },
    {
     "data": {
      "application/vnd.jupyter.widget-view+json": {
       "model_id": "9a11a3a021534727972de196d3a3ce21",
       "version_major": 2,
       "version_minor": 0
      },
      "text/plain": [
       "Training network for modality 2:   0%|          | 0/1000 [00:00<?, ?it/s]"
      ]
     },
     "metadata": {},
     "output_type": "display_data"
    },
    {
     "name": "stdout",
     "output_type": "stream",
     "text": [
      "\u001b[34mINFO    \u001b[0m The SpatialData object is not self-contained \u001b[1m(\u001b[0mi.e. it contains some elements that are Dask-backed from    \n",
      "         locations outside C:\\Users\\hua01\\Desktop\\cwc\\SpatialMultimodal\\spd_new\\miso\\LEAP-024B_sdata.zarr\u001b[1m)\u001b[0m. Please \n",
      "         see the documentation of `\u001b[1;35mis_self_contained\u001b[0m\u001b[1m(\u001b[0m\u001b[1m)\u001b[0m` to understand the implications of working with SpatialData \n",
      "         objects that are not self-contained.                                                                      \n",
      "\u001b[34mINFO    \u001b[0m The Zarr backing store has been changed from                                                              \n",
      "         C:\\Users\\hua01\\Desktop\\cwc\\SpatialMultimodal\\spd_new\\UNI\\LEAP-024B_sdata.zarr the new file path:          \n",
      "         C:\\Users\\hua01\\Desktop\\cwc\\SpatialMultimodal\\spd_new\\miso\\LEAP-024B_sdata.zarr                            \n",
      "LEAP-026B\n"
     ]
    },
    {
     "data": {
      "application/vnd.jupyter.widget-view+json": {
       "model_id": "1ab128c54ed340a08d71ad7a2a195e2d",
       "version_major": 2,
       "version_minor": 0
      },
      "text/plain": [
       "Training network for modality 1:   0%|          | 0/1000 [00:00<?, ?it/s]"
      ]
     },
     "metadata": {},
     "output_type": "display_data"
    },
    {
     "data": {
      "application/vnd.jupyter.widget-view+json": {
       "model_id": "75811e5c4e73404184997bc6e95c65e2",
       "version_major": 2,
       "version_minor": 0
      },
      "text/plain": [
       "Training network for modality 2:   0%|          | 0/1000 [00:00<?, ?it/s]"
      ]
     },
     "metadata": {},
     "output_type": "display_data"
    },
    {
     "name": "stdout",
     "output_type": "stream",
     "text": [
      "\u001b[34mINFO    \u001b[0m The SpatialData object is not self-contained \u001b[1m(\u001b[0mi.e. it contains some elements that are Dask-backed from    \n",
      "         locations outside C:\\Users\\hua01\\Desktop\\cwc\\SpatialMultimodal\\spd_new\\miso\\LEAP-026B_sdata.zarr\u001b[1m)\u001b[0m. Please \n",
      "         see the documentation of `\u001b[1;35mis_self_contained\u001b[0m\u001b[1m(\u001b[0m\u001b[1m)\u001b[0m` to understand the implications of working with SpatialData \n",
      "         objects that are not self-contained.                                                                      \n",
      "\u001b[34mINFO    \u001b[0m The Zarr backing store has been changed from                                                              \n",
      "         C:\\Users\\hua01\\Desktop\\cwc\\SpatialMultimodal\\spd_new\\UNI\\LEAP-026B_sdata.zarr the new file path:          \n",
      "         C:\\Users\\hua01\\Desktop\\cwc\\SpatialMultimodal\\spd_new\\miso\\LEAP-026B_sdata.zarr                            \n",
      "LEAP-027A\n"
     ]
    },
    {
     "data": {
      "application/vnd.jupyter.widget-view+json": {
       "model_id": "a35f005e08b144798bdfcae18143e8af",
       "version_major": 2,
       "version_minor": 0
      },
      "text/plain": [
       "Training network for modality 1:   0%|          | 0/1000 [00:00<?, ?it/s]"
      ]
     },
     "metadata": {},
     "output_type": "display_data"
    },
    {
     "data": {
      "application/vnd.jupyter.widget-view+json": {
       "model_id": "935f028402884602ab6820c1114df040",
       "version_major": 2,
       "version_minor": 0
      },
      "text/plain": [
       "Training network for modality 2:   0%|          | 0/1000 [00:00<?, ?it/s]"
      ]
     },
     "metadata": {},
     "output_type": "display_data"
    },
    {
     "name": "stdout",
     "output_type": "stream",
     "text": [
      "\u001b[34mINFO    \u001b[0m The SpatialData object is not self-contained \u001b[1m(\u001b[0mi.e. it contains some elements that are Dask-backed from    \n",
      "         locations outside C:\\Users\\hua01\\Desktop\\cwc\\SpatialMultimodal\\spd_new\\miso\\LEAP-027A_sdata.zarr\u001b[1m)\u001b[0m. Please \n",
      "         see the documentation of `\u001b[1;35mis_self_contained\u001b[0m\u001b[1m(\u001b[0m\u001b[1m)\u001b[0m` to understand the implications of working with SpatialData \n",
      "         objects that are not self-contained.                                                                      \n",
      "\u001b[34mINFO    \u001b[0m The Zarr backing store has been changed from                                                              \n",
      "         C:\\Users\\hua01\\Desktop\\cwc\\SpatialMultimodal\\spd_new\\UNI\\LEAP-027A_sdata.zarr the new file path:          \n",
      "         C:\\Users\\hua01\\Desktop\\cwc\\SpatialMultimodal\\spd_new\\miso\\LEAP-027A_sdata.zarr                            \n",
      "LEAP-027B\n"
     ]
    },
    {
     "data": {
      "application/vnd.jupyter.widget-view+json": {
       "model_id": "5ccaf3649da4447da90b10aaa6b66712",
       "version_major": 2,
       "version_minor": 0
      },
      "text/plain": [
       "Training network for modality 1:   0%|          | 0/1000 [00:00<?, ?it/s]"
      ]
     },
     "metadata": {},
     "output_type": "display_data"
    },
    {
     "data": {
      "application/vnd.jupyter.widget-view+json": {
       "model_id": "063af9f59c2a4e2bb19404d9b4303db9",
       "version_major": 2,
       "version_minor": 0
      },
      "text/plain": [
       "Training network for modality 2:   0%|          | 0/1000 [00:00<?, ?it/s]"
      ]
     },
     "metadata": {},
     "output_type": "display_data"
    },
    {
     "name": "stdout",
     "output_type": "stream",
     "text": [
      "\u001b[34mINFO    \u001b[0m The SpatialData object is not self-contained \u001b[1m(\u001b[0mi.e. it contains some elements that are Dask-backed from    \n",
      "         locations outside C:\\Users\\hua01\\Desktop\\cwc\\SpatialMultimodal\\spd_new\\miso\\LEAP-027B_sdata.zarr\u001b[1m)\u001b[0m. Please \n",
      "         see the documentation of `\u001b[1;35mis_self_contained\u001b[0m\u001b[1m(\u001b[0m\u001b[1m)\u001b[0m` to understand the implications of working with SpatialData \n",
      "         objects that are not self-contained.                                                                      \n",
      "\u001b[34mINFO    \u001b[0m The Zarr backing store has been changed from                                                              \n",
      "         C:\\Users\\hua01\\Desktop\\cwc\\SpatialMultimodal\\spd_new\\UNI\\LEAP-027B_sdata.zarr the new file path:          \n",
      "         C:\\Users\\hua01\\Desktop\\cwc\\SpatialMultimodal\\spd_new\\miso\\LEAP-027B_sdata.zarr                            \n",
      "LEAP-028B\n"
     ]
    },
    {
     "data": {
      "application/vnd.jupyter.widget-view+json": {
       "model_id": "64880ff1cf554dd5acba5f24c5a7c8c8",
       "version_major": 2,
       "version_minor": 0
      },
      "text/plain": [
       "Training network for modality 1:   0%|          | 0/1000 [00:00<?, ?it/s]"
      ]
     },
     "metadata": {},
     "output_type": "display_data"
    },
    {
     "data": {
      "application/vnd.jupyter.widget-view+json": {
       "model_id": "a60a425a9a4b423188173be3cbbbfcd4",
       "version_major": 2,
       "version_minor": 0
      },
      "text/plain": [
       "Training network for modality 2:   0%|          | 0/1000 [00:00<?, ?it/s]"
      ]
     },
     "metadata": {},
     "output_type": "display_data"
    },
    {
     "name": "stdout",
     "output_type": "stream",
     "text": [
      "\u001b[34mINFO    \u001b[0m The SpatialData object is not self-contained \u001b[1m(\u001b[0mi.e. it contains some elements that are Dask-backed from    \n",
      "         locations outside C:\\Users\\hua01\\Desktop\\cwc\\SpatialMultimodal\\spd_new\\miso\\LEAP-028B_sdata.zarr\u001b[1m)\u001b[0m. Please \n",
      "         see the documentation of `\u001b[1;35mis_self_contained\u001b[0m\u001b[1m(\u001b[0m\u001b[1m)\u001b[0m` to understand the implications of working with SpatialData \n",
      "         objects that are not self-contained.                                                                      \n",
      "\u001b[34mINFO    \u001b[0m The Zarr backing store has been changed from                                                              \n",
      "         C:\\Users\\hua01\\Desktop\\cwc\\SpatialMultimodal\\spd_new\\UNI\\LEAP-028B_sdata.zarr the new file path:          \n",
      "         C:\\Users\\hua01\\Desktop\\cwc\\SpatialMultimodal\\spd_new\\miso\\LEAP-028B_sdata.zarr                            \n",
      "LEAP-029A\n"
     ]
    },
    {
     "data": {
      "application/vnd.jupyter.widget-view+json": {
       "model_id": "5b909078de4146ff9b961a9b389f50e3",
       "version_major": 2,
       "version_minor": 0
      },
      "text/plain": [
       "Training network for modality 1:   0%|          | 0/1000 [00:00<?, ?it/s]"
      ]
     },
     "metadata": {},
     "output_type": "display_data"
    },
    {
     "data": {
      "application/vnd.jupyter.widget-view+json": {
       "model_id": "b067a0703a2047a7b7623b76f925e8e9",
       "version_major": 2,
       "version_minor": 0
      },
      "text/plain": [
       "Training network for modality 2:   0%|          | 0/1000 [00:00<?, ?it/s]"
      ]
     },
     "metadata": {},
     "output_type": "display_data"
    },
    {
     "name": "stdout",
     "output_type": "stream",
     "text": [
      "\u001b[34mINFO    \u001b[0m The SpatialData object is not self-contained \u001b[1m(\u001b[0mi.e. it contains some elements that are Dask-backed from    \n",
      "         locations outside C:\\Users\\hua01\\Desktop\\cwc\\SpatialMultimodal\\spd_new\\miso\\LEAP-029A_sdata.zarr\u001b[1m)\u001b[0m. Please \n",
      "         see the documentation of `\u001b[1;35mis_self_contained\u001b[0m\u001b[1m(\u001b[0m\u001b[1m)\u001b[0m` to understand the implications of working with SpatialData \n",
      "         objects that are not self-contained.                                                                      \n",
      "\u001b[34mINFO    \u001b[0m The Zarr backing store has been changed from                                                              \n",
      "         C:\\Users\\hua01\\Desktop\\cwc\\SpatialMultimodal\\spd_new\\UNI\\LEAP-029A_sdata.zarr the new file path:          \n",
      "         C:\\Users\\hua01\\Desktop\\cwc\\SpatialMultimodal\\spd_new\\miso\\LEAP-029A_sdata.zarr                            \n",
      "LEAP-029B\n"
     ]
    },
    {
     "data": {
      "application/vnd.jupyter.widget-view+json": {
       "model_id": "a0ed62cd35d444eea8a616364959a110",
       "version_major": 2,
       "version_minor": 0
      },
      "text/plain": [
       "Training network for modality 1:   0%|          | 0/1000 [00:00<?, ?it/s]"
      ]
     },
     "metadata": {},
     "output_type": "display_data"
    },
    {
     "data": {
      "application/vnd.jupyter.widget-view+json": {
       "model_id": "036ab83fbb444fb3a8fe401e6587aa70",
       "version_major": 2,
       "version_minor": 0
      },
      "text/plain": [
       "Training network for modality 2:   0%|          | 0/1000 [00:00<?, ?it/s]"
      ]
     },
     "metadata": {},
     "output_type": "display_data"
    },
    {
     "name": "stdout",
     "output_type": "stream",
     "text": [
      "\u001b[34mINFO    \u001b[0m The SpatialData object is not self-contained \u001b[1m(\u001b[0mi.e. it contains some elements that are Dask-backed from    \n",
      "         locations outside C:\\Users\\hua01\\Desktop\\cwc\\SpatialMultimodal\\spd_new\\miso\\LEAP-029B_sdata.zarr\u001b[1m)\u001b[0m. Please \n",
      "         see the documentation of `\u001b[1;35mis_self_contained\u001b[0m\u001b[1m(\u001b[0m\u001b[1m)\u001b[0m` to understand the implications of working with SpatialData \n",
      "         objects that are not self-contained.                                                                      \n",
      "\u001b[34mINFO    \u001b[0m The Zarr backing store has been changed from                                                              \n",
      "         C:\\Users\\hua01\\Desktop\\cwc\\SpatialMultimodal\\spd_new\\UNI\\LEAP-029B_sdata.zarr the new file path:          \n",
      "         C:\\Users\\hua01\\Desktop\\cwc\\SpatialMultimodal\\spd_new\\miso\\LEAP-029B_sdata.zarr                            \n",
      "LEAP-031A\n"
     ]
    },
    {
     "data": {
      "application/vnd.jupyter.widget-view+json": {
       "model_id": "f3d3f9e36d244c25b458fe7044427d3f",
       "version_major": 2,
       "version_minor": 0
      },
      "text/plain": [
       "Training network for modality 1:   0%|          | 0/1000 [00:00<?, ?it/s]"
      ]
     },
     "metadata": {},
     "output_type": "display_data"
    },
    {
     "data": {
      "application/vnd.jupyter.widget-view+json": {
       "model_id": "4ead61bdff7142008c5b873e99c8a53a",
       "version_major": 2,
       "version_minor": 0
      },
      "text/plain": [
       "Training network for modality 2:   0%|          | 0/1000 [00:00<?, ?it/s]"
      ]
     },
     "metadata": {},
     "output_type": "display_data"
    },
    {
     "name": "stdout",
     "output_type": "stream",
     "text": [
      "\u001b[34mINFO    \u001b[0m The SpatialData object is not self-contained \u001b[1m(\u001b[0mi.e. it contains some elements that are Dask-backed from    \n",
      "         locations outside C:\\Users\\hua01\\Desktop\\cwc\\SpatialMultimodal\\spd_new\\miso\\LEAP-031A_sdata.zarr\u001b[1m)\u001b[0m. Please \n",
      "         see the documentation of `\u001b[1;35mis_self_contained\u001b[0m\u001b[1m(\u001b[0m\u001b[1m)\u001b[0m` to understand the implications of working with SpatialData \n",
      "         objects that are not self-contained.                                                                      \n",
      "\u001b[34mINFO    \u001b[0m The Zarr backing store has been changed from                                                              \n",
      "         C:\\Users\\hua01\\Desktop\\cwc\\SpatialMultimodal\\spd_new\\UNI\\LEAP-031A_sdata.zarr the new file path:          \n",
      "         C:\\Users\\hua01\\Desktop\\cwc\\SpatialMultimodal\\spd_new\\miso\\LEAP-031A_sdata.zarr                            \n",
      "LEAP-031B\n"
     ]
    },
    {
     "data": {
      "application/vnd.jupyter.widget-view+json": {
       "model_id": "ed36d04a871c437e9d3cb342a4e1880e",
       "version_major": 2,
       "version_minor": 0
      },
      "text/plain": [
       "Training network for modality 1:   0%|          | 0/1000 [00:00<?, ?it/s]"
      ]
     },
     "metadata": {},
     "output_type": "display_data"
    },
    {
     "data": {
      "application/vnd.jupyter.widget-view+json": {
       "model_id": "40e69cdc63fd49de92211799a2d2d9cd",
       "version_major": 2,
       "version_minor": 0
      },
      "text/plain": [
       "Training network for modality 2:   0%|          | 0/1000 [00:00<?, ?it/s]"
      ]
     },
     "metadata": {},
     "output_type": "display_data"
    },
    {
     "name": "stdout",
     "output_type": "stream",
     "text": [
      "\u001b[34mINFO    \u001b[0m The SpatialData object is not self-contained \u001b[1m(\u001b[0mi.e. it contains some elements that are Dask-backed from    \n",
      "         locations outside C:\\Users\\hua01\\Desktop\\cwc\\SpatialMultimodal\\spd_new\\miso\\LEAP-031B_sdata.zarr\u001b[1m)\u001b[0m. Please \n",
      "         see the documentation of `\u001b[1;35mis_self_contained\u001b[0m\u001b[1m(\u001b[0m\u001b[1m)\u001b[0m` to understand the implications of working with SpatialData \n",
      "         objects that are not self-contained.                                                                      \n",
      "\u001b[34mINFO    \u001b[0m The Zarr backing store has been changed from                                                              \n",
      "         C:\\Users\\hua01\\Desktop\\cwc\\SpatialMultimodal\\spd_new\\UNI\\LEAP-031B_sdata.zarr the new file path:          \n",
      "         C:\\Users\\hua01\\Desktop\\cwc\\SpatialMultimodal\\spd_new\\miso\\LEAP-031B_sdata.zarr                            \n",
      "LEAP-032B\n"
     ]
    },
    {
     "data": {
      "application/vnd.jupyter.widget-view+json": {
       "model_id": "fd10dc63bc4148c39fd18ca270dcb2dc",
       "version_major": 2,
       "version_minor": 0
      },
      "text/plain": [
       "Training network for modality 1:   0%|          | 0/1000 [00:00<?, ?it/s]"
      ]
     },
     "metadata": {},
     "output_type": "display_data"
    },
    {
     "data": {
      "application/vnd.jupyter.widget-view+json": {
       "model_id": "1244beaaab3142c48b5a07f3308eebe5",
       "version_major": 2,
       "version_minor": 0
      },
      "text/plain": [
       "Training network for modality 2:   0%|          | 0/1000 [00:00<?, ?it/s]"
      ]
     },
     "metadata": {},
     "output_type": "display_data"
    },
    {
     "name": "stdout",
     "output_type": "stream",
     "text": [
      "\u001b[34mINFO    \u001b[0m The SpatialData object is not self-contained \u001b[1m(\u001b[0mi.e. it contains some elements that are Dask-backed from    \n",
      "         locations outside C:\\Users\\hua01\\Desktop\\cwc\\SpatialMultimodal\\spd_new\\miso\\LEAP-032B_sdata.zarr\u001b[1m)\u001b[0m. Please \n",
      "         see the documentation of `\u001b[1;35mis_self_contained\u001b[0m\u001b[1m(\u001b[0m\u001b[1m)\u001b[0m` to understand the implications of working with SpatialData \n",
      "         objects that are not self-contained.                                                                      \n",
      "\u001b[34mINFO    \u001b[0m The Zarr backing store has been changed from                                                              \n",
      "         C:\\Users\\hua01\\Desktop\\cwc\\SpatialMultimodal\\spd_new\\UNI\\LEAP-032B_sdata.zarr the new file path:          \n",
      "         C:\\Users\\hua01\\Desktop\\cwc\\SpatialMultimodal\\spd_new\\miso\\LEAP-032B_sdata.zarr                            \n",
      "LEAP-033A\n"
     ]
    },
    {
     "data": {
      "application/vnd.jupyter.widget-view+json": {
       "model_id": "9013fc9b0d8a44149db7d44fb58dd999",
       "version_major": 2,
       "version_minor": 0
      },
      "text/plain": [
       "Training network for modality 1:   0%|          | 0/1000 [00:00<?, ?it/s]"
      ]
     },
     "metadata": {},
     "output_type": "display_data"
    },
    {
     "data": {
      "application/vnd.jupyter.widget-view+json": {
       "model_id": "a26d6ccef0234ba1ac7db29c9fb49924",
       "version_major": 2,
       "version_minor": 0
      },
      "text/plain": [
       "Training network for modality 2:   0%|          | 0/1000 [00:00<?, ?it/s]"
      ]
     },
     "metadata": {},
     "output_type": "display_data"
    },
    {
     "name": "stdout",
     "output_type": "stream",
     "text": [
      "\u001b[34mINFO    \u001b[0m The SpatialData object is not self-contained \u001b[1m(\u001b[0mi.e. it contains some elements that are Dask-backed from    \n",
      "         locations outside C:\\Users\\hua01\\Desktop\\cwc\\SpatialMultimodal\\spd_new\\miso\\LEAP-033A_sdata.zarr\u001b[1m)\u001b[0m. Please \n",
      "         see the documentation of `\u001b[1;35mis_self_contained\u001b[0m\u001b[1m(\u001b[0m\u001b[1m)\u001b[0m` to understand the implications of working with SpatialData \n",
      "         objects that are not self-contained.                                                                      \n",
      "\u001b[34mINFO    \u001b[0m The Zarr backing store has been changed from                                                              \n",
      "         C:\\Users\\hua01\\Desktop\\cwc\\SpatialMultimodal\\spd_new\\UNI\\LEAP-033A_sdata.zarr the new file path:          \n",
      "         C:\\Users\\hua01\\Desktop\\cwc\\SpatialMultimodal\\spd_new\\miso\\LEAP-033A_sdata.zarr                            \n",
      "LEAP-033B\n"
     ]
    },
    {
     "data": {
      "application/vnd.jupyter.widget-view+json": {
       "model_id": "bb3de127ed1d404ebd7ea0d3ed9331d0",
       "version_major": 2,
       "version_minor": 0
      },
      "text/plain": [
       "Training network for modality 1:   0%|          | 0/1000 [00:00<?, ?it/s]"
      ]
     },
     "metadata": {},
     "output_type": "display_data"
    },
    {
     "data": {
      "application/vnd.jupyter.widget-view+json": {
       "model_id": "fb9c6cabca104ac9b1282ea5a2bd9841",
       "version_major": 2,
       "version_minor": 0
      },
      "text/plain": [
       "Training network for modality 2:   0%|          | 0/1000 [00:00<?, ?it/s]"
      ]
     },
     "metadata": {},
     "output_type": "display_data"
    },
    {
     "name": "stdout",
     "output_type": "stream",
     "text": [
      "\u001b[34mINFO    \u001b[0m The SpatialData object is not self-contained \u001b[1m(\u001b[0mi.e. it contains some elements that are Dask-backed from    \n",
      "         locations outside C:\\Users\\hua01\\Desktop\\cwc\\SpatialMultimodal\\spd_new\\miso\\LEAP-033B_sdata.zarr\u001b[1m)\u001b[0m. Please \n",
      "         see the documentation of `\u001b[1;35mis_self_contained\u001b[0m\u001b[1m(\u001b[0m\u001b[1m)\u001b[0m` to understand the implications of working with SpatialData \n",
      "         objects that are not self-contained.                                                                      \n",
      "\u001b[34mINFO    \u001b[0m The Zarr backing store has been changed from                                                              \n",
      "         C:\\Users\\hua01\\Desktop\\cwc\\SpatialMultimodal\\spd_new\\UNI\\LEAP-033B_sdata.zarr the new file path:          \n",
      "         C:\\Users\\hua01\\Desktop\\cwc\\SpatialMultimodal\\spd_new\\miso\\LEAP-033B_sdata.zarr                            \n",
      "LEAP-034A\n"
     ]
    },
    {
     "data": {
      "application/vnd.jupyter.widget-view+json": {
       "model_id": "5a16166573884418a5c9020d286eebbe",
       "version_major": 2,
       "version_minor": 0
      },
      "text/plain": [
       "Training network for modality 1:   0%|          | 0/1000 [00:00<?, ?it/s]"
      ]
     },
     "metadata": {},
     "output_type": "display_data"
    },
    {
     "data": {
      "application/vnd.jupyter.widget-view+json": {
       "model_id": "8822f0895c224f8aac7a83deec82d9be",
       "version_major": 2,
       "version_minor": 0
      },
      "text/plain": [
       "Training network for modality 2:   0%|          | 0/1000 [00:00<?, ?it/s]"
      ]
     },
     "metadata": {},
     "output_type": "display_data"
    },
    {
     "name": "stdout",
     "output_type": "stream",
     "text": [
      "\u001b[34mINFO    \u001b[0m The SpatialData object is not self-contained \u001b[1m(\u001b[0mi.e. it contains some elements that are Dask-backed from    \n",
      "         locations outside C:\\Users\\hua01\\Desktop\\cwc\\SpatialMultimodal\\spd_new\\miso\\LEAP-034A_sdata.zarr\u001b[1m)\u001b[0m. Please \n",
      "         see the documentation of `\u001b[1;35mis_self_contained\u001b[0m\u001b[1m(\u001b[0m\u001b[1m)\u001b[0m` to understand the implications of working with SpatialData \n",
      "         objects that are not self-contained.                                                                      \n",
      "\u001b[34mINFO    \u001b[0m The Zarr backing store has been changed from                                                              \n",
      "         C:\\Users\\hua01\\Desktop\\cwc\\SpatialMultimodal\\spd_new\\UNI\\LEAP-034A_sdata.zarr the new file path:          \n",
      "         C:\\Users\\hua01\\Desktop\\cwc\\SpatialMultimodal\\spd_new\\miso\\LEAP-034A_sdata.zarr                            \n",
      "LEAP-034B\n"
     ]
    },
    {
     "data": {
      "application/vnd.jupyter.widget-view+json": {
       "model_id": "15d2fb1e17ee4238bd6fe547cec10fb4",
       "version_major": 2,
       "version_minor": 0
      },
      "text/plain": [
       "Training network for modality 1:   0%|          | 0/1000 [00:00<?, ?it/s]"
      ]
     },
     "metadata": {},
     "output_type": "display_data"
    },
    {
     "data": {
      "application/vnd.jupyter.widget-view+json": {
       "model_id": "616b6108d5a942348c2eaf421e05d227",
       "version_major": 2,
       "version_minor": 0
      },
      "text/plain": [
       "Training network for modality 2:   0%|          | 0/1000 [00:00<?, ?it/s]"
      ]
     },
     "metadata": {},
     "output_type": "display_data"
    },
    {
     "name": "stdout",
     "output_type": "stream",
     "text": [
      "\u001b[34mINFO    \u001b[0m The SpatialData object is not self-contained \u001b[1m(\u001b[0mi.e. it contains some elements that are Dask-backed from    \n",
      "         locations outside C:\\Users\\hua01\\Desktop\\cwc\\SpatialMultimodal\\spd_new\\miso\\LEAP-034B_sdata.zarr\u001b[1m)\u001b[0m. Please \n",
      "         see the documentation of `\u001b[1;35mis_self_contained\u001b[0m\u001b[1m(\u001b[0m\u001b[1m)\u001b[0m` to understand the implications of working with SpatialData \n",
      "         objects that are not self-contained.                                                                      \n",
      "\u001b[34mINFO    \u001b[0m The Zarr backing store has been changed from                                                              \n",
      "         C:\\Users\\hua01\\Desktop\\cwc\\SpatialMultimodal\\spd_new\\UNI\\LEAP-034B_sdata.zarr the new file path:          \n",
      "         C:\\Users\\hua01\\Desktop\\cwc\\SpatialMultimodal\\spd_new\\miso\\LEAP-034B_sdata.zarr                            \n",
      "LEAP-035A\n"
     ]
    },
    {
     "data": {
      "application/vnd.jupyter.widget-view+json": {
       "model_id": "3efc59819e514b6395569a7685a499a5",
       "version_major": 2,
       "version_minor": 0
      },
      "text/plain": [
       "Training network for modality 1:   0%|          | 0/1000 [00:00<?, ?it/s]"
      ]
     },
     "metadata": {},
     "output_type": "display_data"
    },
    {
     "data": {
      "application/vnd.jupyter.widget-view+json": {
       "model_id": "712fedee25d2455680938c074ef86cdb",
       "version_major": 2,
       "version_minor": 0
      },
      "text/plain": [
       "Training network for modality 2:   0%|          | 0/1000 [00:00<?, ?it/s]"
      ]
     },
     "metadata": {},
     "output_type": "display_data"
    },
    {
     "name": "stdout",
     "output_type": "stream",
     "text": [
      "\u001b[34mINFO    \u001b[0m The SpatialData object is not self-contained \u001b[1m(\u001b[0mi.e. it contains some elements that are Dask-backed from    \n",
      "         locations outside C:\\Users\\hua01\\Desktop\\cwc\\SpatialMultimodal\\spd_new\\miso\\LEAP-035A_sdata.zarr\u001b[1m)\u001b[0m. Please \n",
      "         see the documentation of `\u001b[1;35mis_self_contained\u001b[0m\u001b[1m(\u001b[0m\u001b[1m)\u001b[0m` to understand the implications of working with SpatialData \n",
      "         objects that are not self-contained.                                                                      \n",
      "\u001b[34mINFO    \u001b[0m The Zarr backing store has been changed from                                                              \n",
      "         C:\\Users\\hua01\\Desktop\\cwc\\SpatialMultimodal\\spd_new\\UNI\\LEAP-035A_sdata.zarr the new file path:          \n",
      "         C:\\Users\\hua01\\Desktop\\cwc\\SpatialMultimodal\\spd_new\\miso\\LEAP-035A_sdata.zarr                            \n",
      "LEAP-035B\n"
     ]
    },
    {
     "data": {
      "application/vnd.jupyter.widget-view+json": {
       "model_id": "5fcf44ce99d94e8cb77ede5072b34f88",
       "version_major": 2,
       "version_minor": 0
      },
      "text/plain": [
       "Training network for modality 1:   0%|          | 0/1000 [00:00<?, ?it/s]"
      ]
     },
     "metadata": {},
     "output_type": "display_data"
    },
    {
     "data": {
      "application/vnd.jupyter.widget-view+json": {
       "model_id": "7e1d8a418d93474bafb09558abae3745",
       "version_major": 2,
       "version_minor": 0
      },
      "text/plain": [
       "Training network for modality 2:   0%|          | 0/1000 [00:00<?, ?it/s]"
      ]
     },
     "metadata": {},
     "output_type": "display_data"
    },
    {
     "name": "stdout",
     "output_type": "stream",
     "text": [
      "\u001b[34mINFO    \u001b[0m The SpatialData object is not self-contained \u001b[1m(\u001b[0mi.e. it contains some elements that are Dask-backed from    \n",
      "         locations outside C:\\Users\\hua01\\Desktop\\cwc\\SpatialMultimodal\\spd_new\\miso\\LEAP-035B_sdata.zarr\u001b[1m)\u001b[0m. Please \n",
      "         see the documentation of `\u001b[1;35mis_self_contained\u001b[0m\u001b[1m(\u001b[0m\u001b[1m)\u001b[0m` to understand the implications of working with SpatialData \n",
      "         objects that are not self-contained.                                                                      \n",
      "\u001b[34mINFO    \u001b[0m The Zarr backing store has been changed from                                                              \n",
      "         C:\\Users\\hua01\\Desktop\\cwc\\SpatialMultimodal\\spd_new\\UNI\\LEAP-035B_sdata.zarr the new file path:          \n",
      "         C:\\Users\\hua01\\Desktop\\cwc\\SpatialMultimodal\\spd_new\\miso\\LEAP-035B_sdata.zarr                            \n",
      "LEAP-036A\n"
     ]
    },
    {
     "data": {
      "application/vnd.jupyter.widget-view+json": {
       "model_id": "6c07f431e46d414c91300f0cedfa201d",
       "version_major": 2,
       "version_minor": 0
      },
      "text/plain": [
       "Training network for modality 1:   0%|          | 0/1000 [00:00<?, ?it/s]"
      ]
     },
     "metadata": {},
     "output_type": "display_data"
    },
    {
     "data": {
      "application/vnd.jupyter.widget-view+json": {
       "model_id": "33dad8c36d02471688dc1e5f8e3cf8fa",
       "version_major": 2,
       "version_minor": 0
      },
      "text/plain": [
       "Training network for modality 2:   0%|          | 0/1000 [00:00<?, ?it/s]"
      ]
     },
     "metadata": {},
     "output_type": "display_data"
    },
    {
     "name": "stdout",
     "output_type": "stream",
     "text": [
      "\u001b[34mINFO    \u001b[0m The SpatialData object is not self-contained \u001b[1m(\u001b[0mi.e. it contains some elements that are Dask-backed from    \n",
      "         locations outside C:\\Users\\hua01\\Desktop\\cwc\\SpatialMultimodal\\spd_new\\miso\\LEAP-036A_sdata.zarr\u001b[1m)\u001b[0m. Please \n",
      "         see the documentation of `\u001b[1;35mis_self_contained\u001b[0m\u001b[1m(\u001b[0m\u001b[1m)\u001b[0m` to understand the implications of working with SpatialData \n",
      "         objects that are not self-contained.                                                                      \n",
      "\u001b[34mINFO    \u001b[0m The Zarr backing store has been changed from                                                              \n",
      "         C:\\Users\\hua01\\Desktop\\cwc\\SpatialMultimodal\\spd_new\\UNI\\LEAP-036A_sdata.zarr the new file path:          \n",
      "         C:\\Users\\hua01\\Desktop\\cwc\\SpatialMultimodal\\spd_new\\miso\\LEAP-036A_sdata.zarr                            \n",
      "LEAP-036B\n"
     ]
    },
    {
     "data": {
      "application/vnd.jupyter.widget-view+json": {
       "model_id": "c89adf92dccf410792f95df166d03237",
       "version_major": 2,
       "version_minor": 0
      },
      "text/plain": [
       "Training network for modality 1:   0%|          | 0/1000 [00:00<?, ?it/s]"
      ]
     },
     "metadata": {},
     "output_type": "display_data"
    },
    {
     "data": {
      "application/vnd.jupyter.widget-view+json": {
       "model_id": "2d5f0f19ccd94e0395b48614ffc8b879",
       "version_major": 2,
       "version_minor": 0
      },
      "text/plain": [
       "Training network for modality 2:   0%|          | 0/1000 [00:00<?, ?it/s]"
      ]
     },
     "metadata": {},
     "output_type": "display_data"
    },
    {
     "name": "stdout",
     "output_type": "stream",
     "text": [
      "\u001b[34mINFO    \u001b[0m The SpatialData object is not self-contained \u001b[1m(\u001b[0mi.e. it contains some elements that are Dask-backed from    \n",
      "         locations outside C:\\Users\\hua01\\Desktop\\cwc\\SpatialMultimodal\\spd_new\\miso\\LEAP-036B_sdata.zarr\u001b[1m)\u001b[0m. Please \n",
      "         see the documentation of `\u001b[1;35mis_self_contained\u001b[0m\u001b[1m(\u001b[0m\u001b[1m)\u001b[0m` to understand the implications of working with SpatialData \n",
      "         objects that are not self-contained.                                                                      \n",
      "\u001b[34mINFO    \u001b[0m The Zarr backing store has been changed from                                                              \n",
      "         C:\\Users\\hua01\\Desktop\\cwc\\SpatialMultimodal\\spd_new\\UNI\\LEAP-036B_sdata.zarr the new file path:          \n",
      "         C:\\Users\\hua01\\Desktop\\cwc\\SpatialMultimodal\\spd_new\\miso\\LEAP-036B_sdata.zarr                            \n",
      "LEAP-037B\n"
     ]
    },
    {
     "data": {
      "application/vnd.jupyter.widget-view+json": {
       "model_id": "db51bc60347749278a55f67ce206a90e",
       "version_major": 2,
       "version_minor": 0
      },
      "text/plain": [
       "Training network for modality 1:   0%|          | 0/1000 [00:00<?, ?it/s]"
      ]
     },
     "metadata": {},
     "output_type": "display_data"
    },
    {
     "data": {
      "application/vnd.jupyter.widget-view+json": {
       "model_id": "7271020c5004450093866eca203d08aa",
       "version_major": 2,
       "version_minor": 0
      },
      "text/plain": [
       "Training network for modality 2:   0%|          | 0/1000 [00:00<?, ?it/s]"
      ]
     },
     "metadata": {},
     "output_type": "display_data"
    },
    {
     "name": "stdout",
     "output_type": "stream",
     "text": [
      "\u001b[34mINFO    \u001b[0m The SpatialData object is not self-contained \u001b[1m(\u001b[0mi.e. it contains some elements that are Dask-backed from    \n",
      "         locations outside C:\\Users\\hua01\\Desktop\\cwc\\SpatialMultimodal\\spd_new\\miso\\LEAP-037B_sdata.zarr\u001b[1m)\u001b[0m. Please \n",
      "         see the documentation of `\u001b[1;35mis_self_contained\u001b[0m\u001b[1m(\u001b[0m\u001b[1m)\u001b[0m` to understand the implications of working with SpatialData \n",
      "         objects that are not self-contained.                                                                      \n",
      "\u001b[34mINFO    \u001b[0m The Zarr backing store has been changed from                                                              \n",
      "         C:\\Users\\hua01\\Desktop\\cwc\\SpatialMultimodal\\spd_new\\UNI\\LEAP-037B_sdata.zarr the new file path:          \n",
      "         C:\\Users\\hua01\\Desktop\\cwc\\SpatialMultimodal\\spd_new\\miso\\LEAP-037B_sdata.zarr                            \n",
      "LEAP-038A\n"
     ]
    },
    {
     "data": {
      "application/vnd.jupyter.widget-view+json": {
       "model_id": "70cd3e88c20f4e20a7b4cba62c8f421e",
       "version_major": 2,
       "version_minor": 0
      },
      "text/plain": [
       "Training network for modality 1:   0%|          | 0/1000 [00:00<?, ?it/s]"
      ]
     },
     "metadata": {},
     "output_type": "display_data"
    },
    {
     "data": {
      "application/vnd.jupyter.widget-view+json": {
       "model_id": "ebb5ed8496da4ec3a24f99097f87c723",
       "version_major": 2,
       "version_minor": 0
      },
      "text/plain": [
       "Training network for modality 2:   0%|          | 0/1000 [00:00<?, ?it/s]"
      ]
     },
     "metadata": {},
     "output_type": "display_data"
    },
    {
     "name": "stdout",
     "output_type": "stream",
     "text": [
      "\u001b[34mINFO    \u001b[0m The SpatialData object is not self-contained \u001b[1m(\u001b[0mi.e. it contains some elements that are Dask-backed from    \n",
      "         locations outside C:\\Users\\hua01\\Desktop\\cwc\\SpatialMultimodal\\spd_new\\miso\\LEAP-038A_sdata.zarr\u001b[1m)\u001b[0m. Please \n",
      "         see the documentation of `\u001b[1;35mis_self_contained\u001b[0m\u001b[1m(\u001b[0m\u001b[1m)\u001b[0m` to understand the implications of working with SpatialData \n",
      "         objects that are not self-contained.                                                                      \n",
      "\u001b[34mINFO    \u001b[0m The Zarr backing store has been changed from                                                              \n",
      "         C:\\Users\\hua01\\Desktop\\cwc\\SpatialMultimodal\\spd_new\\UNI\\LEAP-038A_sdata.zarr the new file path:          \n",
      "         C:\\Users\\hua01\\Desktop\\cwc\\SpatialMultimodal\\spd_new\\miso\\LEAP-038A_sdata.zarr                            \n",
      "LEAP-038B\n"
     ]
    },
    {
     "data": {
      "application/vnd.jupyter.widget-view+json": {
       "model_id": "9b4d55710cb0417c8ffc2f838c1402db",
       "version_major": 2,
       "version_minor": 0
      },
      "text/plain": [
       "Training network for modality 1:   0%|          | 0/1000 [00:00<?, ?it/s]"
      ]
     },
     "metadata": {},
     "output_type": "display_data"
    },
    {
     "data": {
      "application/vnd.jupyter.widget-view+json": {
       "model_id": "4c6ff7283fa44fec8e6c6a4a69ff149e",
       "version_major": 2,
       "version_minor": 0
      },
      "text/plain": [
       "Training network for modality 2:   0%|          | 0/1000 [00:00<?, ?it/s]"
      ]
     },
     "metadata": {},
     "output_type": "display_data"
    },
    {
     "name": "stdout",
     "output_type": "stream",
     "text": [
      "\u001b[34mINFO    \u001b[0m The SpatialData object is not self-contained \u001b[1m(\u001b[0mi.e. it contains some elements that are Dask-backed from    \n",
      "         locations outside C:\\Users\\hua01\\Desktop\\cwc\\SpatialMultimodal\\spd_new\\miso\\LEAP-038B_sdata.zarr\u001b[1m)\u001b[0m. Please \n",
      "         see the documentation of `\u001b[1;35mis_self_contained\u001b[0m\u001b[1m(\u001b[0m\u001b[1m)\u001b[0m` to understand the implications of working with SpatialData \n",
      "         objects that are not self-contained.                                                                      \n",
      "\u001b[34mINFO    \u001b[0m The Zarr backing store has been changed from                                                              \n",
      "         C:\\Users\\hua01\\Desktop\\cwc\\SpatialMultimodal\\spd_new\\UNI\\LEAP-038B_sdata.zarr the new file path:          \n",
      "         C:\\Users\\hua01\\Desktop\\cwc\\SpatialMultimodal\\spd_new\\miso\\LEAP-038B_sdata.zarr                            \n",
      "LEAP-039A\n"
     ]
    },
    {
     "data": {
      "application/vnd.jupyter.widget-view+json": {
       "model_id": "b0fcc263e4b644329823ee847e7a4c01",
       "version_major": 2,
       "version_minor": 0
      },
      "text/plain": [
       "Training network for modality 1:   0%|          | 0/1000 [00:00<?, ?it/s]"
      ]
     },
     "metadata": {},
     "output_type": "display_data"
    },
    {
     "data": {
      "application/vnd.jupyter.widget-view+json": {
       "model_id": "87164411a38443129488ca81308653ba",
       "version_major": 2,
       "version_minor": 0
      },
      "text/plain": [
       "Training network for modality 2:   0%|          | 0/1000 [00:00<?, ?it/s]"
      ]
     },
     "metadata": {},
     "output_type": "display_data"
    },
    {
     "name": "stdout",
     "output_type": "stream",
     "text": [
      "\u001b[34mINFO    \u001b[0m The SpatialData object is not self-contained \u001b[1m(\u001b[0mi.e. it contains some elements that are Dask-backed from    \n",
      "         locations outside C:\\Users\\hua01\\Desktop\\cwc\\SpatialMultimodal\\spd_new\\miso\\LEAP-039A_sdata.zarr\u001b[1m)\u001b[0m. Please \n",
      "         see the documentation of `\u001b[1;35mis_self_contained\u001b[0m\u001b[1m(\u001b[0m\u001b[1m)\u001b[0m` to understand the implications of working with SpatialData \n",
      "         objects that are not self-contained.                                                                      \n",
      "\u001b[34mINFO    \u001b[0m The Zarr backing store has been changed from                                                              \n",
      "         C:\\Users\\hua01\\Desktop\\cwc\\SpatialMultimodal\\spd_new\\UNI\\LEAP-039A_sdata.zarr the new file path:          \n",
      "         C:\\Users\\hua01\\Desktop\\cwc\\SpatialMultimodal\\spd_new\\miso\\LEAP-039A_sdata.zarr                            \n",
      "LEAP-039B\n"
     ]
    },
    {
     "data": {
      "application/vnd.jupyter.widget-view+json": {
       "model_id": "466729a6222949c5930f0f5f51bf63ca",
       "version_major": 2,
       "version_minor": 0
      },
      "text/plain": [
       "Training network for modality 1:   0%|          | 0/1000 [00:00<?, ?it/s]"
      ]
     },
     "metadata": {},
     "output_type": "display_data"
    },
    {
     "data": {
      "application/vnd.jupyter.widget-view+json": {
       "model_id": "30f5fb038c54498a81116fb5cdd6140c",
       "version_major": 2,
       "version_minor": 0
      },
      "text/plain": [
       "Training network for modality 2:   0%|          | 0/1000 [00:00<?, ?it/s]"
      ]
     },
     "metadata": {},
     "output_type": "display_data"
    },
    {
     "name": "stdout",
     "output_type": "stream",
     "text": [
      "\u001b[34mINFO    \u001b[0m The SpatialData object is not self-contained \u001b[1m(\u001b[0mi.e. it contains some elements that are Dask-backed from    \n",
      "         locations outside C:\\Users\\hua01\\Desktop\\cwc\\SpatialMultimodal\\spd_new\\miso\\LEAP-039B_sdata.zarr\u001b[1m)\u001b[0m. Please \n",
      "         see the documentation of `\u001b[1;35mis_self_contained\u001b[0m\u001b[1m(\u001b[0m\u001b[1m)\u001b[0m` to understand the implications of working with SpatialData \n",
      "         objects that are not self-contained.                                                                      \n",
      "\u001b[34mINFO    \u001b[0m The Zarr backing store has been changed from                                                              \n",
      "         C:\\Users\\hua01\\Desktop\\cwc\\SpatialMultimodal\\spd_new\\UNI\\LEAP-039B_sdata.zarr the new file path:          \n",
      "         C:\\Users\\hua01\\Desktop\\cwc\\SpatialMultimodal\\spd_new\\miso\\LEAP-039B_sdata.zarr                            \n",
      "LEAP-041A\n"
     ]
    },
    {
     "data": {
      "application/vnd.jupyter.widget-view+json": {
       "model_id": "d81934bb31b646cc94ac74843690f52e",
       "version_major": 2,
       "version_minor": 0
      },
      "text/plain": [
       "Training network for modality 1:   0%|          | 0/1000 [00:00<?, ?it/s]"
      ]
     },
     "metadata": {},
     "output_type": "display_data"
    },
    {
     "data": {
      "application/vnd.jupyter.widget-view+json": {
       "model_id": "e9255e41ae694ff4a6671a0ac965bb6e",
       "version_major": 2,
       "version_minor": 0
      },
      "text/plain": [
       "Training network for modality 2:   0%|          | 0/1000 [00:00<?, ?it/s]"
      ]
     },
     "metadata": {},
     "output_type": "display_data"
    },
    {
     "name": "stdout",
     "output_type": "stream",
     "text": [
      "\u001b[34mINFO    \u001b[0m The SpatialData object is not self-contained \u001b[1m(\u001b[0mi.e. it contains some elements that are Dask-backed from    \n",
      "         locations outside C:\\Users\\hua01\\Desktop\\cwc\\SpatialMultimodal\\spd_new\\miso\\LEAP-041A_sdata.zarr\u001b[1m)\u001b[0m. Please \n",
      "         see the documentation of `\u001b[1;35mis_self_contained\u001b[0m\u001b[1m(\u001b[0m\u001b[1m)\u001b[0m` to understand the implications of working with SpatialData \n",
      "         objects that are not self-contained.                                                                      \n",
      "\u001b[34mINFO    \u001b[0m The Zarr backing store has been changed from                                                              \n",
      "         C:\\Users\\hua01\\Desktop\\cwc\\SpatialMultimodal\\spd_new\\UNI\\LEAP-041A_sdata.zarr the new file path:          \n",
      "         C:\\Users\\hua01\\Desktop\\cwc\\SpatialMultimodal\\spd_new\\miso\\LEAP-041A_sdata.zarr                            \n",
      "LEAP-041B\n"
     ]
    },
    {
     "data": {
      "application/vnd.jupyter.widget-view+json": {
       "model_id": "f02ccb050d864ad085840df6034f4e86",
       "version_major": 2,
       "version_minor": 0
      },
      "text/plain": [
       "Training network for modality 1:   0%|          | 0/1000 [00:00<?, ?it/s]"
      ]
     },
     "metadata": {},
     "output_type": "display_data"
    },
    {
     "data": {
      "application/vnd.jupyter.widget-view+json": {
       "model_id": "1cdaffbe71084d849484e7a04c1c5d0d",
       "version_major": 2,
       "version_minor": 0
      },
      "text/plain": [
       "Training network for modality 2:   0%|          | 0/1000 [00:00<?, ?it/s]"
      ]
     },
     "metadata": {},
     "output_type": "display_data"
    },
    {
     "name": "stdout",
     "output_type": "stream",
     "text": [
      "\u001b[34mINFO    \u001b[0m The SpatialData object is not self-contained \u001b[1m(\u001b[0mi.e. it contains some elements that are Dask-backed from    \n",
      "         locations outside C:\\Users\\hua01\\Desktop\\cwc\\SpatialMultimodal\\spd_new\\miso\\LEAP-041B_sdata.zarr\u001b[1m)\u001b[0m. Please \n",
      "         see the documentation of `\u001b[1;35mis_self_contained\u001b[0m\u001b[1m(\u001b[0m\u001b[1m)\u001b[0m` to understand the implications of working with SpatialData \n",
      "         objects that are not self-contained.                                                                      \n",
      "\u001b[34mINFO    \u001b[0m The Zarr backing store has been changed from                                                              \n",
      "         C:\\Users\\hua01\\Desktop\\cwc\\SpatialMultimodal\\spd_new\\UNI\\LEAP-041B_sdata.zarr the new file path:          \n",
      "         C:\\Users\\hua01\\Desktop\\cwc\\SpatialMultimodal\\spd_new\\miso\\LEAP-041B_sdata.zarr                            \n",
      "LEAP-042A\n"
     ]
    },
    {
     "data": {
      "application/vnd.jupyter.widget-view+json": {
       "model_id": "d32113e949434cd983f8e864c25f28f3",
       "version_major": 2,
       "version_minor": 0
      },
      "text/plain": [
       "Training network for modality 1:   0%|          | 0/1000 [00:00<?, ?it/s]"
      ]
     },
     "metadata": {},
     "output_type": "display_data"
    },
    {
     "data": {
      "application/vnd.jupyter.widget-view+json": {
       "model_id": "651d8a34186f42f3b6a5dccab520074e",
       "version_major": 2,
       "version_minor": 0
      },
      "text/plain": [
       "Training network for modality 2:   0%|          | 0/1000 [00:00<?, ?it/s]"
      ]
     },
     "metadata": {},
     "output_type": "display_data"
    },
    {
     "name": "stdout",
     "output_type": "stream",
     "text": [
      "\u001b[34mINFO    \u001b[0m The SpatialData object is not self-contained \u001b[1m(\u001b[0mi.e. it contains some elements that are Dask-backed from    \n",
      "         locations outside C:\\Users\\hua01\\Desktop\\cwc\\SpatialMultimodal\\spd_new\\miso\\LEAP-042A_sdata.zarr\u001b[1m)\u001b[0m. Please \n",
      "         see the documentation of `\u001b[1;35mis_self_contained\u001b[0m\u001b[1m(\u001b[0m\u001b[1m)\u001b[0m` to understand the implications of working with SpatialData \n",
      "         objects that are not self-contained.                                                                      \n",
      "\u001b[34mINFO    \u001b[0m The Zarr backing store has been changed from                                                              \n",
      "         C:\\Users\\hua01\\Desktop\\cwc\\SpatialMultimodal\\spd_new\\UNI\\LEAP-042A_sdata.zarr the new file path:          \n",
      "         C:\\Users\\hua01\\Desktop\\cwc\\SpatialMultimodal\\spd_new\\miso\\LEAP-042A_sdata.zarr                            \n",
      "LEAP-042B\n"
     ]
    },
    {
     "data": {
      "application/vnd.jupyter.widget-view+json": {
       "model_id": "56818e13369447b297684539097ef7ee",
       "version_major": 2,
       "version_minor": 0
      },
      "text/plain": [
       "Training network for modality 1:   0%|          | 0/1000 [00:00<?, ?it/s]"
      ]
     },
     "metadata": {},
     "output_type": "display_data"
    },
    {
     "data": {
      "application/vnd.jupyter.widget-view+json": {
       "model_id": "5ffb656e9a48422985f8e5ca4f00bc74",
       "version_major": 2,
       "version_minor": 0
      },
      "text/plain": [
       "Training network for modality 2:   0%|          | 0/1000 [00:00<?, ?it/s]"
      ]
     },
     "metadata": {},
     "output_type": "display_data"
    },
    {
     "name": "stdout",
     "output_type": "stream",
     "text": [
      "\u001b[34mINFO    \u001b[0m The SpatialData object is not self-contained \u001b[1m(\u001b[0mi.e. it contains some elements that are Dask-backed from    \n",
      "         locations outside C:\\Users\\hua01\\Desktop\\cwc\\SpatialMultimodal\\spd_new\\miso\\LEAP-042B_sdata.zarr\u001b[1m)\u001b[0m. Please \n",
      "         see the documentation of `\u001b[1;35mis_self_contained\u001b[0m\u001b[1m(\u001b[0m\u001b[1m)\u001b[0m` to understand the implications of working with SpatialData \n",
      "         objects that are not self-contained.                                                                      \n",
      "\u001b[34mINFO    \u001b[0m The Zarr backing store has been changed from                                                              \n",
      "         C:\\Users\\hua01\\Desktop\\cwc\\SpatialMultimodal\\spd_new\\UNI\\LEAP-042B_sdata.zarr the new file path:          \n",
      "         C:\\Users\\hua01\\Desktop\\cwc\\SpatialMultimodal\\spd_new\\miso\\LEAP-042B_sdata.zarr                            \n",
      "LEAP-044A\n"
     ]
    },
    {
     "data": {
      "application/vnd.jupyter.widget-view+json": {
       "model_id": "aab8f66a84a94e5d8578bf062a298a77",
       "version_major": 2,
       "version_minor": 0
      },
      "text/plain": [
       "Training network for modality 1:   0%|          | 0/1000 [00:00<?, ?it/s]"
      ]
     },
     "metadata": {},
     "output_type": "display_data"
    },
    {
     "data": {
      "application/vnd.jupyter.widget-view+json": {
       "model_id": "bff56a595783479d9dee2132dac89bd0",
       "version_major": 2,
       "version_minor": 0
      },
      "text/plain": [
       "Training network for modality 2:   0%|          | 0/1000 [00:00<?, ?it/s]"
      ]
     },
     "metadata": {},
     "output_type": "display_data"
    },
    {
     "name": "stdout",
     "output_type": "stream",
     "text": [
      "\u001b[34mINFO    \u001b[0m The SpatialData object is not self-contained \u001b[1m(\u001b[0mi.e. it contains some elements that are Dask-backed from    \n",
      "         locations outside C:\\Users\\hua01\\Desktop\\cwc\\SpatialMultimodal\\spd_new\\miso\\LEAP-044A_sdata.zarr\u001b[1m)\u001b[0m. Please \n",
      "         see the documentation of `\u001b[1;35mis_self_contained\u001b[0m\u001b[1m(\u001b[0m\u001b[1m)\u001b[0m` to understand the implications of working with SpatialData \n",
      "         objects that are not self-contained.                                                                      \n",
      "\u001b[34mINFO    \u001b[0m The Zarr backing store has been changed from                                                              \n",
      "         C:\\Users\\hua01\\Desktop\\cwc\\SpatialMultimodal\\spd_new\\UNI\\LEAP-044A_sdata.zarr the new file path:          \n",
      "         C:\\Users\\hua01\\Desktop\\cwc\\SpatialMultimodal\\spd_new\\miso\\LEAP-044A_sdata.zarr                            \n",
      "LEAP-044B\n"
     ]
    },
    {
     "data": {
      "application/vnd.jupyter.widget-view+json": {
       "model_id": "a859435765c146178e981af6a8fd9001",
       "version_major": 2,
       "version_minor": 0
      },
      "text/plain": [
       "Training network for modality 1:   0%|          | 0/1000 [00:00<?, ?it/s]"
      ]
     },
     "metadata": {},
     "output_type": "display_data"
    },
    {
     "data": {
      "application/vnd.jupyter.widget-view+json": {
       "model_id": "64e8b29c74d64406ae0948f7ff6ffebc",
       "version_major": 2,
       "version_minor": 0
      },
      "text/plain": [
       "Training network for modality 2:   0%|          | 0/1000 [00:00<?, ?it/s]"
      ]
     },
     "metadata": {},
     "output_type": "display_data"
    },
    {
     "name": "stdout",
     "output_type": "stream",
     "text": [
      "\u001b[34mINFO    \u001b[0m The SpatialData object is not self-contained \u001b[1m(\u001b[0mi.e. it contains some elements that are Dask-backed from    \n",
      "         locations outside C:\\Users\\hua01\\Desktop\\cwc\\SpatialMultimodal\\spd_new\\miso\\LEAP-044B_sdata.zarr\u001b[1m)\u001b[0m. Please \n",
      "         see the documentation of `\u001b[1;35mis_self_contained\u001b[0m\u001b[1m(\u001b[0m\u001b[1m)\u001b[0m` to understand the implications of working with SpatialData \n",
      "         objects that are not self-contained.                                                                      \n",
      "\u001b[34mINFO    \u001b[0m The Zarr backing store has been changed from                                                              \n",
      "         C:\\Users\\hua01\\Desktop\\cwc\\SpatialMultimodal\\spd_new\\UNI\\LEAP-044B_sdata.zarr the new file path:          \n",
      "         C:\\Users\\hua01\\Desktop\\cwc\\SpatialMultimodal\\spd_new\\miso\\LEAP-044B_sdata.zarr                            \n",
      "LEAP-046A\n"
     ]
    },
    {
     "data": {
      "application/vnd.jupyter.widget-view+json": {
       "model_id": "78b9fd37a91d44078a101ce2b8c2abfb",
       "version_major": 2,
       "version_minor": 0
      },
      "text/plain": [
       "Training network for modality 1:   0%|          | 0/1000 [00:00<?, ?it/s]"
      ]
     },
     "metadata": {},
     "output_type": "display_data"
    },
    {
     "data": {
      "application/vnd.jupyter.widget-view+json": {
       "model_id": "72d163f2d7d5438aab9e453dd9b5ad56",
       "version_major": 2,
       "version_minor": 0
      },
      "text/plain": [
       "Training network for modality 2:   0%|          | 0/1000 [00:00<?, ?it/s]"
      ]
     },
     "metadata": {},
     "output_type": "display_data"
    },
    {
     "name": "stdout",
     "output_type": "stream",
     "text": [
      "\u001b[34mINFO    \u001b[0m The SpatialData object is not self-contained \u001b[1m(\u001b[0mi.e. it contains some elements that are Dask-backed from    \n",
      "         locations outside C:\\Users\\hua01\\Desktop\\cwc\\SpatialMultimodal\\spd_new\\miso\\LEAP-046A_sdata.zarr\u001b[1m)\u001b[0m. Please \n",
      "         see the documentation of `\u001b[1;35mis_self_contained\u001b[0m\u001b[1m(\u001b[0m\u001b[1m)\u001b[0m` to understand the implications of working with SpatialData \n",
      "         objects that are not self-contained.                                                                      \n",
      "\u001b[34mINFO    \u001b[0m The Zarr backing store has been changed from                                                              \n",
      "         C:\\Users\\hua01\\Desktop\\cwc\\SpatialMultimodal\\spd_new\\UNI\\LEAP-046A_sdata.zarr the new file path:          \n",
      "         C:\\Users\\hua01\\Desktop\\cwc\\SpatialMultimodal\\spd_new\\miso\\LEAP-046A_sdata.zarr                            \n",
      "LEAP-046B\n"
     ]
    },
    {
     "data": {
      "application/vnd.jupyter.widget-view+json": {
       "model_id": "5dbb4fbc12894250a5c8134285533070",
       "version_major": 2,
       "version_minor": 0
      },
      "text/plain": [
       "Training network for modality 1:   0%|          | 0/1000 [00:00<?, ?it/s]"
      ]
     },
     "metadata": {},
     "output_type": "display_data"
    },
    {
     "data": {
      "application/vnd.jupyter.widget-view+json": {
       "model_id": "c438a69437594b5eb01a11909291b036",
       "version_major": 2,
       "version_minor": 0
      },
      "text/plain": [
       "Training network for modality 2:   0%|          | 0/1000 [00:00<?, ?it/s]"
      ]
     },
     "metadata": {},
     "output_type": "display_data"
    },
    {
     "name": "stdout",
     "output_type": "stream",
     "text": [
      "\u001b[34mINFO    \u001b[0m The SpatialData object is not self-contained \u001b[1m(\u001b[0mi.e. it contains some elements that are Dask-backed from    \n",
      "         locations outside C:\\Users\\hua01\\Desktop\\cwc\\SpatialMultimodal\\spd_new\\miso\\LEAP-046B_sdata.zarr\u001b[1m)\u001b[0m. Please \n",
      "         see the documentation of `\u001b[1;35mis_self_contained\u001b[0m\u001b[1m(\u001b[0m\u001b[1m)\u001b[0m` to understand the implications of working with SpatialData \n",
      "         objects that are not self-contained.                                                                      \n",
      "\u001b[34mINFO    \u001b[0m The Zarr backing store has been changed from                                                              \n",
      "         C:\\Users\\hua01\\Desktop\\cwc\\SpatialMultimodal\\spd_new\\UNI\\LEAP-046B_sdata.zarr the new file path:          \n",
      "         C:\\Users\\hua01\\Desktop\\cwc\\SpatialMultimodal\\spd_new\\miso\\LEAP-046B_sdata.zarr                            \n",
      "LEAP-047B\n"
     ]
    },
    {
     "data": {
      "application/vnd.jupyter.widget-view+json": {
       "model_id": "77aaf81ef84746f9909df129fa7cfbb0",
       "version_major": 2,
       "version_minor": 0
      },
      "text/plain": [
       "Training network for modality 1:   0%|          | 0/1000 [00:00<?, ?it/s]"
      ]
     },
     "metadata": {},
     "output_type": "display_data"
    },
    {
     "data": {
      "application/vnd.jupyter.widget-view+json": {
       "model_id": "5e44dfcd9e564c6dbb38916a11ae1d46",
       "version_major": 2,
       "version_minor": 0
      },
      "text/plain": [
       "Training network for modality 2:   0%|          | 0/1000 [00:00<?, ?it/s]"
      ]
     },
     "metadata": {},
     "output_type": "display_data"
    },
    {
     "name": "stdout",
     "output_type": "stream",
     "text": [
      "\u001b[34mINFO    \u001b[0m The SpatialData object is not self-contained \u001b[1m(\u001b[0mi.e. it contains some elements that are Dask-backed from    \n",
      "         locations outside C:\\Users\\hua01\\Desktop\\cwc\\SpatialMultimodal\\spd_new\\miso\\LEAP-047B_sdata.zarr\u001b[1m)\u001b[0m. Please \n",
      "         see the documentation of `\u001b[1;35mis_self_contained\u001b[0m\u001b[1m(\u001b[0m\u001b[1m)\u001b[0m` to understand the implications of working with SpatialData \n",
      "         objects that are not self-contained.                                                                      \n",
      "\u001b[34mINFO    \u001b[0m The Zarr backing store has been changed from                                                              \n",
      "         C:\\Users\\hua01\\Desktop\\cwc\\SpatialMultimodal\\spd_new\\UNI\\LEAP-047B_sdata.zarr the new file path:          \n",
      "         C:\\Users\\hua01\\Desktop\\cwc\\SpatialMultimodal\\spd_new\\miso\\LEAP-047B_sdata.zarr                            \n"
     ]
    }
   ],
   "source": [
    "error_msg = []\n",
    "for folder in LEAP_folders:\n",
    "    try:\n",
    "    # if True:\n",
    "        leap_id = os.path.basename(folder)[:9]\n",
    "        print(leap_id)\n",
    "        sdata = sd.read_zarr(folder)\n",
    "        adata = sdata[\"adata\"]\n",
    "        hne_emb = adata.obsm['hne_emb']\n",
    "        model = Miso([adata.X.A, hne_emb],ind_views='all',combs='all',sparse=False,device=device)\n",
    "        model.train()\n",
    "        sdata['adata'].obsm['miso_emb'] = model.emb\n",
    "        sdata.write(os.path.join(output_path, f\"{leap_id}_sdata.zarr\"), overwrite=True)\n",
    "\n",
    "        color_key1 = \"leiden_from_miso\"\n",
    "        color_key2 = \"leiden_from_UNI\"\n",
    "\n",
    "        # 2. Create a figure with subplots\n",
    "        fig, axes = plt.subplots(2, 2, figsize=(15, 12))\n",
    "        \n",
    "        # 3. Generate each plot on its specific subplot axis\n",
    "        sc.pp.neighbors(adata, use_rep=\"miso_emb\", key_added='miso')\n",
    "        sc.tl.leiden(adata, neighbors_key='miso', key_added=color_key1)\n",
    "        sc.tl.umap(adata, neighbors_key='miso')\n",
    "        # Plot 1: Spatial Scatter with 'leiden_from_miso'\n",
    "        sq.pl.spatial_scatter(\n",
    "            adata,\n",
    "            color=color_key1,\n",
    "            ax=axes[0, 0],      # Target the first subplot\n",
    "            # show=False,    # REMOVE THIS LINE for sq.pl.spatial_scatter\n",
    "            title=f\"Spatial ({color_key1})\"\n",
    "        )\n",
    "        \n",
    "        # Plot 2: UMAP with 'leiden_from_miso'\n",
    "        sc.pl.umap(\n",
    "            adata,\n",
    "            color=color_key1,\n",
    "            ax=axes[0, 1],      # Target the second subplot\n",
    "            show=False,      # Keep this for sc.pl.umap (it handles it)\n",
    "            title=f\"UMAP ({color_key1})\"\n",
    "        )\n",
    "\n",
    "        sc.pp.neighbors(adata, use_rep=\"uni_emb\", key_added='UNI')\n",
    "        sc.tl.leiden(adata, neighbors_key='UNI', key_added=color_key2)\n",
    "        sc.tl.umap(adata, neighbors_key='UNI')\n",
    "        # Plot 3: Spatial Scatter with 'leiden_from_UNI'\n",
    "        sq.pl.spatial_scatter(\n",
    "            adata,\n",
    "            color=color_key2,\n",
    "            ax=axes[1, 0],      # Target the third subplot\n",
    "            # show=False,    # REMOVE THIS LINE for sq.pl.spatial_scatter\n",
    "            title=f\"Spatial ({color_key2})\"\n",
    "        )\n",
    "        \n",
    "        # Plot 4: UMAP with 'leiden_from_UNI'\n",
    "        sc.pp.neighbors(adata, use_rep=\"uni_emb\", key_added='UNI')\n",
    "        sc.tl.leiden(adata, neighbors_key='UNI', key_added=color_key2)\n",
    "        sc.tl.umap(adata, neighbors_key='UNI')\n",
    "        sc.pl.umap(\n",
    "            adata,\n",
    "            color=color_key2,\n",
    "            ax=axes[1, 1],      # Target the second subplot\n",
    "            show=False,      # Keep this for sc.pl.umap (it handles it)\n",
    "            title=f\"UMAP ({color_key2})\"\n",
    "        )\n",
    "        \n",
    "        # 4. Adjust layout\n",
    "        plt.tight_layout()\n",
    "    \n",
    "        output_filename = os.path.join(output_path, f\"{leap_id}_embeddings.jpg\")\n",
    "        # print(f\"Saving combined plot to: {output_filename}\")\n",
    "        plt.savefig(output_filename, dpi=300, bbox_inches='tight')\n",
    "    \n",
    "        plt.close(fig)\n",
    "        \n",
    "    except Exception as e:\n",
    "        error_msg.append((leap_id, e))\n",
    "        print((leap_id, e))\n",
    "        continue"
   ]
  },
  {
   "cell_type": "code",
   "execution_count": 18,
   "id": "2c576d80-159d-46ea-8603-a339853e3a0b",
   "metadata": {},
   "outputs": [
    {
     "data": {
      "text/plain": [
       "[]"
      ]
     },
     "execution_count": 18,
     "metadata": {},
     "output_type": "execute_result"
    }
   ],
   "source": [
    "error_msg"
   ]
  },
  {
   "cell_type": "code",
   "execution_count": 19,
   "id": "3a130469-af8b-41e5-83bc-1882c7133cf5",
   "metadata": {},
   "outputs": [
    {
     "data": {
      "text/plain": [
       "68"
      ]
     },
     "execution_count": 19,
     "metadata": {},
     "output_type": "execute_result"
    }
   ],
   "source": [
    "len(LEAP_folders)"
   ]
  },
  {
   "cell_type": "code",
   "execution_count": null,
   "id": "bd9ab76a-4e49-4be5-beda-96e1a8995824",
   "metadata": {},
   "outputs": [],
   "source": []
  }
 ],
 "metadata": {
  "kernelspec": {
   "display_name": "Python 3 (ipykernel)",
   "language": "python",
   "name": "python3"
  },
  "language_info": {
   "codemirror_mode": {
    "name": "ipython",
    "version": 3
   },
   "file_extension": ".py",
   "mimetype": "text/x-python",
   "name": "python",
   "nbconvert_exporter": "python",
   "pygments_lexer": "ipython3",
   "version": "3.9.21"
  }
 },
 "nbformat": 4,
 "nbformat_minor": 5
}
