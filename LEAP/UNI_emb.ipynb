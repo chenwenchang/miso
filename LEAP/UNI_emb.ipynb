{
 "cells": [
  {
   "cell_type": "code",
   "execution_count": 3,
   "id": "890f3cb2-9ad1-4352-b947-bf3077f56b2a",
   "metadata": {},
   "outputs": [],
   "source": [
    "import os\n",
    "import torch\n",
    "from torchvision import transforms\n",
    "import timm\n",
    "device = torch.device(\"cuda\" if torch.cuda.is_available() else \"cpu\")"
   ]
  },
  {
   "cell_type": "code",
   "execution_count": 6,
   "id": "fe12eee5-7f7c-4e8b-821d-0e4eedb8ea24",
   "metadata": {},
   "outputs": [
    {
     "name": "stderr",
     "output_type": "stream",
     "text": [
      "C:\\Users\\hua01\\AppData\\Local\\Temp\\ipykernel_20932\\2015156322.py:19: FutureWarning: You are using `torch.load` with `weights_only=False` (the current default value), which uses the default pickle module implicitly. It is possible to construct malicious pickle data which will execute arbitrary code during unpickling (See https://github.com/pytorch/pytorch/blob/main/SECURITY.md#untrusted-models for more details). In a future release, the default value for `weights_only` will be flipped to `True`. This limits the functions that could be executed during unpickling. Arbitrary objects will no longer be allowed to be loaded via this mode unless they are explicitly allowlisted by the user via `torch.serialization.add_safe_globals`. We recommend you start setting `weights_only=True` for any use case where you don't have full control of the loaded file. Please open an issue on GitHub for any issues related to this experimental feature.\n",
      "  model.load_state_dict(torch.load(os.path.join(local_dir, \"pytorch_model.bin\"), map_location=\"cpu\"), strict=True)\n"
     ]
    }
   ],
   "source": [
    "timm_kwargs = {\n",
    "    'model_name': 'vit_giant_patch14_224',\n",
    "    'img_size': 224, \n",
    "    'patch_size': 14, \n",
    "    'depth': 24,\n",
    "    'num_heads': 24,\n",
    "    'init_values': 1e-5, \n",
    "    'embed_dim': 1536,\n",
    "    'mlp_ratio': 2.66667*2,\n",
    "    'num_classes': 0, \n",
    "    'no_embed_class': True,\n",
    "    'mlp_layer': timm.layers.SwiGLUPacked, \n",
    "    'act_layer': torch.nn.SiLU, \n",
    "    'reg_tokens': 8, \n",
    "    'dynamic_img_size': True\n",
    "}\n",
    "model = timm.create_model(**timm_kwargs)\n",
    "local_dir = \"C:/Users/hua01/Desktop/cwc/SpatialMultimodal/codes/UNI/assets/ckpts/uni2-h/\"\n",
    "model.load_state_dict(torch.load(os.path.join(local_dir, \"pytorch_model.bin\"), map_location=\"cpu\"), strict=True)\n",
    "model.eval()\n",
    "model.to(device)\n",
    "transform = transforms.Compose(\n",
    "    [\n",
    "        transforms.Resize(224),\n",
    "        transforms.ToTensor(),\n",
    "        transforms.Normalize(mean=(0.485, 0.456, 0.406), std=(0.229, 0.224, 0.225)),\n",
    "    ]\n",
    ")"
   ]
  },
  {
   "cell_type": "markdown",
   "id": "3fb10716-3bbc-46d4-ad38-9f6888d3d018",
   "metadata": {},
   "source": [
    "## read sdata and add embedding"
   ]
  },
  {
   "cell_type": "code",
   "execution_count": 72,
   "id": "6d73e298-fab1-46db-be68-f0de0f235b2a",
   "metadata": {},
   "outputs": [
    {
     "ename": "ImportError",
     "evalue": "cannot import name 'make_self_contained' from 'spatialdata' (C:\\Users\\hua01\\AppData\\Local\\miniforge3\\envs\\spd\\lib\\site-packages\\spatialdata\\__init__.py)",
     "output_type": "error",
     "traceback": [
      "\u001b[1;31m---------------------------------------------------------------------------\u001b[0m",
      "\u001b[1;31mImportError\u001b[0m                               Traceback (most recent call last)",
      "Cell \u001b[1;32mIn[72], line 9\u001b[0m\n\u001b[0;32m      7\u001b[0m \u001b[38;5;28;01mimport\u001b[39;00m\u001b[38;5;250m \u001b[39m\u001b[38;5;21;01mspatialdata_plot\u001b[39;00m\u001b[38;5;250m \u001b[39m\u001b[38;5;28;01mas\u001b[39;00m\u001b[38;5;250m \u001b[39m\u001b[38;5;21;01msdp\u001b[39;00m  \u001b[38;5;66;03m# noqa: F401\u001b[39;00m\n\u001b[0;32m      8\u001b[0m \u001b[38;5;28;01mimport\u001b[39;00m\u001b[38;5;250m \u001b[39m\u001b[38;5;21;01msquidpy\u001b[39;00m\u001b[38;5;250m \u001b[39m\u001b[38;5;28;01mas\u001b[39;00m\u001b[38;5;250m \u001b[39m\u001b[38;5;21;01msq\u001b[39;00m\n\u001b[1;32m----> 9\u001b[0m \u001b[38;5;28;01mfrom\u001b[39;00m\u001b[38;5;250m \u001b[39m\u001b[38;5;21;01mspatialdata\u001b[39;00m\u001b[38;5;250m \u001b[39m\u001b[38;5;28;01mimport\u001b[39;00m make_self_contained\n\u001b[0;32m     11\u001b[0m \u001b[38;5;28;01mfrom\u001b[39;00m\u001b[38;5;250m \u001b[39m\u001b[38;5;21;01mPIL\u001b[39;00m\u001b[38;5;250m \u001b[39m\u001b[38;5;28;01mimport\u001b[39;00m Image\n\u001b[0;32m     12\u001b[0m \u001b[38;5;28;01mfrom\u001b[39;00m\u001b[38;5;250m \u001b[39m\u001b[38;5;21;01mtqdm\u001b[39;00m\u001b[38;5;250m \u001b[39m\u001b[38;5;28;01mimport\u001b[39;00m tqdm\n",
      "\u001b[1;31mImportError\u001b[0m: cannot import name 'make_self_contained' from 'spatialdata' (C:\\Users\\hua01\\AppData\\Local\\miniforge3\\envs\\spd\\lib\\site-packages\\spatialdata\\__init__.py)"
     ]
    }
   ],
   "source": [
    "import geopandas as gpd\n",
    "import matplotlib.pyplot as plt\n",
    "import numpy as np\n",
    "import pandas as pd\n",
    "import anndata\n",
    "import spatialdata as sd\n",
    "import spatialdata_plot as sdp  # noqa: F401\n",
    "import squidpy as sq\n",
    "# from spatialdata import make_self_contained\n",
    "\n",
    "from PIL import Image\n",
    "from tqdm import tqdm\n",
    "import scanpy as sc"
   ]
  },
  {
   "cell_type": "code",
   "execution_count": 67,
   "id": "db552f82-41e4-46b2-84fa-b6660e705722",
   "metadata": {},
   "outputs": [],
   "source": [
    "input_path = 'C:/Users/hua01/Desktop/cwc/SpatialMultimodal/spd_new/'\n",
    "output_path = 'C:/Users/hua01/Desktop/cwc/SpatialMultimodal/spd_new/UNI'\n",
    "subfolders = sorted([f.path for f in os.scandir(input_path) if f.is_dir()])\n",
    "LEAP_folders  = [x for x in subfolders if '.zarr' in x]"
   ]
  },
  {
   "cell_type": "code",
   "execution_count": 68,
   "id": "5e49aadb-33c4-43ec-817c-5cb6b751737d",
   "metadata": {},
   "outputs": [
    {
     "data": {
      "text/plain": [
       "75"
      ]
     },
     "execution_count": 68,
     "metadata": {},
     "output_type": "execute_result"
    }
   ],
   "source": [
    "len(LEAP_folders)"
   ]
  },
  {
   "cell_type": "code",
   "execution_count": 83,
   "id": "6f96250b-63fb-41ed-a528-1eac16b47f1e",
   "metadata": {
    "collapsed": true,
    "jupyter": {
     "outputs_hidden": true
    }
   },
   "outputs": [
    {
     "name": "stdout",
     "output_type": "stream",
     "text": [
      "LEAP-002A\n"
     ]
    },
    {
     "name": "stderr",
     "output_type": "stream",
     "text": [
      "100%|█████████████████████████████████████████████████████████| 1944/1944 [01:29<00:00, 21.73it/s]\n"
     ]
    },
    {
     "name": "stdout",
     "output_type": "stream",
     "text": [
      "\u001b[34mINFO    \u001b[0m The SpatialData object is not self-contained \u001b[1m(\u001b[0mi.e. it contains some elements that are Dask-backed from    \n",
      "         locations outside C:\\Users\\hua01\\Desktop\\cwc\\SpatialMultimodal\\spd_new\\UNI\\LEAP-002A_sdata.zarr\u001b[1m)\u001b[0m. Please  \n",
      "         see the documentation of `\u001b[1;35mis_self_contained\u001b[0m\u001b[1m(\u001b[0m\u001b[1m)\u001b[0m` to understand the implications of working with SpatialData \n",
      "         objects that are not self-contained.                                                                      \n",
      "\u001b[34mINFO    \u001b[0m The Zarr backing store has been changed from                                                              \n",
      "         C:\\Users\\hua01\\Desktop\\cwc\\SpatialMultimodal\\spd_new\\LEAP-002A_sdata.zarr the new file path:              \n",
      "         C:\\Users\\hua01\\Desktop\\cwc\\SpatialMultimodal\\spd_new\\UNI\\LEAP-002A_sdata.zarr                             \n",
      "LEAP-002B\n"
     ]
    },
    {
     "name": "stderr",
     "output_type": "stream",
     "text": [
      "100%|███████████████████████████████████████████████████████| 10337/10337 [08:06<00:00, 21.23it/s]\n"
     ]
    },
    {
     "name": "stdout",
     "output_type": "stream",
     "text": [
      "\u001b[34mINFO    \u001b[0m The SpatialData object is not self-contained \u001b[1m(\u001b[0mi.e. it contains some elements that are Dask-backed from    \n",
      "         locations outside C:\\Users\\hua01\\Desktop\\cwc\\SpatialMultimodal\\spd_new\\UNI\\LEAP-002B_sdata.zarr\u001b[1m)\u001b[0m. Please  \n",
      "         see the documentation of `\u001b[1;35mis_self_contained\u001b[0m\u001b[1m(\u001b[0m\u001b[1m)\u001b[0m` to understand the implications of working with SpatialData \n",
      "         objects that are not self-contained.                                                                      \n",
      "\u001b[34mINFO    \u001b[0m The Zarr backing store has been changed from                                                              \n",
      "         C:\\Users\\hua01\\Desktop\\cwc\\SpatialMultimodal\\spd_new\\LEAP-002B_sdata.zarr the new file path:              \n",
      "         C:\\Users\\hua01\\Desktop\\cwc\\SpatialMultimodal\\spd_new\\UNI\\LEAP-002B_sdata.zarr                             \n",
      "LEAP-003A\n"
     ]
    },
    {
     "name": "stderr",
     "output_type": "stream",
     "text": [
      "100%|█████████████████████████████████████████████████████████| 3072/3072 [02:30<00:00, 20.47it/s]\n"
     ]
    },
    {
     "name": "stdout",
     "output_type": "stream",
     "text": [
      "\u001b[34mINFO    \u001b[0m The SpatialData object is not self-contained \u001b[1m(\u001b[0mi.e. it contains some elements that are Dask-backed from    \n",
      "         locations outside C:\\Users\\hua01\\Desktop\\cwc\\SpatialMultimodal\\spd_new\\UNI\\LEAP-003A_sdata.zarr\u001b[1m)\u001b[0m. Please  \n",
      "         see the documentation of `\u001b[1;35mis_self_contained\u001b[0m\u001b[1m(\u001b[0m\u001b[1m)\u001b[0m` to understand the implications of working with SpatialData \n",
      "         objects that are not self-contained.                                                                      \n",
      "\u001b[34mINFO    \u001b[0m The Zarr backing store has been changed from                                                              \n",
      "         C:\\Users\\hua01\\Desktop\\cwc\\SpatialMultimodal\\spd_new\\LEAP-003A_sdata.zarr the new file path:              \n",
      "         C:\\Users\\hua01\\Desktop\\cwc\\SpatialMultimodal\\spd_new\\UNI\\LEAP-003A_sdata.zarr                             \n",
      "LEAP-003B\n"
     ]
    },
    {
     "name": "stderr",
     "output_type": "stream",
     "text": [
      "100%|█████████████████████████████████████████████████████████| 7882/7882 [06:10<00:00, 21.27it/s]\n"
     ]
    },
    {
     "name": "stdout",
     "output_type": "stream",
     "text": [
      "\u001b[34mINFO    \u001b[0m The SpatialData object is not self-contained \u001b[1m(\u001b[0mi.e. it contains some elements that are Dask-backed from    \n",
      "         locations outside C:\\Users\\hua01\\Desktop\\cwc\\SpatialMultimodal\\spd_new\\UNI\\LEAP-003B_sdata.zarr\u001b[1m)\u001b[0m. Please  \n",
      "         see the documentation of `\u001b[1;35mis_self_contained\u001b[0m\u001b[1m(\u001b[0m\u001b[1m)\u001b[0m` to understand the implications of working with SpatialData \n",
      "         objects that are not self-contained.                                                                      \n",
      "\u001b[34mINFO    \u001b[0m The Zarr backing store has been changed from                                                              \n",
      "         C:\\Users\\hua01\\Desktop\\cwc\\SpatialMultimodal\\spd_new\\LEAP-003B_sdata.zarr the new file path:              \n",
      "         C:\\Users\\hua01\\Desktop\\cwc\\SpatialMultimodal\\spd_new\\UNI\\LEAP-003B_sdata.zarr                             \n",
      "LEAP-004A\n"
     ]
    },
    {
     "name": "stderr",
     "output_type": "stream",
     "text": [
      "100%|█████████████████████████████████████████████████████████| 2656/2656 [02:07<00:00, 20.87it/s]\n"
     ]
    },
    {
     "name": "stdout",
     "output_type": "stream",
     "text": [
      "\u001b[34mINFO    \u001b[0m The SpatialData object is not self-contained \u001b[1m(\u001b[0mi.e. it contains some elements that are Dask-backed from    \n",
      "         locations outside C:\\Users\\hua01\\Desktop\\cwc\\SpatialMultimodal\\spd_new\\UNI\\LEAP-004A_sdata.zarr\u001b[1m)\u001b[0m. Please  \n",
      "         see the documentation of `\u001b[1;35mis_self_contained\u001b[0m\u001b[1m(\u001b[0m\u001b[1m)\u001b[0m` to understand the implications of working with SpatialData \n",
      "         objects that are not self-contained.                                                                      \n",
      "\u001b[34mINFO    \u001b[0m The Zarr backing store has been changed from                                                              \n",
      "         C:\\Users\\hua01\\Desktop\\cwc\\SpatialMultimodal\\spd_new\\LEAP-004A_sdata.zarr the new file path:              \n",
      "         C:\\Users\\hua01\\Desktop\\cwc\\SpatialMultimodal\\spd_new\\UNI\\LEAP-004A_sdata.zarr                             \n",
      "LEAP-004B\n"
     ]
    },
    {
     "name": "stderr",
     "output_type": "stream",
     "text": [
      "100%|█████████████████████████████████████████████████████████| 6146/6146 [04:54<00:00, 20.86it/s]\n"
     ]
    },
    {
     "name": "stdout",
     "output_type": "stream",
     "text": [
      "\u001b[34mINFO    \u001b[0m The SpatialData object is not self-contained \u001b[1m(\u001b[0mi.e. it contains some elements that are Dask-backed from    \n",
      "         locations outside C:\\Users\\hua01\\Desktop\\cwc\\SpatialMultimodal\\spd_new\\UNI\\LEAP-004B_sdata.zarr\u001b[1m)\u001b[0m. Please  \n",
      "         see the documentation of `\u001b[1;35mis_self_contained\u001b[0m\u001b[1m(\u001b[0m\u001b[1m)\u001b[0m` to understand the implications of working with SpatialData \n",
      "         objects that are not self-contained.                                                                      \n",
      "\u001b[34mINFO    \u001b[0m The Zarr backing store has been changed from                                                              \n",
      "         C:\\Users\\hua01\\Desktop\\cwc\\SpatialMultimodal\\spd_new\\LEAP-004B-2_sdata.zarr the new file path:            \n",
      "         C:\\Users\\hua01\\Desktop\\cwc\\SpatialMultimodal\\spd_new\\UNI\\LEAP-004B_sdata.zarr                             \n",
      "LEAP-005B\n"
     ]
    },
    {
     "name": "stderr",
     "output_type": "stream",
     "text": [
      "100%|█████████████████████████████████████████████████████████| 8300/8300 [06:48<00:00, 20.34it/s]\n"
     ]
    },
    {
     "name": "stdout",
     "output_type": "stream",
     "text": [
      "\u001b[34mINFO    \u001b[0m The SpatialData object is not self-contained \u001b[1m(\u001b[0mi.e. it contains some elements that are Dask-backed from    \n",
      "         locations outside C:\\Users\\hua01\\Desktop\\cwc\\SpatialMultimodal\\spd_new\\UNI\\LEAP-005B_sdata.zarr\u001b[1m)\u001b[0m. Please  \n",
      "         see the documentation of `\u001b[1;35mis_self_contained\u001b[0m\u001b[1m(\u001b[0m\u001b[1m)\u001b[0m` to understand the implications of working with SpatialData \n",
      "         objects that are not self-contained.                                                                      \n",
      "\u001b[34mINFO    \u001b[0m The Zarr backing store has been changed from                                                              \n",
      "         C:\\Users\\hua01\\Desktop\\cwc\\SpatialMultimodal\\spd_new\\LEAP-005B_sdata.zarr the new file path:              \n",
      "         C:\\Users\\hua01\\Desktop\\cwc\\SpatialMultimodal\\spd_new\\UNI\\LEAP-005B_sdata.zarr                             \n",
      "LEAP-006A\n"
     ]
    },
    {
     "name": "stderr",
     "output_type": "stream",
     "text": [
      "100%|█████████████████████████████████████████████████████████| 2200/2200 [01:45<00:00, 20.89it/s]\n"
     ]
    },
    {
     "name": "stdout",
     "output_type": "stream",
     "text": [
      "\u001b[34mINFO    \u001b[0m The SpatialData object is not self-contained \u001b[1m(\u001b[0mi.e. it contains some elements that are Dask-backed from    \n",
      "         locations outside C:\\Users\\hua01\\Desktop\\cwc\\SpatialMultimodal\\spd_new\\UNI\\LEAP-006A_sdata.zarr\u001b[1m)\u001b[0m. Please  \n",
      "         see the documentation of `\u001b[1;35mis_self_contained\u001b[0m\u001b[1m(\u001b[0m\u001b[1m)\u001b[0m` to understand the implications of working with SpatialData \n",
      "         objects that are not self-contained.                                                                      \n",
      "\u001b[34mINFO    \u001b[0m The Zarr backing store has been changed from                                                              \n",
      "         C:\\Users\\hua01\\Desktop\\cwc\\SpatialMultimodal\\spd_new\\LEAP-006A_sdata.zarr the new file path:              \n",
      "         C:\\Users\\hua01\\Desktop\\cwc\\SpatialMultimodal\\spd_new\\UNI\\LEAP-006A_sdata.zarr                             \n",
      "LEAP-006B\n"
     ]
    },
    {
     "name": "stderr",
     "output_type": "stream",
     "text": [
      "100%|█████████████████████████████████████████████████████████| 6586/6586 [05:13<00:00, 21.00it/s]\n"
     ]
    },
    {
     "name": "stdout",
     "output_type": "stream",
     "text": [
      "\u001b[34mINFO    \u001b[0m The SpatialData object is not self-contained \u001b[1m(\u001b[0mi.e. it contains some elements that are Dask-backed from    \n",
      "         locations outside C:\\Users\\hua01\\Desktop\\cwc\\SpatialMultimodal\\spd_new\\UNI\\LEAP-006B_sdata.zarr\u001b[1m)\u001b[0m. Please  \n",
      "         see the documentation of `\u001b[1;35mis_self_contained\u001b[0m\u001b[1m(\u001b[0m\u001b[1m)\u001b[0m` to understand the implications of working with SpatialData \n",
      "         objects that are not self-contained.                                                                      \n",
      "\u001b[34mINFO    \u001b[0m The Zarr backing store has been changed from                                                              \n",
      "         C:\\Users\\hua01\\Desktop\\cwc\\SpatialMultimodal\\spd_new\\LEAP-006B_sdata.zarr the new file path:              \n",
      "         C:\\Users\\hua01\\Desktop\\cwc\\SpatialMultimodal\\spd_new\\UNI\\LEAP-006B_sdata.zarr                             \n",
      "LEAP-007A\n"
     ]
    },
    {
     "name": "stderr",
     "output_type": "stream",
     "text": [
      "100%|█████████████████████████████████████████████████████████| 1084/1084 [00:51<00:00, 20.95it/s]\n"
     ]
    },
    {
     "name": "stdout",
     "output_type": "stream",
     "text": [
      "\u001b[34mINFO    \u001b[0m The SpatialData object is not self-contained \u001b[1m(\u001b[0mi.e. it contains some elements that are Dask-backed from    \n",
      "         locations outside C:\\Users\\hua01\\Desktop\\cwc\\SpatialMultimodal\\spd_new\\UNI\\LEAP-007A_sdata.zarr\u001b[1m)\u001b[0m. Please  \n",
      "         see the documentation of `\u001b[1;35mis_self_contained\u001b[0m\u001b[1m(\u001b[0m\u001b[1m)\u001b[0m` to understand the implications of working with SpatialData \n",
      "         objects that are not self-contained.                                                                      \n",
      "\u001b[34mINFO    \u001b[0m The Zarr backing store has been changed from                                                              \n",
      "         C:\\Users\\hua01\\Desktop\\cwc\\SpatialMultimodal\\spd_new\\LEAP-007A_sdata.zarr the new file path:              \n",
      "         C:\\Users\\hua01\\Desktop\\cwc\\SpatialMultimodal\\spd_new\\UNI\\LEAP-007A_sdata.zarr                             \n",
      "LEAP-007B\n"
     ]
    },
    {
     "name": "stderr",
     "output_type": "stream",
     "text": [
      "100%|█████████████████████████████████████████████████████████| 7599/7599 [06:03<00:00, 20.93it/s]\n"
     ]
    },
    {
     "name": "stdout",
     "output_type": "stream",
     "text": [
      "\u001b[34mINFO    \u001b[0m The SpatialData object is not self-contained \u001b[1m(\u001b[0mi.e. it contains some elements that are Dask-backed from    \n",
      "         locations outside C:\\Users\\hua01\\Desktop\\cwc\\SpatialMultimodal\\spd_new\\UNI\\LEAP-007B_sdata.zarr\u001b[1m)\u001b[0m. Please  \n",
      "         see the documentation of `\u001b[1;35mis_self_contained\u001b[0m\u001b[1m(\u001b[0m\u001b[1m)\u001b[0m` to understand the implications of working with SpatialData \n",
      "         objects that are not self-contained.                                                                      \n",
      "\u001b[34mINFO    \u001b[0m The Zarr backing store has been changed from                                                              \n",
      "         C:\\Users\\hua01\\Desktop\\cwc\\SpatialMultimodal\\spd_new\\LEAP-007B_sdata.zarr the new file path:              \n",
      "         C:\\Users\\hua01\\Desktop\\cwc\\SpatialMultimodal\\spd_new\\UNI\\LEAP-007B_sdata.zarr                             \n",
      "LEAP-008A\n"
     ]
    },
    {
     "name": "stderr",
     "output_type": "stream",
     "text": [
      "100%|█████████████████████████████████████████████████████████| 2118/2118 [01:42<00:00, 20.66it/s]\n"
     ]
    },
    {
     "name": "stdout",
     "output_type": "stream",
     "text": [
      "\u001b[34mINFO    \u001b[0m The SpatialData object is not self-contained \u001b[1m(\u001b[0mi.e. it contains some elements that are Dask-backed from    \n",
      "         locations outside C:\\Users\\hua01\\Desktop\\cwc\\SpatialMultimodal\\spd_new\\UNI\\LEAP-008A_sdata.zarr\u001b[1m)\u001b[0m. Please  \n",
      "         see the documentation of `\u001b[1;35mis_self_contained\u001b[0m\u001b[1m(\u001b[0m\u001b[1m)\u001b[0m` to understand the implications of working with SpatialData \n",
      "         objects that are not self-contained.                                                                      \n",
      "\u001b[34mINFO    \u001b[0m The Zarr backing store has been changed from                                                              \n",
      "         C:\\Users\\hua01\\Desktop\\cwc\\SpatialMultimodal\\spd_new\\LEAP-008A_sdata.zarr the new file path:              \n",
      "         C:\\Users\\hua01\\Desktop\\cwc\\SpatialMultimodal\\spd_new\\UNI\\LEAP-008A_sdata.zarr                             \n",
      "LEAP-008B\n"
     ]
    },
    {
     "name": "stderr",
     "output_type": "stream",
     "text": [
      "100%|███████████████████████████████████████████████████████| 10304/10304 [08:08<00:00, 21.07it/s]\n"
     ]
    },
    {
     "name": "stdout",
     "output_type": "stream",
     "text": [
      "\u001b[34mINFO    \u001b[0m The SpatialData object is not self-contained \u001b[1m(\u001b[0mi.e. it contains some elements that are Dask-backed from    \n",
      "         locations outside C:\\Users\\hua01\\Desktop\\cwc\\SpatialMultimodal\\spd_new\\UNI\\LEAP-008B_sdata.zarr\u001b[1m)\u001b[0m. Please  \n",
      "         see the documentation of `\u001b[1;35mis_self_contained\u001b[0m\u001b[1m(\u001b[0m\u001b[1m)\u001b[0m` to understand the implications of working with SpatialData \n",
      "         objects that are not self-contained.                                                                      \n",
      "\u001b[34mINFO    \u001b[0m The Zarr backing store has been changed from                                                              \n",
      "         C:\\Users\\hua01\\Desktop\\cwc\\SpatialMultimodal\\spd_new\\LEAP-008B_sdata.zarr the new file path:              \n",
      "         C:\\Users\\hua01\\Desktop\\cwc\\SpatialMultimodal\\spd_new\\UNI\\LEAP-008B_sdata.zarr                             \n",
      "LEAP-010A\n"
     ]
    },
    {
     "name": "stderr",
     "output_type": "stream",
     "text": [
      "100%|█████████████████████████████████████████████████████████| 1755/1755 [01:25<00:00, 20.60it/s]\n"
     ]
    },
    {
     "name": "stdout",
     "output_type": "stream",
     "text": [
      "\u001b[34mINFO    \u001b[0m The SpatialData object is not self-contained \u001b[1m(\u001b[0mi.e. it contains some elements that are Dask-backed from    \n",
      "         locations outside C:\\Users\\hua01\\Desktop\\cwc\\SpatialMultimodal\\spd_new\\UNI\\LEAP-010A_sdata.zarr\u001b[1m)\u001b[0m. Please  \n",
      "         see the documentation of `\u001b[1;35mis_self_contained\u001b[0m\u001b[1m(\u001b[0m\u001b[1m)\u001b[0m` to understand the implications of working with SpatialData \n",
      "         objects that are not self-contained.                                                                      \n",
      "\u001b[34mINFO    \u001b[0m The Zarr backing store has been changed from                                                              \n",
      "         C:\\Users\\hua01\\Desktop\\cwc\\SpatialMultimodal\\spd_new\\LEAP-010A_sdata.zarr the new file path:              \n",
      "         C:\\Users\\hua01\\Desktop\\cwc\\SpatialMultimodal\\spd_new\\UNI\\LEAP-010A_sdata.zarr                             \n",
      "LEAP-010B\n"
     ]
    },
    {
     "name": "stderr",
     "output_type": "stream",
     "text": [
      "100%|█████████████████████████████████████████████████████████| 8921/8921 [07:12<00:00, 20.63it/s]\n"
     ]
    },
    {
     "name": "stdout",
     "output_type": "stream",
     "text": [
      "\u001b[34mINFO    \u001b[0m The SpatialData object is not self-contained \u001b[1m(\u001b[0mi.e. it contains some elements that are Dask-backed from    \n",
      "         locations outside C:\\Users\\hua01\\Desktop\\cwc\\SpatialMultimodal\\spd_new\\UNI\\LEAP-010B_sdata.zarr\u001b[1m)\u001b[0m. Please  \n",
      "         see the documentation of `\u001b[1;35mis_self_contained\u001b[0m\u001b[1m(\u001b[0m\u001b[1m)\u001b[0m` to understand the implications of working with SpatialData \n",
      "         objects that are not self-contained.                                                                      \n",
      "\u001b[34mINFO    \u001b[0m The Zarr backing store has been changed from                                                              \n",
      "         C:\\Users\\hua01\\Desktop\\cwc\\SpatialMultimodal\\spd_new\\LEAP-010B_sdata.zarr the new file path:              \n",
      "         C:\\Users\\hua01\\Desktop\\cwc\\SpatialMultimodal\\spd_new\\UNI\\LEAP-010B_sdata.zarr                             \n",
      "LEAP-011A\n"
     ]
    },
    {
     "name": "stderr",
     "output_type": "stream",
     "text": [
      "100%|███████████████████████████████████████████████████████████| 735/735 [00:35<00:00, 20.53it/s]\n"
     ]
    },
    {
     "name": "stdout",
     "output_type": "stream",
     "text": [
      "\u001b[34mINFO    \u001b[0m The SpatialData object is not self-contained \u001b[1m(\u001b[0mi.e. it contains some elements that are Dask-backed from    \n",
      "         locations outside C:\\Users\\hua01\\Desktop\\cwc\\SpatialMultimodal\\spd_new\\UNI\\LEAP-011A_sdata.zarr\u001b[1m)\u001b[0m. Please  \n",
      "         see the documentation of `\u001b[1;35mis_self_contained\u001b[0m\u001b[1m(\u001b[0m\u001b[1m)\u001b[0m` to understand the implications of working with SpatialData \n",
      "         objects that are not self-contained.                                                                      \n",
      "\u001b[34mINFO    \u001b[0m The Zarr backing store has been changed from                                                              \n",
      "         C:\\Users\\hua01\\Desktop\\cwc\\SpatialMultimodal\\spd_new\\LEAP-011A_sdata.zarr the new file path:              \n",
      "         C:\\Users\\hua01\\Desktop\\cwc\\SpatialMultimodal\\spd_new\\UNI\\LEAP-011A_sdata.zarr                             \n",
      "LEAP-011B\n"
     ]
    },
    {
     "name": "stderr",
     "output_type": "stream",
     "text": [
      "100%|█████████████████████████████████████████████████████████| 7658/7658 [06:09<00:00, 20.73it/s]\n"
     ]
    },
    {
     "name": "stdout",
     "output_type": "stream",
     "text": [
      "\u001b[34mINFO    \u001b[0m The SpatialData object is not self-contained \u001b[1m(\u001b[0mi.e. it contains some elements that are Dask-backed from    \n",
      "         locations outside C:\\Users\\hua01\\Desktop\\cwc\\SpatialMultimodal\\spd_new\\UNI\\LEAP-011B_sdata.zarr\u001b[1m)\u001b[0m. Please  \n",
      "         see the documentation of `\u001b[1;35mis_self_contained\u001b[0m\u001b[1m(\u001b[0m\u001b[1m)\u001b[0m` to understand the implications of working with SpatialData \n",
      "         objects that are not self-contained.                                                                      \n",
      "\u001b[34mINFO    \u001b[0m The Zarr backing store has been changed from                                                              \n",
      "         C:\\Users\\hua01\\Desktop\\cwc\\SpatialMultimodal\\spd_new\\LEAP-011B_sdata.zarr the new file path:              \n",
      "         C:\\Users\\hua01\\Desktop\\cwc\\SpatialMultimodal\\spd_new\\UNI\\LEAP-011B_sdata.zarr                             \n",
      "LEAP-012B\n"
     ]
    },
    {
     "name": "stderr",
     "output_type": "stream",
     "text": [
      "100%|█████████████████████████████████████████████████████████| 7458/7458 [06:10<00:00, 20.12it/s]\n"
     ]
    },
    {
     "name": "stdout",
     "output_type": "stream",
     "text": [
      "\u001b[34mINFO    \u001b[0m The SpatialData object is not self-contained \u001b[1m(\u001b[0mi.e. it contains some elements that are Dask-backed from    \n",
      "         locations outside C:\\Users\\hua01\\Desktop\\cwc\\SpatialMultimodal\\spd_new\\UNI\\LEAP-012B_sdata.zarr\u001b[1m)\u001b[0m. Please  \n",
      "         see the documentation of `\u001b[1;35mis_self_contained\u001b[0m\u001b[1m(\u001b[0m\u001b[1m)\u001b[0m` to understand the implications of working with SpatialData \n",
      "         objects that are not self-contained.                                                                      \n",
      "\u001b[34mINFO    \u001b[0m The Zarr backing store has been changed from                                                              \n",
      "         C:\\Users\\hua01\\Desktop\\cwc\\SpatialMultimodal\\spd_new\\LEAP-012B_sdata.zarr the new file path:              \n",
      "         C:\\Users\\hua01\\Desktop\\cwc\\SpatialMultimodal\\spd_new\\UNI\\LEAP-012B_sdata.zarr                             \n",
      "LEAP-013A\n"
     ]
    },
    {
     "name": "stderr",
     "output_type": "stream",
     "text": [
      "100%|█████████████████████████████████████████████████████████| 1815/1815 [01:29<00:00, 20.30it/s]\n"
     ]
    },
    {
     "name": "stdout",
     "output_type": "stream",
     "text": [
      "\u001b[34mINFO    \u001b[0m The SpatialData object is not self-contained \u001b[1m(\u001b[0mi.e. it contains some elements that are Dask-backed from    \n",
      "         locations outside C:\\Users\\hua01\\Desktop\\cwc\\SpatialMultimodal\\spd_new\\UNI\\LEAP-013A_sdata.zarr\u001b[1m)\u001b[0m. Please  \n",
      "         see the documentation of `\u001b[1;35mis_self_contained\u001b[0m\u001b[1m(\u001b[0m\u001b[1m)\u001b[0m` to understand the implications of working with SpatialData \n",
      "         objects that are not self-contained.                                                                      \n",
      "\u001b[34mINFO    \u001b[0m The Zarr backing store has been changed from                                                              \n",
      "         C:\\Users\\hua01\\Desktop\\cwc\\SpatialMultimodal\\spd_new\\LEAP-013A_sdata.zarr the new file path:              \n",
      "         C:\\Users\\hua01\\Desktop\\cwc\\SpatialMultimodal\\spd_new\\UNI\\LEAP-013A_sdata.zarr                             \n",
      "LEAP-013B\n"
     ]
    },
    {
     "name": "stderr",
     "output_type": "stream",
     "text": [
      "100%|█████████████████████████████████████████████████████████| 8457/8457 [07:02<00:00, 20.02it/s]\n"
     ]
    },
    {
     "name": "stdout",
     "output_type": "stream",
     "text": [
      "\u001b[34mINFO    \u001b[0m The SpatialData object is not self-contained \u001b[1m(\u001b[0mi.e. it contains some elements that are Dask-backed from    \n",
      "         locations outside C:\\Users\\hua01\\Desktop\\cwc\\SpatialMultimodal\\spd_new\\UNI\\LEAP-013B_sdata.zarr\u001b[1m)\u001b[0m. Please  \n",
      "         see the documentation of `\u001b[1;35mis_self_contained\u001b[0m\u001b[1m(\u001b[0m\u001b[1m)\u001b[0m` to understand the implications of working with SpatialData \n",
      "         objects that are not self-contained.                                                                      \n",
      "\u001b[34mINFO    \u001b[0m The Zarr backing store has been changed from                                                              \n",
      "         C:\\Users\\hua01\\Desktop\\cwc\\SpatialMultimodal\\spd_new\\LEAP-013B_sdata.zarr the new file path:              \n",
      "         C:\\Users\\hua01\\Desktop\\cwc\\SpatialMultimodal\\spd_new\\UNI\\LEAP-013B_sdata.zarr                             \n",
      "LEAP-014A\n"
     ]
    },
    {
     "name": "stderr",
     "output_type": "stream",
     "text": [
      " 72%|█████████████████████████████████████████▎               | 1511/2087 [01:16<00:29, 19.70it/s]\n"
     ]
    },
    {
     "name": "stdout",
     "output_type": "stream",
     "text": [
      "('LEAP-014A', ValueError(\"Coordinate 'lower' is less than 'upper'\"))\n",
      "LEAP-014B\n"
     ]
    },
    {
     "name": "stderr",
     "output_type": "stream",
     "text": [
      "100%|█████████████████████████████████████████████████████████| 9738/9738 [07:59<00:00, 20.32it/s]\n"
     ]
    },
    {
     "name": "stdout",
     "output_type": "stream",
     "text": [
      "\u001b[34mINFO    \u001b[0m The SpatialData object is not self-contained \u001b[1m(\u001b[0mi.e. it contains some elements that are Dask-backed from    \n",
      "         locations outside C:\\Users\\hua01\\Desktop\\cwc\\SpatialMultimodal\\spd_new\\UNI\\LEAP-014B_sdata.zarr\u001b[1m)\u001b[0m. Please  \n",
      "         see the documentation of `\u001b[1;35mis_self_contained\u001b[0m\u001b[1m(\u001b[0m\u001b[1m)\u001b[0m` to understand the implications of working with SpatialData \n",
      "         objects that are not self-contained.                                                                      \n",
      "\u001b[34mINFO    \u001b[0m The Zarr backing store has been changed from                                                              \n",
      "         C:\\Users\\hua01\\Desktop\\cwc\\SpatialMultimodal\\spd_new\\LEAP-014B_sdata.zarr the new file path:              \n",
      "         C:\\Users\\hua01\\Desktop\\cwc\\SpatialMultimodal\\spd_new\\UNI\\LEAP-014B_sdata.zarr                             \n",
      "LEAP-015A\n"
     ]
    },
    {
     "name": "stderr",
     "output_type": "stream",
     "text": [
      "100%|█████████████████████████████████████████████████████████| 1502/1502 [01:15<00:00, 20.01it/s]\n"
     ]
    },
    {
     "name": "stdout",
     "output_type": "stream",
     "text": [
      "\u001b[34mINFO    \u001b[0m The SpatialData object is not self-contained \u001b[1m(\u001b[0mi.e. it contains some elements that are Dask-backed from    \n",
      "         locations outside C:\\Users\\hua01\\Desktop\\cwc\\SpatialMultimodal\\spd_new\\UNI\\LEAP-015A_sdata.zarr\u001b[1m)\u001b[0m. Please  \n",
      "         see the documentation of `\u001b[1;35mis_self_contained\u001b[0m\u001b[1m(\u001b[0m\u001b[1m)\u001b[0m` to understand the implications of working with SpatialData \n",
      "         objects that are not self-contained.                                                                      \n",
      "\u001b[34mINFO    \u001b[0m The Zarr backing store has been changed from                                                              \n",
      "         C:\\Users\\hua01\\Desktop\\cwc\\SpatialMultimodal\\spd_new\\LEAP-015A_sdata.zarr the new file path:              \n",
      "         C:\\Users\\hua01\\Desktop\\cwc\\SpatialMultimodal\\spd_new\\UNI\\LEAP-015A_sdata.zarr                             \n",
      "LEAP-016A\n"
     ]
    },
    {
     "name": "stderr",
     "output_type": "stream",
     "text": [
      "  1%|▌                                                            | 6/668 [00:01<02:56,  3.76it/s]\n"
     ]
    },
    {
     "name": "stdout",
     "output_type": "stream",
     "text": [
      "('LEAP-016A', ValueError(\"Coordinate 'right' is less than 'left'\"))\n",
      "LEAP-017A\n"
     ]
    },
    {
     "name": "stderr",
     "output_type": "stream",
     "text": [
      "100%|█████████████████████████████████████████████████████████| 2320/2320 [01:56<00:00, 19.92it/s]\n"
     ]
    },
    {
     "name": "stdout",
     "output_type": "stream",
     "text": [
      "\u001b[34mINFO    \u001b[0m The SpatialData object is not self-contained \u001b[1m(\u001b[0mi.e. it contains some elements that are Dask-backed from    \n",
      "         locations outside C:\\Users\\hua01\\Desktop\\cwc\\SpatialMultimodal\\spd_new\\UNI\\LEAP-017A_sdata.zarr\u001b[1m)\u001b[0m. Please  \n",
      "         see the documentation of `\u001b[1;35mis_self_contained\u001b[0m\u001b[1m(\u001b[0m\u001b[1m)\u001b[0m` to understand the implications of working with SpatialData \n",
      "         objects that are not self-contained.                                                                      \n",
      "\u001b[34mINFO    \u001b[0m The Zarr backing store has been changed from                                                              \n",
      "         C:\\Users\\hua01\\Desktop\\cwc\\SpatialMultimodal\\spd_new\\LEAP-017A_sdata.zarr the new file path:              \n",
      "         C:\\Users\\hua01\\Desktop\\cwc\\SpatialMultimodal\\spd_new\\UNI\\LEAP-017A_sdata.zarr                             \n",
      "LEAP-017B\n"
     ]
    },
    {
     "name": "stderr",
     "output_type": "stream",
     "text": [
      "100%|█████████████████████████████████████████████████████████| 8967/8967 [07:23<00:00, 20.24it/s]\n"
     ]
    },
    {
     "name": "stdout",
     "output_type": "stream",
     "text": [
      "\u001b[34mINFO    \u001b[0m The SpatialData object is not self-contained \u001b[1m(\u001b[0mi.e. it contains some elements that are Dask-backed from    \n",
      "         locations outside C:\\Users\\hua01\\Desktop\\cwc\\SpatialMultimodal\\spd_new\\UNI\\LEAP-017B_sdata.zarr\u001b[1m)\u001b[0m. Please  \n",
      "         see the documentation of `\u001b[1;35mis_self_contained\u001b[0m\u001b[1m(\u001b[0m\u001b[1m)\u001b[0m` to understand the implications of working with SpatialData \n",
      "         objects that are not self-contained.                                                                      \n",
      "\u001b[34mINFO    \u001b[0m The Zarr backing store has been changed from                                                              \n",
      "         C:\\Users\\hua01\\Desktop\\cwc\\SpatialMultimodal\\spd_new\\LEAP-017B_sdata.zarr the new file path:              \n",
      "         C:\\Users\\hua01\\Desktop\\cwc\\SpatialMultimodal\\spd_new\\UNI\\LEAP-017B_sdata.zarr                             \n",
      "LEAP-018A\n"
     ]
    },
    {
     "name": "stderr",
     "output_type": "stream",
     "text": [
      "100%|█████████████████████████████████████████████████████████| 2166/2166 [01:49<00:00, 19.81it/s]\n"
     ]
    },
    {
     "name": "stdout",
     "output_type": "stream",
     "text": [
      "\u001b[34mINFO    \u001b[0m The SpatialData object is not self-contained \u001b[1m(\u001b[0mi.e. it contains some elements that are Dask-backed from    \n",
      "         locations outside C:\\Users\\hua01\\Desktop\\cwc\\SpatialMultimodal\\spd_new\\UNI\\LEAP-018A_sdata.zarr\u001b[1m)\u001b[0m. Please  \n",
      "         see the documentation of `\u001b[1;35mis_self_contained\u001b[0m\u001b[1m(\u001b[0m\u001b[1m)\u001b[0m` to understand the implications of working with SpatialData \n",
      "         objects that are not self-contained.                                                                      \n",
      "\u001b[34mINFO    \u001b[0m The Zarr backing store has been changed from                                                              \n",
      "         C:\\Users\\hua01\\Desktop\\cwc\\SpatialMultimodal\\spd_new\\LEAP-018A_sdata.zarr the new file path:              \n",
      "         C:\\Users\\hua01\\Desktop\\cwc\\SpatialMultimodal\\spd_new\\UNI\\LEAP-018A_sdata.zarr                             \n",
      "LEAP-018B\n"
     ]
    },
    {
     "name": "stderr",
     "output_type": "stream",
     "text": [
      "100%|███████████████████████████████████████████████████████| 10724/10724 [08:51<00:00, 20.18it/s]\n"
     ]
    },
    {
     "name": "stdout",
     "output_type": "stream",
     "text": [
      "\u001b[34mINFO    \u001b[0m The SpatialData object is not self-contained \u001b[1m(\u001b[0mi.e. it contains some elements that are Dask-backed from    \n",
      "         locations outside C:\\Users\\hua01\\Desktop\\cwc\\SpatialMultimodal\\spd_new\\UNI\\LEAP-018B_sdata.zarr\u001b[1m)\u001b[0m. Please  \n",
      "         see the documentation of `\u001b[1;35mis_self_contained\u001b[0m\u001b[1m(\u001b[0m\u001b[1m)\u001b[0m` to understand the implications of working with SpatialData \n",
      "         objects that are not self-contained.                                                                      \n",
      "\u001b[34mINFO    \u001b[0m The Zarr backing store has been changed from                                                              \n",
      "         C:\\Users\\hua01\\Desktop\\cwc\\SpatialMultimodal\\spd_new\\LEAP-018B_sdata.zarr the new file path:              \n",
      "         C:\\Users\\hua01\\Desktop\\cwc\\SpatialMultimodal\\spd_new\\UNI\\LEAP-018B_sdata.zarr                             \n",
      "LEAP-019A\n"
     ]
    },
    {
     "name": "stderr",
     "output_type": "stream",
     "text": [
      "100%|█████████████████████████████████████████████████████████| 3759/3759 [03:10<00:00, 19.68it/s]\n"
     ]
    },
    {
     "name": "stdout",
     "output_type": "stream",
     "text": [
      "\u001b[34mINFO    \u001b[0m The SpatialData object is not self-contained \u001b[1m(\u001b[0mi.e. it contains some elements that are Dask-backed from    \n",
      "         locations outside C:\\Users\\hua01\\Desktop\\cwc\\SpatialMultimodal\\spd_new\\UNI\\LEAP-019A_sdata.zarr\u001b[1m)\u001b[0m. Please  \n",
      "         see the documentation of `\u001b[1;35mis_self_contained\u001b[0m\u001b[1m(\u001b[0m\u001b[1m)\u001b[0m` to understand the implications of working with SpatialData \n",
      "         objects that are not self-contained.                                                                      \n",
      "\u001b[34mINFO    \u001b[0m The Zarr backing store has been changed from                                                              \n",
      "         C:\\Users\\hua01\\Desktop\\cwc\\SpatialMultimodal\\spd_new\\LEAP-019A_sdata.zarr the new file path:              \n",
      "         C:\\Users\\hua01\\Desktop\\cwc\\SpatialMultimodal\\spd_new\\UNI\\LEAP-019A_sdata.zarr                             \n",
      "LEAP-019B\n"
     ]
    },
    {
     "name": "stderr",
     "output_type": "stream",
     "text": [
      "100%|███████████████████████████████████████████████████████| 10946/10946 [08:57<00:00, 20.38it/s]\n"
     ]
    },
    {
     "name": "stdout",
     "output_type": "stream",
     "text": [
      "\u001b[34mINFO    \u001b[0m The SpatialData object is not self-contained \u001b[1m(\u001b[0mi.e. it contains some elements that are Dask-backed from    \n",
      "         locations outside C:\\Users\\hua01\\Desktop\\cwc\\SpatialMultimodal\\spd_new\\UNI\\LEAP-019B_sdata.zarr\u001b[1m)\u001b[0m. Please  \n",
      "         see the documentation of `\u001b[1;35mis_self_contained\u001b[0m\u001b[1m(\u001b[0m\u001b[1m)\u001b[0m` to understand the implications of working with SpatialData \n",
      "         objects that are not self-contained.                                                                      \n",
      "\u001b[34mINFO    \u001b[0m The Zarr backing store has been changed from                                                              \n",
      "         C:\\Users\\hua01\\Desktop\\cwc\\SpatialMultimodal\\spd_new\\LEAP-019B_sdata.zarr the new file path:              \n",
      "         C:\\Users\\hua01\\Desktop\\cwc\\SpatialMultimodal\\spd_new\\UNI\\LEAP-019B_sdata.zarr                             \n",
      "LEAP-020A\n"
     ]
    },
    {
     "name": "stderr",
     "output_type": "stream",
     "text": [
      "100%|█████████████████████████████████████████████████████████| 3673/3673 [03:04<00:00, 19.86it/s]\n"
     ]
    },
    {
     "name": "stdout",
     "output_type": "stream",
     "text": [
      "\u001b[34mINFO    \u001b[0m The SpatialData object is not self-contained \u001b[1m(\u001b[0mi.e. it contains some elements that are Dask-backed from    \n",
      "         locations outside C:\\Users\\hua01\\Desktop\\cwc\\SpatialMultimodal\\spd_new\\UNI\\LEAP-020A_sdata.zarr\u001b[1m)\u001b[0m. Please  \n",
      "         see the documentation of `\u001b[1;35mis_self_contained\u001b[0m\u001b[1m(\u001b[0m\u001b[1m)\u001b[0m` to understand the implications of working with SpatialData \n",
      "         objects that are not self-contained.                                                                      \n",
      "\u001b[34mINFO    \u001b[0m The Zarr backing store has been changed from                                                              \n",
      "         C:\\Users\\hua01\\Desktop\\cwc\\SpatialMultimodal\\spd_new\\LEAP-020A_sdata.zarr the new file path:              \n",
      "         C:\\Users\\hua01\\Desktop\\cwc\\SpatialMultimodal\\spd_new\\UNI\\LEAP-020A_sdata.zarr                             \n",
      "LEAP-020B\n"
     ]
    },
    {
     "name": "stderr",
     "output_type": "stream",
     "text": [
      "100%|█████████████████████████████████████████████████████████| 6146/6146 [05:06<00:00, 20.06it/s]\n"
     ]
    },
    {
     "name": "stdout",
     "output_type": "stream",
     "text": [
      "\u001b[34mINFO    \u001b[0m The SpatialData object is not self-contained \u001b[1m(\u001b[0mi.e. it contains some elements that are Dask-backed from    \n",
      "         locations outside C:\\Users\\hua01\\Desktop\\cwc\\SpatialMultimodal\\spd_new\\UNI\\LEAP-020B_sdata.zarr\u001b[1m)\u001b[0m. Please  \n",
      "         see the documentation of `\u001b[1;35mis_self_contained\u001b[0m\u001b[1m(\u001b[0m\u001b[1m)\u001b[0m` to understand the implications of working with SpatialData \n",
      "         objects that are not self-contained.                                                                      \n",
      "\u001b[34mINFO    \u001b[0m The Zarr backing store has been changed from                                                              \n",
      "         C:\\Users\\hua01\\Desktop\\cwc\\SpatialMultimodal\\spd_new\\LEAP-020B_sdata.zarr the new file path:              \n",
      "         C:\\Users\\hua01\\Desktop\\cwc\\SpatialMultimodal\\spd_new\\UNI\\LEAP-020B_sdata.zarr                             \n",
      "LEAP-021A\n"
     ]
    },
    {
     "name": "stderr",
     "output_type": "stream",
     "text": [
      "100%|█████████████████████████████████████████████████████████| 1285/1285 [01:03<00:00, 20.09it/s]\n"
     ]
    },
    {
     "name": "stdout",
     "output_type": "stream",
     "text": [
      "\u001b[34mINFO    \u001b[0m The SpatialData object is not self-contained \u001b[1m(\u001b[0mi.e. it contains some elements that are Dask-backed from    \n",
      "         locations outside C:\\Users\\hua01\\Desktop\\cwc\\SpatialMultimodal\\spd_new\\UNI\\LEAP-021A_sdata.zarr\u001b[1m)\u001b[0m. Please  \n",
      "         see the documentation of `\u001b[1;35mis_self_contained\u001b[0m\u001b[1m(\u001b[0m\u001b[1m)\u001b[0m` to understand the implications of working with SpatialData \n",
      "         objects that are not self-contained.                                                                      \n",
      "\u001b[34mINFO    \u001b[0m The Zarr backing store has been changed from                                                              \n",
      "         C:\\Users\\hua01\\Desktop\\cwc\\SpatialMultimodal\\spd_new\\LEAP-021A_sdata.zarr the new file path:              \n",
      "         C:\\Users\\hua01\\Desktop\\cwc\\SpatialMultimodal\\spd_new\\UNI\\LEAP-021A_sdata.zarr                             \n",
      "LEAP-021B\n"
     ]
    },
    {
     "name": "stderr",
     "output_type": "stream",
     "text": [
      "100%|███████████████████████████████████████████████████████| 11059/11059 [09:07<00:00, 20.18it/s]\n"
     ]
    },
    {
     "name": "stdout",
     "output_type": "stream",
     "text": [
      "\u001b[34mINFO    \u001b[0m The SpatialData object is not self-contained \u001b[1m(\u001b[0mi.e. it contains some elements that are Dask-backed from    \n",
      "         locations outside C:\\Users\\hua01\\Desktop\\cwc\\SpatialMultimodal\\spd_new\\UNI\\LEAP-021B_sdata.zarr\u001b[1m)\u001b[0m. Please  \n",
      "         see the documentation of `\u001b[1;35mis_self_contained\u001b[0m\u001b[1m(\u001b[0m\u001b[1m)\u001b[0m` to understand the implications of working with SpatialData \n",
      "         objects that are not self-contained.                                                                      \n",
      "\u001b[34mINFO    \u001b[0m The Zarr backing store has been changed from                                                              \n",
      "         C:\\Users\\hua01\\Desktop\\cwc\\SpatialMultimodal\\spd_new\\LEAP-021B_sdata.zarr the new file path:              \n",
      "         C:\\Users\\hua01\\Desktop\\cwc\\SpatialMultimodal\\spd_new\\UNI\\LEAP-021B_sdata.zarr                             \n",
      "LEAP-022A\n"
     ]
    },
    {
     "name": "stderr",
     "output_type": "stream",
     "text": [
      "  0%|                                                                     | 0/229 [00:00<?, ?it/s]\n"
     ]
    },
    {
     "name": "stdout",
     "output_type": "stream",
     "text": [
      "('LEAP-022A', ValueError(\"Coordinate 'right' is less than 'left'\"))\n",
      "LEAP-022B\n"
     ]
    },
    {
     "name": "stderr",
     "output_type": "stream",
     "text": [
      "100%|█████████████████████████████████████████████████████████| 7037/7037 [05:51<00:00, 20.02it/s]\n"
     ]
    },
    {
     "name": "stdout",
     "output_type": "stream",
     "text": [
      "\u001b[34mINFO    \u001b[0m The SpatialData object is not self-contained \u001b[1m(\u001b[0mi.e. it contains some elements that are Dask-backed from    \n",
      "         locations outside C:\\Users\\hua01\\Desktop\\cwc\\SpatialMultimodal\\spd_new\\UNI\\LEAP-022B_sdata.zarr\u001b[1m)\u001b[0m. Please  \n",
      "         see the documentation of `\u001b[1;35mis_self_contained\u001b[0m\u001b[1m(\u001b[0m\u001b[1m)\u001b[0m` to understand the implications of working with SpatialData \n",
      "         objects that are not self-contained.                                                                      \n",
      "\u001b[34mINFO    \u001b[0m The Zarr backing store has been changed from                                                              \n",
      "         C:\\Users\\hua01\\Desktop\\cwc\\SpatialMultimodal\\spd_new\\LEAP-022B_sdata.zarr the new file path:              \n",
      "         C:\\Users\\hua01\\Desktop\\cwc\\SpatialMultimodal\\spd_new\\UNI\\LEAP-022B_sdata.zarr                             \n",
      "LEAP-023A\n"
     ]
    },
    {
     "name": "stderr",
     "output_type": "stream",
     "text": [
      "100%|█████████████████████████████████████████████████████████| 1045/1045 [00:52<00:00, 20.01it/s]\n"
     ]
    },
    {
     "name": "stdout",
     "output_type": "stream",
     "text": [
      "\u001b[34mINFO    \u001b[0m The SpatialData object is not self-contained \u001b[1m(\u001b[0mi.e. it contains some elements that are Dask-backed from    \n",
      "         locations outside C:\\Users\\hua01\\Desktop\\cwc\\SpatialMultimodal\\spd_new\\UNI\\LEAP-023A_sdata.zarr\u001b[1m)\u001b[0m. Please  \n",
      "         see the documentation of `\u001b[1;35mis_self_contained\u001b[0m\u001b[1m(\u001b[0m\u001b[1m)\u001b[0m` to understand the implications of working with SpatialData \n",
      "         objects that are not self-contained.                                                                      \n",
      "\u001b[34mINFO    \u001b[0m The Zarr backing store has been changed from                                                              \n",
      "         C:\\Users\\hua01\\Desktop\\cwc\\SpatialMultimodal\\spd_new\\LEAP-023A_sdata.zarr the new file path:              \n",
      "         C:\\Users\\hua01\\Desktop\\cwc\\SpatialMultimodal\\spd_new\\UNI\\LEAP-023A_sdata.zarr                             \n",
      "LEAP-023B\n"
     ]
    },
    {
     "name": "stderr",
     "output_type": "stream",
     "text": [
      "100%|███████████████████████████████████████████████████████| 10453/10453 [08:36<00:00, 20.23it/s]\n"
     ]
    },
    {
     "name": "stdout",
     "output_type": "stream",
     "text": [
      "\u001b[34mINFO    \u001b[0m The SpatialData object is not self-contained \u001b[1m(\u001b[0mi.e. it contains some elements that are Dask-backed from    \n",
      "         locations outside C:\\Users\\hua01\\Desktop\\cwc\\SpatialMultimodal\\spd_new\\UNI\\LEAP-023B_sdata.zarr\u001b[1m)\u001b[0m. Please  \n",
      "         see the documentation of `\u001b[1;35mis_self_contained\u001b[0m\u001b[1m(\u001b[0m\u001b[1m)\u001b[0m` to understand the implications of working with SpatialData \n",
      "         objects that are not self-contained.                                                                      \n",
      "\u001b[34mINFO    \u001b[0m The Zarr backing store has been changed from                                                              \n",
      "         C:\\Users\\hua01\\Desktop\\cwc\\SpatialMultimodal\\spd_new\\LEAP-023B_sdata.zarr the new file path:              \n",
      "         C:\\Users\\hua01\\Desktop\\cwc\\SpatialMultimodal\\spd_new\\UNI\\LEAP-023B_sdata.zarr                             \n",
      "LEAP-024A\n"
     ]
    },
    {
     "name": "stderr",
     "output_type": "stream",
     "text": [
      "100%|███████████████████████████████████████████████████████████| 859/859 [00:43<00:00, 19.65it/s]\n"
     ]
    },
    {
     "name": "stdout",
     "output_type": "stream",
     "text": [
      "\u001b[34mINFO    \u001b[0m The SpatialData object is not self-contained \u001b[1m(\u001b[0mi.e. it contains some elements that are Dask-backed from    \n",
      "         locations outside C:\\Users\\hua01\\Desktop\\cwc\\SpatialMultimodal\\spd_new\\UNI\\LEAP-024A_sdata.zarr\u001b[1m)\u001b[0m. Please  \n",
      "         see the documentation of `\u001b[1;35mis_self_contained\u001b[0m\u001b[1m(\u001b[0m\u001b[1m)\u001b[0m` to understand the implications of working with SpatialData \n",
      "         objects that are not self-contained.                                                                      \n",
      "\u001b[34mINFO    \u001b[0m The Zarr backing store has been changed from                                                              \n",
      "         C:\\Users\\hua01\\Desktop\\cwc\\SpatialMultimodal\\spd_new\\LEAP-024A_sdata.zarr the new file path:              \n",
      "         C:\\Users\\hua01\\Desktop\\cwc\\SpatialMultimodal\\spd_new\\UNI\\LEAP-024A_sdata.zarr                             \n",
      "LEAP-024B\n"
     ]
    },
    {
     "name": "stderr",
     "output_type": "stream",
     "text": [
      "100%|███████████████████████████████████████████████████████| 12592/12592 [10:22<00:00, 20.24it/s]\n"
     ]
    },
    {
     "name": "stdout",
     "output_type": "stream",
     "text": [
      "\u001b[34mINFO    \u001b[0m The SpatialData object is not self-contained \u001b[1m(\u001b[0mi.e. it contains some elements that are Dask-backed from    \n",
      "         locations outside C:\\Users\\hua01\\Desktop\\cwc\\SpatialMultimodal\\spd_new\\UNI\\LEAP-024B_sdata.zarr\u001b[1m)\u001b[0m. Please  \n",
      "         see the documentation of `\u001b[1;35mis_self_contained\u001b[0m\u001b[1m(\u001b[0m\u001b[1m)\u001b[0m` to understand the implications of working with SpatialData \n",
      "         objects that are not self-contained.                                                                      \n",
      "\u001b[34mINFO    \u001b[0m The Zarr backing store has been changed from                                                              \n",
      "         C:\\Users\\hua01\\Desktop\\cwc\\SpatialMultimodal\\spd_new\\LEAP-024B_sdata.zarr the new file path:              \n",
      "         C:\\Users\\hua01\\Desktop\\cwc\\SpatialMultimodal\\spd_new\\UNI\\LEAP-024B_sdata.zarr                             \n",
      "LEAP-026A\n"
     ]
    },
    {
     "name": "stderr",
     "output_type": "stream",
     "text": [
      " 97%|███████████████████████████████████████████████████████▍ | 1249/1284 [01:03<00:01, 19.64it/s]\n"
     ]
    },
    {
     "name": "stdout",
     "output_type": "stream",
     "text": [
      "('LEAP-026A', ValueError(\"Coordinate 'lower' is less than 'upper'\"))\n",
      "LEAP-026B\n"
     ]
    },
    {
     "name": "stderr",
     "output_type": "stream",
     "text": [
      "100%|█████████████████████████████████████████████████████████| 8479/8479 [07:01<00:00, 20.14it/s]\n"
     ]
    },
    {
     "name": "stdout",
     "output_type": "stream",
     "text": [
      "\u001b[34mINFO    \u001b[0m The SpatialData object is not self-contained \u001b[1m(\u001b[0mi.e. it contains some elements that are Dask-backed from    \n",
      "         locations outside C:\\Users\\hua01\\Desktop\\cwc\\SpatialMultimodal\\spd_new\\UNI\\LEAP-026B_sdata.zarr\u001b[1m)\u001b[0m. Please  \n",
      "         see the documentation of `\u001b[1;35mis_self_contained\u001b[0m\u001b[1m(\u001b[0m\u001b[1m)\u001b[0m` to understand the implications of working with SpatialData \n",
      "         objects that are not self-contained.                                                                      \n",
      "\u001b[34mINFO    \u001b[0m The Zarr backing store has been changed from                                                              \n",
      "         C:\\Users\\hua01\\Desktop\\cwc\\SpatialMultimodal\\spd_new\\LEAP-026B_sdata.zarr the new file path:              \n",
      "         C:\\Users\\hua01\\Desktop\\cwc\\SpatialMultimodal\\spd_new\\UNI\\LEAP-026B_sdata.zarr                             \n",
      "LEAP-027A\n"
     ]
    },
    {
     "name": "stderr",
     "output_type": "stream",
     "text": [
      "100%|█████████████████████████████████████████████████████████| 1257/1257 [01:04<00:00, 19.53it/s]\n"
     ]
    },
    {
     "name": "stdout",
     "output_type": "stream",
     "text": [
      "\u001b[34mINFO    \u001b[0m The SpatialData object is not self-contained \u001b[1m(\u001b[0mi.e. it contains some elements that are Dask-backed from    \n",
      "         locations outside C:\\Users\\hua01\\Desktop\\cwc\\SpatialMultimodal\\spd_new\\UNI\\LEAP-027A_sdata.zarr\u001b[1m)\u001b[0m. Please  \n",
      "         see the documentation of `\u001b[1;35mis_self_contained\u001b[0m\u001b[1m(\u001b[0m\u001b[1m)\u001b[0m` to understand the implications of working with SpatialData \n",
      "         objects that are not self-contained.                                                                      \n",
      "\u001b[34mINFO    \u001b[0m The Zarr backing store has been changed from                                                              \n",
      "         C:\\Users\\hua01\\Desktop\\cwc\\SpatialMultimodal\\spd_new\\LEAP-027A_sdata.zarr the new file path:              \n",
      "         C:\\Users\\hua01\\Desktop\\cwc\\SpatialMultimodal\\spd_new\\UNI\\LEAP-027A_sdata.zarr                             \n",
      "LEAP-027B\n"
     ]
    },
    {
     "name": "stderr",
     "output_type": "stream",
     "text": [
      "100%|█████████████████████████████████████████████████████████| 8862/8862 [07:18<00:00, 20.23it/s]\n"
     ]
    },
    {
     "name": "stdout",
     "output_type": "stream",
     "text": [
      "\u001b[34mINFO    \u001b[0m The SpatialData object is not self-contained \u001b[1m(\u001b[0mi.e. it contains some elements that are Dask-backed from    \n",
      "         locations outside C:\\Users\\hua01\\Desktop\\cwc\\SpatialMultimodal\\spd_new\\UNI\\LEAP-027B_sdata.zarr\u001b[1m)\u001b[0m. Please  \n",
      "         see the documentation of `\u001b[1;35mis_self_contained\u001b[0m\u001b[1m(\u001b[0m\u001b[1m)\u001b[0m` to understand the implications of working with SpatialData \n",
      "         objects that are not self-contained.                                                                      \n",
      "\u001b[34mINFO    \u001b[0m The Zarr backing store has been changed from                                                              \n",
      "         C:\\Users\\hua01\\Desktop\\cwc\\SpatialMultimodal\\spd_new\\LEAP-027B_sdata.zarr the new file path:              \n",
      "         C:\\Users\\hua01\\Desktop\\cwc\\SpatialMultimodal\\spd_new\\UNI\\LEAP-027B_sdata.zarr                             \n",
      "LEAP-028A\n"
     ]
    },
    {
     "name": "stderr",
     "output_type": "stream",
     "text": [
      " 32%|██████████████████▋                                       | 643/1994 [00:32<01:08, 19.80it/s]\n"
     ]
    },
    {
     "name": "stdout",
     "output_type": "stream",
     "text": [
      "('LEAP-028A', ValueError(\"Coordinate 'lower' is less than 'upper'\"))\n",
      "LEAP-028B\n"
     ]
    },
    {
     "name": "stderr",
     "output_type": "stream",
     "text": [
      "100%|█████████████████████████████████████████████████████████| 4123/4123 [03:32<00:00, 19.44it/s]\n"
     ]
    },
    {
     "name": "stdout",
     "output_type": "stream",
     "text": [
      "\u001b[34mINFO    \u001b[0m The SpatialData object is not self-contained \u001b[1m(\u001b[0mi.e. it contains some elements that are Dask-backed from    \n",
      "         locations outside C:\\Users\\hua01\\Desktop\\cwc\\SpatialMultimodal\\spd_new\\UNI\\LEAP-028B_sdata.zarr\u001b[1m)\u001b[0m. Please  \n",
      "         see the documentation of `\u001b[1;35mis_self_contained\u001b[0m\u001b[1m(\u001b[0m\u001b[1m)\u001b[0m` to understand the implications of working with SpatialData \n",
      "         objects that are not self-contained.                                                                      \n",
      "\u001b[34mINFO    \u001b[0m The Zarr backing store has been changed from                                                              \n",
      "         C:\\Users\\hua01\\Desktop\\cwc\\SpatialMultimodal\\spd_new\\LEAP-028B_sdata.zarr the new file path:              \n",
      "         C:\\Users\\hua01\\Desktop\\cwc\\SpatialMultimodal\\spd_new\\UNI\\LEAP-028B_sdata.zarr                             \n",
      "LEAP-029A\n"
     ]
    },
    {
     "name": "stderr",
     "output_type": "stream",
     "text": [
      "100%|█████████████████████████████████████████████████████████| 2581/2581 [02:09<00:00, 19.95it/s]\n"
     ]
    },
    {
     "name": "stdout",
     "output_type": "stream",
     "text": [
      "\u001b[34mINFO    \u001b[0m The SpatialData object is not self-contained \u001b[1m(\u001b[0mi.e. it contains some elements that are Dask-backed from    \n",
      "         locations outside C:\\Users\\hua01\\Desktop\\cwc\\SpatialMultimodal\\spd_new\\UNI\\LEAP-029A_sdata.zarr\u001b[1m)\u001b[0m. Please  \n",
      "         see the documentation of `\u001b[1;35mis_self_contained\u001b[0m\u001b[1m(\u001b[0m\u001b[1m)\u001b[0m` to understand the implications of working with SpatialData \n",
      "         objects that are not self-contained.                                                                      \n",
      "\u001b[34mINFO    \u001b[0m The Zarr backing store has been changed from                                                              \n",
      "         C:\\Users\\hua01\\Desktop\\cwc\\SpatialMultimodal\\spd_new\\LEAP-029A_sdata.zarr the new file path:              \n",
      "         C:\\Users\\hua01\\Desktop\\cwc\\SpatialMultimodal\\spd_new\\UNI\\LEAP-029A_sdata.zarr                             \n",
      "LEAP-029B\n"
     ]
    },
    {
     "name": "stderr",
     "output_type": "stream",
     "text": [
      "100%|███████████████████████████████████████████████████████| 11934/11934 [09:52<00:00, 20.14it/s]\n"
     ]
    },
    {
     "name": "stdout",
     "output_type": "stream",
     "text": [
      "\u001b[34mINFO    \u001b[0m The SpatialData object is not self-contained \u001b[1m(\u001b[0mi.e. it contains some elements that are Dask-backed from    \n",
      "         locations outside C:\\Users\\hua01\\Desktop\\cwc\\SpatialMultimodal\\spd_new\\UNI\\LEAP-029B_sdata.zarr\u001b[1m)\u001b[0m. Please  \n",
      "         see the documentation of `\u001b[1;35mis_self_contained\u001b[0m\u001b[1m(\u001b[0m\u001b[1m)\u001b[0m` to understand the implications of working with SpatialData \n",
      "         objects that are not self-contained.                                                                      \n",
      "\u001b[34mINFO    \u001b[0m The Zarr backing store has been changed from                                                              \n",
      "         C:\\Users\\hua01\\Desktop\\cwc\\SpatialMultimodal\\spd_new\\LEAP-029B_sdata.zarr the new file path:              \n",
      "         C:\\Users\\hua01\\Desktop\\cwc\\SpatialMultimodal\\spd_new\\UNI\\LEAP-029B_sdata.zarr                             \n",
      "LEAP-031A\n"
     ]
    },
    {
     "name": "stderr",
     "output_type": "stream",
     "text": [
      "100%|█████████████████████████████████████████████████████████| 2389/2389 [02:00<00:00, 19.75it/s]\n"
     ]
    },
    {
     "name": "stdout",
     "output_type": "stream",
     "text": [
      "\u001b[34mINFO    \u001b[0m The SpatialData object is not self-contained \u001b[1m(\u001b[0mi.e. it contains some elements that are Dask-backed from    \n",
      "         locations outside C:\\Users\\hua01\\Desktop\\cwc\\SpatialMultimodal\\spd_new\\UNI\\LEAP-031A_sdata.zarr\u001b[1m)\u001b[0m. Please  \n",
      "         see the documentation of `\u001b[1;35mis_self_contained\u001b[0m\u001b[1m(\u001b[0m\u001b[1m)\u001b[0m` to understand the implications of working with SpatialData \n",
      "         objects that are not self-contained.                                                                      \n",
      "\u001b[34mINFO    \u001b[0m The Zarr backing store has been changed from                                                              \n",
      "         C:\\Users\\hua01\\Desktop\\cwc\\SpatialMultimodal\\spd_new\\LEAP-031A_sdata.zarr the new file path:              \n",
      "         C:\\Users\\hua01\\Desktop\\cwc\\SpatialMultimodal\\spd_new\\UNI\\LEAP-031A_sdata.zarr                             \n",
      "LEAP-031B\n"
     ]
    },
    {
     "name": "stderr",
     "output_type": "stream",
     "text": [
      "100%|█████████████████████████████████████████████████████████| 9453/9453 [07:56<00:00, 19.85it/s]\n"
     ]
    },
    {
     "name": "stdout",
     "output_type": "stream",
     "text": [
      "\u001b[34mINFO    \u001b[0m The SpatialData object is not self-contained \u001b[1m(\u001b[0mi.e. it contains some elements that are Dask-backed from    \n",
      "         locations outside C:\\Users\\hua01\\Desktop\\cwc\\SpatialMultimodal\\spd_new\\UNI\\LEAP-031B_sdata.zarr\u001b[1m)\u001b[0m. Please  \n",
      "         see the documentation of `\u001b[1;35mis_self_contained\u001b[0m\u001b[1m(\u001b[0m\u001b[1m)\u001b[0m` to understand the implications of working with SpatialData \n",
      "         objects that are not self-contained.                                                                      \n",
      "\u001b[34mINFO    \u001b[0m The Zarr backing store has been changed from                                                              \n",
      "         C:\\Users\\hua01\\Desktop\\cwc\\SpatialMultimodal\\spd_new\\LEAP-031B_sdata.zarr the new file path:              \n",
      "         C:\\Users\\hua01\\Desktop\\cwc\\SpatialMultimodal\\spd_new\\UNI\\LEAP-031B_sdata.zarr                             \n",
      "LEAP-032A\n"
     ]
    },
    {
     "name": "stderr",
     "output_type": "stream",
     "text": [
      " 30%|█████████████████▋                                        | 619/2032 [00:32<01:13, 19.28it/s]\n"
     ]
    },
    {
     "name": "stdout",
     "output_type": "stream",
     "text": [
      "('LEAP-032A', ValueError(\"Coordinate 'lower' is less than 'upper'\"))\n",
      "LEAP-032B\n"
     ]
    },
    {
     "name": "stderr",
     "output_type": "stream",
     "text": [
      "100%|█████████████████████████████████████████████████████████| 9679/9679 [08:01<00:00, 20.08it/s]\n"
     ]
    },
    {
     "name": "stdout",
     "output_type": "stream",
     "text": [
      "\u001b[34mINFO    \u001b[0m The SpatialData object is not self-contained \u001b[1m(\u001b[0mi.e. it contains some elements that are Dask-backed from    \n",
      "         locations outside C:\\Users\\hua01\\Desktop\\cwc\\SpatialMultimodal\\spd_new\\UNI\\LEAP-032B_sdata.zarr\u001b[1m)\u001b[0m. Please  \n",
      "         see the documentation of `\u001b[1;35mis_self_contained\u001b[0m\u001b[1m(\u001b[0m\u001b[1m)\u001b[0m` to understand the implications of working with SpatialData \n",
      "         objects that are not self-contained.                                                                      \n",
      "\u001b[34mINFO    \u001b[0m The Zarr backing store has been changed from                                                              \n",
      "         C:\\Users\\hua01\\Desktop\\cwc\\SpatialMultimodal\\spd_new\\LEAP-032B_sdata.zarr the new file path:              \n",
      "         C:\\Users\\hua01\\Desktop\\cwc\\SpatialMultimodal\\spd_new\\UNI\\LEAP-032B_sdata.zarr                             \n",
      "LEAP-033A\n"
     ]
    },
    {
     "name": "stderr",
     "output_type": "stream",
     "text": [
      "100%|█████████████████████████████████████████████████████████| 2825/2825 [02:20<00:00, 20.05it/s]\n"
     ]
    },
    {
     "name": "stdout",
     "output_type": "stream",
     "text": [
      "\u001b[34mINFO    \u001b[0m The SpatialData object is not self-contained \u001b[1m(\u001b[0mi.e. it contains some elements that are Dask-backed from    \n",
      "         locations outside C:\\Users\\hua01\\Desktop\\cwc\\SpatialMultimodal\\spd_new\\UNI\\LEAP-033A_sdata.zarr\u001b[1m)\u001b[0m. Please  \n",
      "         see the documentation of `\u001b[1;35mis_self_contained\u001b[0m\u001b[1m(\u001b[0m\u001b[1m)\u001b[0m` to understand the implications of working with SpatialData \n",
      "         objects that are not self-contained.                                                                      \n",
      "\u001b[34mINFO    \u001b[0m The Zarr backing store has been changed from                                                              \n",
      "         C:\\Users\\hua01\\Desktop\\cwc\\SpatialMultimodal\\spd_new\\LEAP-033A_sdata.zarr the new file path:              \n",
      "         C:\\Users\\hua01\\Desktop\\cwc\\SpatialMultimodal\\spd_new\\UNI\\LEAP-033A_sdata.zarr                             \n",
      "LEAP-033B\n"
     ]
    },
    {
     "name": "stderr",
     "output_type": "stream",
     "text": [
      "100%|███████████████████████████████████████████████████████| 12717/12717 [10:40<00:00, 19.86it/s]\n"
     ]
    },
    {
     "name": "stdout",
     "output_type": "stream",
     "text": [
      "\u001b[34mINFO    \u001b[0m The SpatialData object is not self-contained \u001b[1m(\u001b[0mi.e. it contains some elements that are Dask-backed from    \n",
      "         locations outside C:\\Users\\hua01\\Desktop\\cwc\\SpatialMultimodal\\spd_new\\UNI\\LEAP-033B_sdata.zarr\u001b[1m)\u001b[0m. Please  \n",
      "         see the documentation of `\u001b[1;35mis_self_contained\u001b[0m\u001b[1m(\u001b[0m\u001b[1m)\u001b[0m` to understand the implications of working with SpatialData \n",
      "         objects that are not self-contained.                                                                      \n",
      "\u001b[34mINFO    \u001b[0m The Zarr backing store has been changed from                                                              \n",
      "         C:\\Users\\hua01\\Desktop\\cwc\\SpatialMultimodal\\spd_new\\LEAP-033B_sdata.zarr the new file path:              \n",
      "         C:\\Users\\hua01\\Desktop\\cwc\\SpatialMultimodal\\spd_new\\UNI\\LEAP-033B_sdata.zarr                             \n",
      "LEAP-034A\n"
     ]
    },
    {
     "name": "stderr",
     "output_type": "stream",
     "text": [
      "100%|█████████████████████████████████████████████████████████| 2309/2309 [01:56<00:00, 19.78it/s]\n"
     ]
    },
    {
     "name": "stdout",
     "output_type": "stream",
     "text": [
      "\u001b[34mINFO    \u001b[0m The SpatialData object is not self-contained \u001b[1m(\u001b[0mi.e. it contains some elements that are Dask-backed from    \n",
      "         locations outside C:\\Users\\hua01\\Desktop\\cwc\\SpatialMultimodal\\spd_new\\UNI\\LEAP-034A_sdata.zarr\u001b[1m)\u001b[0m. Please  \n",
      "         see the documentation of `\u001b[1;35mis_self_contained\u001b[0m\u001b[1m(\u001b[0m\u001b[1m)\u001b[0m` to understand the implications of working with SpatialData \n",
      "         objects that are not self-contained.                                                                      \n",
      "\u001b[34mINFO    \u001b[0m The Zarr backing store has been changed from                                                              \n",
      "         C:\\Users\\hua01\\Desktop\\cwc\\SpatialMultimodal\\spd_new\\LEAP-034A_sdata.zarr the new file path:              \n",
      "         C:\\Users\\hua01\\Desktop\\cwc\\SpatialMultimodal\\spd_new\\UNI\\LEAP-034A_sdata.zarr                             \n",
      "LEAP-034B\n"
     ]
    },
    {
     "name": "stderr",
     "output_type": "stream",
     "text": [
      "100%|█████████████████████████████████████████████████████████| 8619/8619 [07:12<00:00, 19.93it/s]\n"
     ]
    },
    {
     "name": "stdout",
     "output_type": "stream",
     "text": [
      "\u001b[34mINFO    \u001b[0m The SpatialData object is not self-contained \u001b[1m(\u001b[0mi.e. it contains some elements that are Dask-backed from    \n",
      "         locations outside C:\\Users\\hua01\\Desktop\\cwc\\SpatialMultimodal\\spd_new\\UNI\\LEAP-034B_sdata.zarr\u001b[1m)\u001b[0m. Please  \n",
      "         see the documentation of `\u001b[1;35mis_self_contained\u001b[0m\u001b[1m(\u001b[0m\u001b[1m)\u001b[0m` to understand the implications of working with SpatialData \n",
      "         objects that are not self-contained.                                                                      \n",
      "\u001b[34mINFO    \u001b[0m The Zarr backing store has been changed from                                                              \n",
      "         C:\\Users\\hua01\\Desktop\\cwc\\SpatialMultimodal\\spd_new\\LEAP-034B_sdata.zarr the new file path:              \n",
      "         C:\\Users\\hua01\\Desktop\\cwc\\SpatialMultimodal\\spd_new\\UNI\\LEAP-034B_sdata.zarr                             \n",
      "LEAP-035A\n"
     ]
    },
    {
     "name": "stderr",
     "output_type": "stream",
     "text": [
      "100%|█████████████████████████████████████████████████████████| 1876/1876 [01:35<00:00, 19.73it/s]\n"
     ]
    },
    {
     "name": "stdout",
     "output_type": "stream",
     "text": [
      "\u001b[34mINFO    \u001b[0m The SpatialData object is not self-contained \u001b[1m(\u001b[0mi.e. it contains some elements that are Dask-backed from    \n",
      "         locations outside C:\\Users\\hua01\\Desktop\\cwc\\SpatialMultimodal\\spd_new\\UNI\\LEAP-035A_sdata.zarr\u001b[1m)\u001b[0m. Please  \n",
      "         see the documentation of `\u001b[1;35mis_self_contained\u001b[0m\u001b[1m(\u001b[0m\u001b[1m)\u001b[0m` to understand the implications of working with SpatialData \n",
      "         objects that are not self-contained.                                                                      \n",
      "\u001b[34mINFO    \u001b[0m The Zarr backing store has been changed from                                                              \n",
      "         C:\\Users\\hua01\\Desktop\\cwc\\SpatialMultimodal\\spd_new\\LEAP-035A_sdata.zarr the new file path:              \n",
      "         C:\\Users\\hua01\\Desktop\\cwc\\SpatialMultimodal\\spd_new\\UNI\\LEAP-035A_sdata.zarr                             \n",
      "LEAP-035B\n"
     ]
    },
    {
     "name": "stderr",
     "output_type": "stream",
     "text": [
      "100%|█████████████████████████████████████████████████████████| 2865/2865 [02:25<00:00, 19.72it/s]\n"
     ]
    },
    {
     "name": "stdout",
     "output_type": "stream",
     "text": [
      "\u001b[34mINFO    \u001b[0m The SpatialData object is not self-contained \u001b[1m(\u001b[0mi.e. it contains some elements that are Dask-backed from    \n",
      "         locations outside C:\\Users\\hua01\\Desktop\\cwc\\SpatialMultimodal\\spd_new\\UNI\\LEAP-035B_sdata.zarr\u001b[1m)\u001b[0m. Please  \n",
      "         see the documentation of `\u001b[1;35mis_self_contained\u001b[0m\u001b[1m(\u001b[0m\u001b[1m)\u001b[0m` to understand the implications of working with SpatialData \n",
      "         objects that are not self-contained.                                                                      \n",
      "\u001b[34mINFO    \u001b[0m The Zarr backing store has been changed from                                                              \n",
      "         C:\\Users\\hua01\\Desktop\\cwc\\SpatialMultimodal\\spd_new\\LEAP-035B_sdata.zarr the new file path:              \n",
      "         C:\\Users\\hua01\\Desktop\\cwc\\SpatialMultimodal\\spd_new\\UNI\\LEAP-035B_sdata.zarr                             \n",
      "LEAP-036A\n"
     ]
    },
    {
     "name": "stderr",
     "output_type": "stream",
     "text": [
      "100%|███████████████████████████████████████████████████████████| 446/446 [00:22<00:00, 19.61it/s]\n"
     ]
    },
    {
     "name": "stdout",
     "output_type": "stream",
     "text": [
      "\u001b[34mINFO    \u001b[0m The SpatialData object is not self-contained \u001b[1m(\u001b[0mi.e. it contains some elements that are Dask-backed from    \n",
      "         locations outside C:\\Users\\hua01\\Desktop\\cwc\\SpatialMultimodal\\spd_new\\UNI\\LEAP-036A_sdata.zarr\u001b[1m)\u001b[0m. Please  \n",
      "         see the documentation of `\u001b[1;35mis_self_contained\u001b[0m\u001b[1m(\u001b[0m\u001b[1m)\u001b[0m` to understand the implications of working with SpatialData \n",
      "         objects that are not self-contained.                                                                      \n",
      "\u001b[34mINFO    \u001b[0m The Zarr backing store has been changed from                                                              \n",
      "         C:\\Users\\hua01\\Desktop\\cwc\\SpatialMultimodal\\spd_new\\LEAP-036A_sdata.zarr the new file path:              \n",
      "         C:\\Users\\hua01\\Desktop\\cwc\\SpatialMultimodal\\spd_new\\UNI\\LEAP-036A_sdata.zarr                             \n",
      "LEAP-036B\n"
     ]
    },
    {
     "name": "stderr",
     "output_type": "stream",
     "text": [
      "100%|█████████████████████████████████████████████████████████| 8381/8381 [06:56<00:00, 20.11it/s]\n"
     ]
    },
    {
     "name": "stdout",
     "output_type": "stream",
     "text": [
      "\u001b[34mINFO    \u001b[0m The SpatialData object is not self-contained \u001b[1m(\u001b[0mi.e. it contains some elements that are Dask-backed from    \n",
      "         locations outside C:\\Users\\hua01\\Desktop\\cwc\\SpatialMultimodal\\spd_new\\UNI\\LEAP-036B_sdata.zarr\u001b[1m)\u001b[0m. Please  \n",
      "         see the documentation of `\u001b[1;35mis_self_contained\u001b[0m\u001b[1m(\u001b[0m\u001b[1m)\u001b[0m` to understand the implications of working with SpatialData \n",
      "         objects that are not self-contained.                                                                      \n",
      "\u001b[34mINFO    \u001b[0m The Zarr backing store has been changed from                                                              \n",
      "         C:\\Users\\hua01\\Desktop\\cwc\\SpatialMultimodal\\spd_new\\LEAP-036B_sdata.zarr the new file path:              \n",
      "         C:\\Users\\hua01\\Desktop\\cwc\\SpatialMultimodal\\spd_new\\UNI\\LEAP-036B_sdata.zarr                             \n",
      "LEAP-037A\n"
     ]
    },
    {
     "name": "stderr",
     "output_type": "stream",
     "text": [
      " 11%|██████▏                                                   | 254/2371 [00:12<01:45, 20.03it/s]\n"
     ]
    },
    {
     "name": "stdout",
     "output_type": "stream",
     "text": [
      "('LEAP-037A', AssertionError('Input width (1728) should be divisible by patch size (14).'))\n",
      "LEAP-037B\n"
     ]
    },
    {
     "name": "stderr",
     "output_type": "stream",
     "text": [
      "100%|█████████████████████████████████████████████████████████| 9266/9266 [07:42<00:00, 20.02it/s]\n"
     ]
    },
    {
     "name": "stdout",
     "output_type": "stream",
     "text": [
      "\u001b[34mINFO    \u001b[0m The SpatialData object is not self-contained \u001b[1m(\u001b[0mi.e. it contains some elements that are Dask-backed from    \n",
      "         locations outside C:\\Users\\hua01\\Desktop\\cwc\\SpatialMultimodal\\spd_new\\UNI\\LEAP-037B_sdata.zarr\u001b[1m)\u001b[0m. Please  \n",
      "         see the documentation of `\u001b[1;35mis_self_contained\u001b[0m\u001b[1m(\u001b[0m\u001b[1m)\u001b[0m` to understand the implications of working with SpatialData \n",
      "         objects that are not self-contained.                                                                      \n",
      "\u001b[34mINFO    \u001b[0m The Zarr backing store has been changed from                                                              \n",
      "         C:\\Users\\hua01\\Desktop\\cwc\\SpatialMultimodal\\spd_new\\LEAP-037B_sdata.zarr the new file path:              \n",
      "         C:\\Users\\hua01\\Desktop\\cwc\\SpatialMultimodal\\spd_new\\UNI\\LEAP-037B_sdata.zarr                             \n",
      "LEAP-038A\n"
     ]
    },
    {
     "name": "stderr",
     "output_type": "stream",
     "text": [
      "100%|█████████████████████████████████████████████████████████| 3820/3820 [03:09<00:00, 20.15it/s]\n"
     ]
    },
    {
     "name": "stdout",
     "output_type": "stream",
     "text": [
      "\u001b[34mINFO    \u001b[0m The SpatialData object is not self-contained \u001b[1m(\u001b[0mi.e. it contains some elements that are Dask-backed from    \n",
      "         locations outside C:\\Users\\hua01\\Desktop\\cwc\\SpatialMultimodal\\spd_new\\UNI\\LEAP-038A_sdata.zarr\u001b[1m)\u001b[0m. Please  \n",
      "         see the documentation of `\u001b[1;35mis_self_contained\u001b[0m\u001b[1m(\u001b[0m\u001b[1m)\u001b[0m` to understand the implications of working with SpatialData \n",
      "         objects that are not self-contained.                                                                      \n",
      "\u001b[34mINFO    \u001b[0m The Zarr backing store has been changed from                                                              \n",
      "         C:\\Users\\hua01\\Desktop\\cwc\\SpatialMultimodal\\spd_new\\LEAP-038A_sdata.zarr the new file path:              \n",
      "         C:\\Users\\hua01\\Desktop\\cwc\\SpatialMultimodal\\spd_new\\UNI\\LEAP-038A_sdata.zarr                             \n",
      "LEAP-038B\n"
     ]
    },
    {
     "name": "stderr",
     "output_type": "stream",
     "text": [
      "100%|███████████████████████████████████████████████████████| 10401/10401 [08:41<00:00, 19.95it/s]\n"
     ]
    },
    {
     "name": "stdout",
     "output_type": "stream",
     "text": [
      "\u001b[34mINFO    \u001b[0m The SpatialData object is not self-contained \u001b[1m(\u001b[0mi.e. it contains some elements that are Dask-backed from    \n",
      "         locations outside C:\\Users\\hua01\\Desktop\\cwc\\SpatialMultimodal\\spd_new\\UNI\\LEAP-038B_sdata.zarr\u001b[1m)\u001b[0m. Please  \n",
      "         see the documentation of `\u001b[1;35mis_self_contained\u001b[0m\u001b[1m(\u001b[0m\u001b[1m)\u001b[0m` to understand the implications of working with SpatialData \n",
      "         objects that are not self-contained.                                                                      \n",
      "\u001b[34mINFO    \u001b[0m The Zarr backing store has been changed from                                                              \n",
      "         C:\\Users\\hua01\\Desktop\\cwc\\SpatialMultimodal\\spd_new\\LEAP-038B_sdata.zarr the new file path:              \n",
      "         C:\\Users\\hua01\\Desktop\\cwc\\SpatialMultimodal\\spd_new\\UNI\\LEAP-038B_sdata.zarr                             \n",
      "LEAP-039A\n"
     ]
    },
    {
     "name": "stderr",
     "output_type": "stream",
     "text": [
      "100%|█████████████████████████████████████████████████████████| 2312/2312 [01:56<00:00, 19.78it/s]\n"
     ]
    },
    {
     "name": "stdout",
     "output_type": "stream",
     "text": [
      "\u001b[34mINFO    \u001b[0m The SpatialData object is not self-contained \u001b[1m(\u001b[0mi.e. it contains some elements that are Dask-backed from    \n",
      "         locations outside C:\\Users\\hua01\\Desktop\\cwc\\SpatialMultimodal\\spd_new\\UNI\\LEAP-039A_sdata.zarr\u001b[1m)\u001b[0m. Please  \n",
      "         see the documentation of `\u001b[1;35mis_self_contained\u001b[0m\u001b[1m(\u001b[0m\u001b[1m)\u001b[0m` to understand the implications of working with SpatialData \n",
      "         objects that are not self-contained.                                                                      \n",
      "\u001b[34mINFO    \u001b[0m The Zarr backing store has been changed from                                                              \n",
      "         C:\\Users\\hua01\\Desktop\\cwc\\SpatialMultimodal\\spd_new\\LEAP-039A_sdata.zarr the new file path:              \n",
      "         C:\\Users\\hua01\\Desktop\\cwc\\SpatialMultimodal\\spd_new\\UNI\\LEAP-039A_sdata.zarr                             \n",
      "LEAP-039B\n"
     ]
    },
    {
     "name": "stderr",
     "output_type": "stream",
     "text": [
      "100%|█████████████████████████████████████████████████████████| 8991/8991 [07:31<00:00, 19.93it/s]\n"
     ]
    },
    {
     "name": "stdout",
     "output_type": "stream",
     "text": [
      "\u001b[34mINFO    \u001b[0m The SpatialData object is not self-contained \u001b[1m(\u001b[0mi.e. it contains some elements that are Dask-backed from    \n",
      "         locations outside C:\\Users\\hua01\\Desktop\\cwc\\SpatialMultimodal\\spd_new\\UNI\\LEAP-039B_sdata.zarr\u001b[1m)\u001b[0m. Please  \n",
      "         see the documentation of `\u001b[1;35mis_self_contained\u001b[0m\u001b[1m(\u001b[0m\u001b[1m)\u001b[0m` to understand the implications of working with SpatialData \n",
      "         objects that are not self-contained.                                                                      \n",
      "\u001b[34mINFO    \u001b[0m The Zarr backing store has been changed from                                                              \n",
      "         C:\\Users\\hua01\\Desktop\\cwc\\SpatialMultimodal\\spd_new\\LEAP-039B_sdata.zarr the new file path:              \n",
      "         C:\\Users\\hua01\\Desktop\\cwc\\SpatialMultimodal\\spd_new\\UNI\\LEAP-039B_sdata.zarr                             \n",
      "LEAP-041A\n"
     ]
    },
    {
     "name": "stderr",
     "output_type": "stream",
     "text": [
      "100%|█████████████████████████████████████████████████████████| 1033/1033 [00:52<00:00, 19.73it/s]\n"
     ]
    },
    {
     "name": "stdout",
     "output_type": "stream",
     "text": [
      "\u001b[34mINFO    \u001b[0m The SpatialData object is not self-contained \u001b[1m(\u001b[0mi.e. it contains some elements that are Dask-backed from    \n",
      "         locations outside C:\\Users\\hua01\\Desktop\\cwc\\SpatialMultimodal\\spd_new\\UNI\\LEAP-041A_sdata.zarr\u001b[1m)\u001b[0m. Please  \n",
      "         see the documentation of `\u001b[1;35mis_self_contained\u001b[0m\u001b[1m(\u001b[0m\u001b[1m)\u001b[0m` to understand the implications of working with SpatialData \n",
      "         objects that are not self-contained.                                                                      \n",
      "\u001b[34mINFO    \u001b[0m The Zarr backing store has been changed from                                                              \n",
      "         C:\\Users\\hua01\\Desktop\\cwc\\SpatialMultimodal\\spd_new\\LEAP-041A_sdata.zarr the new file path:              \n",
      "         C:\\Users\\hua01\\Desktop\\cwc\\SpatialMultimodal\\spd_new\\UNI\\LEAP-041A_sdata.zarr                             \n",
      "LEAP-041B\n"
     ]
    },
    {
     "name": "stderr",
     "output_type": "stream",
     "text": [
      "100%|█████████████████████████████████████████████████████████| 6027/6027 [05:03<00:00, 19.87it/s]\n"
     ]
    },
    {
     "name": "stdout",
     "output_type": "stream",
     "text": [
      "\u001b[34mINFO    \u001b[0m The SpatialData object is not self-contained \u001b[1m(\u001b[0mi.e. it contains some elements that are Dask-backed from    \n",
      "         locations outside C:\\Users\\hua01\\Desktop\\cwc\\SpatialMultimodal\\spd_new\\UNI\\LEAP-041B_sdata.zarr\u001b[1m)\u001b[0m. Please  \n",
      "         see the documentation of `\u001b[1;35mis_self_contained\u001b[0m\u001b[1m(\u001b[0m\u001b[1m)\u001b[0m` to understand the implications of working with SpatialData \n",
      "         objects that are not self-contained.                                                                      \n",
      "\u001b[34mINFO    \u001b[0m The Zarr backing store has been changed from                                                              \n",
      "         C:\\Users\\hua01\\Desktop\\cwc\\SpatialMultimodal\\spd_new\\LEAP-041B_sdata.zarr the new file path:              \n",
      "         C:\\Users\\hua01\\Desktop\\cwc\\SpatialMultimodal\\spd_new\\UNI\\LEAP-041B_sdata.zarr                             \n",
      "LEAP-042A\n"
     ]
    },
    {
     "name": "stderr",
     "output_type": "stream",
     "text": [
      "100%|█████████████████████████████████████████████████████████| 4323/4323 [03:35<00:00, 20.08it/s]\n"
     ]
    },
    {
     "name": "stdout",
     "output_type": "stream",
     "text": [
      "\u001b[34mINFO    \u001b[0m The SpatialData object is not self-contained \u001b[1m(\u001b[0mi.e. it contains some elements that are Dask-backed from    \n",
      "         locations outside C:\\Users\\hua01\\Desktop\\cwc\\SpatialMultimodal\\spd_new\\UNI\\LEAP-042A_sdata.zarr\u001b[1m)\u001b[0m. Please  \n",
      "         see the documentation of `\u001b[1;35mis_self_contained\u001b[0m\u001b[1m(\u001b[0m\u001b[1m)\u001b[0m` to understand the implications of working with SpatialData \n",
      "         objects that are not self-contained.                                                                      \n",
      "\u001b[34mINFO    \u001b[0m The Zarr backing store has been changed from                                                              \n",
      "         C:\\Users\\hua01\\Desktop\\cwc\\SpatialMultimodal\\spd_new\\LEAP-042A_sdata.zarr the new file path:              \n",
      "         C:\\Users\\hua01\\Desktop\\cwc\\SpatialMultimodal\\spd_new\\UNI\\LEAP-042A_sdata.zarr                             \n",
      "LEAP-042B\n"
     ]
    },
    {
     "name": "stderr",
     "output_type": "stream",
     "text": [
      "100%|█████████████████████████████████████████████████████████| 9741/9741 [08:12<00:00, 19.76it/s]\n"
     ]
    },
    {
     "name": "stdout",
     "output_type": "stream",
     "text": [
      "\u001b[34mINFO    \u001b[0m The SpatialData object is not self-contained \u001b[1m(\u001b[0mi.e. it contains some elements that are Dask-backed from    \n",
      "         locations outside C:\\Users\\hua01\\Desktop\\cwc\\SpatialMultimodal\\spd_new\\UNI\\LEAP-042B_sdata.zarr\u001b[1m)\u001b[0m. Please  \n",
      "         see the documentation of `\u001b[1;35mis_self_contained\u001b[0m\u001b[1m(\u001b[0m\u001b[1m)\u001b[0m` to understand the implications of working with SpatialData \n",
      "         objects that are not self-contained.                                                                      \n",
      "\u001b[34mINFO    \u001b[0m The Zarr backing store has been changed from                                                              \n",
      "         C:\\Users\\hua01\\Desktop\\cwc\\SpatialMultimodal\\spd_new\\LEAP-042B_sdata.zarr the new file path:              \n",
      "         C:\\Users\\hua01\\Desktop\\cwc\\SpatialMultimodal\\spd_new\\UNI\\LEAP-042B_sdata.zarr                             \n",
      "LEAP-044A\n"
     ]
    },
    {
     "name": "stderr",
     "output_type": "stream",
     "text": [
      "100%|█████████████████████████████████████████████████████████| 2248/2248 [01:54<00:00, 19.70it/s]\n"
     ]
    },
    {
     "name": "stdout",
     "output_type": "stream",
     "text": [
      "\u001b[34mINFO    \u001b[0m The SpatialData object is not self-contained \u001b[1m(\u001b[0mi.e. it contains some elements that are Dask-backed from    \n",
      "         locations outside C:\\Users\\hua01\\Desktop\\cwc\\SpatialMultimodal\\spd_new\\UNI\\LEAP-044A_sdata.zarr\u001b[1m)\u001b[0m. Please  \n",
      "         see the documentation of `\u001b[1;35mis_self_contained\u001b[0m\u001b[1m(\u001b[0m\u001b[1m)\u001b[0m` to understand the implications of working with SpatialData \n",
      "         objects that are not self-contained.                                                                      \n",
      "\u001b[34mINFO    \u001b[0m The Zarr backing store has been changed from                                                              \n",
      "         C:\\Users\\hua01\\Desktop\\cwc\\SpatialMultimodal\\spd_new\\LEAP-044A_sdata.zarr the new file path:              \n",
      "         C:\\Users\\hua01\\Desktop\\cwc\\SpatialMultimodal\\spd_new\\UNI\\LEAP-044A_sdata.zarr                             \n",
      "LEAP-044B\n"
     ]
    },
    {
     "name": "stderr",
     "output_type": "stream",
     "text": [
      "100%|█████████████████████████████████████████████████████████| 7792/7792 [06:27<00:00, 20.13it/s]\n"
     ]
    },
    {
     "name": "stdout",
     "output_type": "stream",
     "text": [
      "\u001b[34mINFO    \u001b[0m The SpatialData object is not self-contained \u001b[1m(\u001b[0mi.e. it contains some elements that are Dask-backed from    \n",
      "         locations outside C:\\Users\\hua01\\Desktop\\cwc\\SpatialMultimodal\\spd_new\\UNI\\LEAP-044B_sdata.zarr\u001b[1m)\u001b[0m. Please  \n",
      "         see the documentation of `\u001b[1;35mis_self_contained\u001b[0m\u001b[1m(\u001b[0m\u001b[1m)\u001b[0m` to understand the implications of working with SpatialData \n",
      "         objects that are not self-contained.                                                                      \n",
      "\u001b[34mINFO    \u001b[0m The Zarr backing store has been changed from                                                              \n",
      "         C:\\Users\\hua01\\Desktop\\cwc\\SpatialMultimodal\\spd_new\\LEAP-044B_sdata.zarr the new file path:              \n",
      "         C:\\Users\\hua01\\Desktop\\cwc\\SpatialMultimodal\\spd_new\\UNI\\LEAP-044B_sdata.zarr                             \n",
      "LEAP-046A\n"
     ]
    },
    {
     "name": "stderr",
     "output_type": "stream",
     "text": [
      "100%|█████████████████████████████████████████████████████████| 3294/3294 [02:47<00:00, 19.71it/s]\n"
     ]
    },
    {
     "name": "stdout",
     "output_type": "stream",
     "text": [
      "\u001b[34mINFO    \u001b[0m The SpatialData object is not self-contained \u001b[1m(\u001b[0mi.e. it contains some elements that are Dask-backed from    \n",
      "         locations outside C:\\Users\\hua01\\Desktop\\cwc\\SpatialMultimodal\\spd_new\\UNI\\LEAP-046A_sdata.zarr\u001b[1m)\u001b[0m. Please  \n",
      "         see the documentation of `\u001b[1;35mis_self_contained\u001b[0m\u001b[1m(\u001b[0m\u001b[1m)\u001b[0m` to understand the implications of working with SpatialData \n",
      "         objects that are not self-contained.                                                                      \n",
      "\u001b[34mINFO    \u001b[0m The Zarr backing store has been changed from                                                              \n",
      "         C:\\Users\\hua01\\Desktop\\cwc\\SpatialMultimodal\\spd_new\\LEAP-046A_sdata.zarr the new file path:              \n",
      "         C:\\Users\\hua01\\Desktop\\cwc\\SpatialMultimodal\\spd_new\\UNI\\LEAP-046A_sdata.zarr                             \n",
      "LEAP-046B\n"
     ]
    },
    {
     "name": "stderr",
     "output_type": "stream",
     "text": [
      "100%|█████████████████████████████████████████████████████████| 5710/5710 [04:42<00:00, 20.19it/s]\n"
     ]
    },
    {
     "name": "stdout",
     "output_type": "stream",
     "text": [
      "\u001b[34mINFO    \u001b[0m The SpatialData object is not self-contained \u001b[1m(\u001b[0mi.e. it contains some elements that are Dask-backed from    \n",
      "         locations outside C:\\Users\\hua01\\Desktop\\cwc\\SpatialMultimodal\\spd_new\\UNI\\LEAP-046B_sdata.zarr\u001b[1m)\u001b[0m. Please  \n",
      "         see the documentation of `\u001b[1;35mis_self_contained\u001b[0m\u001b[1m(\u001b[0m\u001b[1m)\u001b[0m` to understand the implications of working with SpatialData \n",
      "         objects that are not self-contained.                                                                      \n",
      "\u001b[34mINFO    \u001b[0m The Zarr backing store has been changed from                                                              \n",
      "         C:\\Users\\hua01\\Desktop\\cwc\\SpatialMultimodal\\spd_new\\LEAP-046B_sdata.zarr the new file path:              \n",
      "         C:\\Users\\hua01\\Desktop\\cwc\\SpatialMultimodal\\spd_new\\UNI\\LEAP-046B_sdata.zarr                             \n",
      "LEAP-047B\n"
     ]
    },
    {
     "name": "stderr",
     "output_type": "stream",
     "text": [
      "100%|█████████████████████████████████████████████████████████| 6377/6377 [05:17<00:00, 20.09it/s]\n"
     ]
    },
    {
     "name": "stdout",
     "output_type": "stream",
     "text": [
      "\u001b[34mINFO    \u001b[0m The SpatialData object is not self-contained \u001b[1m(\u001b[0mi.e. it contains some elements that are Dask-backed from    \n",
      "         locations outside C:\\Users\\hua01\\Desktop\\cwc\\SpatialMultimodal\\spd_new\\UNI\\LEAP-047B_sdata.zarr\u001b[1m)\u001b[0m. Please  \n",
      "         see the documentation of `\u001b[1;35mis_self_contained\u001b[0m\u001b[1m(\u001b[0m\u001b[1m)\u001b[0m` to understand the implications of working with SpatialData \n",
      "         objects that are not self-contained.                                                                      \n",
      "\u001b[34mINFO    \u001b[0m The Zarr backing store has been changed from                                                              \n",
      "         C:\\Users\\hua01\\Desktop\\cwc\\SpatialMultimodal\\spd_new\\LEAP-047B_sdata.zarr the new file path:              \n",
      "         C:\\Users\\hua01\\Desktop\\cwc\\SpatialMultimodal\\spd_new\\UNI\\LEAP-047B_sdata.zarr                             \n"
     ]
    }
   ],
   "source": [
    "error_msg = []\n",
    "for folder in LEAP_folders:\n",
    "    try:\n",
    "    # if True:\n",
    "        leap_id = os.path.basename(folder)[:9]\n",
    "        print(leap_id)\n",
    "        sdata = sd.read_zarr(folder)\n",
    "        highest_res_img_key = list(sdata.images[\"hne\"].keys())[0]\n",
    "        img_da = sdata.images[\"hne\"][highest_res_img_key][\"image\"]\n",
    "        img_np = img_da.data.compute().transpose(1, 2, 0)\n",
    "        hne_pil = Image.fromarray(img_np)\n",
    "        spots_pixel_gdf = sdata.shapes[\"spots_tf\"]\n",
    "        radius = spots_pixel_gdf[\"radius\"].iloc[0]\n",
    "        \n",
    "        # 遍历每个 spot，截取 patch，提取 embedding\n",
    "        embeddings = []\n",
    "        for _, row in tqdm(spots_pixel_gdf.iterrows(), total=len(spots_pixel_gdf)):\n",
    "            x, y = int(row.geometry.x), int(row.geometry.y)\n",
    "        \n",
    "            # 定义 ROI 范围\n",
    "            left = max(x - radius, 0)\n",
    "            upper = max(y - radius, 0)\n",
    "            right = min(x + radius, hne_pil.width)\n",
    "            lower = min(y + radius, hne_pil.height)\n",
    "        \n",
    "            # 截取 ROI，转为 embedding\n",
    "            patch = hne_pil.crop((left, upper, right, lower))\n",
    "            patch_tensor = transform(patch).unsqueeze(0).to(device)\n",
    "        \n",
    "            with torch.inference_mode():\n",
    "                emb = model(patch_tensor).cpu().numpy().squeeze()\n",
    "        \n",
    "            embeddings.append(emb)\n",
    "            \n",
    "        image_emb = np.vstack(embeddings)\n",
    "        if np.isnan(image_emb).any():\n",
    "            image_emb = np.nan_to_num(image_emb, nan=0.0)\n",
    "            \n",
    "        sdata['adata'].obsm['uni_emb'] = image_emb\n",
    "        # sdata = make_self_contained(sdata)\n",
    "        sdata.write(os.path.join(output_path, f\"{leap_id}_sdata.zarr\"), overwrite=True)\n",
    "        \n",
    "        adata = sdata['adata']\n",
    "        sc.pp.neighbors(adata, use_rep=\"uni_emb\")\n",
    "        sc.tl.leiden(adata, key_added=\"leiden_from_UNI\")\n",
    "        \n",
    "        color_key1 = \"leiden_stamp\"\n",
    "        color_key2 = \"leiden_from_UNI\"\n",
    "        \n",
    "        # 2. Create a figure with subplots\n",
    "        fig, axes = plt.subplots(1, 3, figsize=(18, 5))\n",
    "        \n",
    "        # 3. Generate each plot on its specific subplot axis\n",
    "        \n",
    "        # Plot 1: Spatial Scatter with 'leiden_stamp' (or fallback)\n",
    "        sq.pl.spatial_scatter(\n",
    "            adata,\n",
    "            color=color_key1,\n",
    "            ax=axes[0],      # Target the first subplot\n",
    "            # show=False,    # REMOVE THIS LINE for sq.pl.spatial_scatter\n",
    "            title=f\"Spatial ({color_key1})\"\n",
    "        )\n",
    "        \n",
    "        # Plot 2: UMAP\n",
    "        sc.pl.umap(\n",
    "            adata,\n",
    "            color=color_key2,\n",
    "            ax=axes[1],      # Target the second subplot\n",
    "            show=False,      # Keep this for sc.pl.umap (it handles it)\n",
    "            title=f\"UMAP ({color_key2})\"\n",
    "        )\n",
    "        \n",
    "        # Plot 3: Spatial Scatter with 'leiden'\n",
    "        sq.pl.spatial_scatter(\n",
    "            adata,\n",
    "            color=color_key2,\n",
    "            ax=axes[2],      # Target the third subplot\n",
    "            # show=False,    # REMOVE THIS LINE for sq.pl.spatial_scatter\n",
    "            title=f\"Spatial ({color_key2})\"\n",
    "        )\n",
    "        \n",
    "        # 4. Adjust layout\n",
    "        plt.tight_layout()\n",
    "    \n",
    "        output_filename = os.path.join(output_path, f\"{leap_id}_UNI.jpg\")\n",
    "        # print(f\"Saving combined plot to: {output_filename}\")\n",
    "        plt.savefig(output_filename, dpi=300, bbox_inches='tight')\n",
    "    \n",
    "        plt.close(fig)\n",
    "        \n",
    "    except Exception as e:\n",
    "        error_msg.append((leap_id, e))\n",
    "        print((leap_id, e))\n",
    "        continue"
   ]
  },
  {
   "cell_type": "code",
   "execution_count": 76,
   "id": "612c5e32-3050-420a-947e-49697d029102",
   "metadata": {},
   "outputs": [],
   "source": [
    "sdata = sd.read_zarr('C:/Users/hua01/Desktop/cwc/SpatialMultimodal/spd_new/LEAP-002A_sdata.zarr')"
   ]
  },
  {
   "cell_type": "code",
   "execution_count": 92,
   "id": "01e8324a-4d62-4b87-8f9d-10c11c77692e",
   "metadata": {},
   "outputs": [
    {
     "ename": "AttributeError",
     "evalue": "'PairwiseArrays' object has no attribute 'uns'",
     "output_type": "error",
     "traceback": [
      "\u001b[1;31m---------------------------------------------------------------------------\u001b[0m",
      "\u001b[1;31mAttributeError\u001b[0m                            Traceback (most recent call last)",
      "Cell \u001b[1;32mIn[92], line 1\u001b[0m\n\u001b[1;32m----> 1\u001b[0m \u001b[43madata\u001b[49m\u001b[38;5;241;43m.\u001b[39;49m\u001b[43mobsp\u001b[49m\u001b[38;5;241;43m.\u001b[39;49m\u001b[43muns\u001b[49m\n",
      "\u001b[1;31mAttributeError\u001b[0m: 'PairwiseArrays' object has no attribute 'uns'"
     ]
    }
   ],
   "source": [
    "adata.obsp"
   ]
  },
  {
   "cell_type": "code",
   "execution_count": 86,
   "id": "7a2b5461-6074-4606-b30e-73503961ea7c",
   "metadata": {},
   "outputs": [
    {
     "data": {
      "text/plain": [
       "<6377x6377 sparse matrix of type '<class 'numpy.float64'>'\n",
       "\twith 89278 stored elements in Compressed Sparse Row format>"
      ]
     },
     "execution_count": 86,
     "metadata": {},
     "output_type": "execute_result"
    }
   ],
   "source": [
    "adata.obsp['distances']"
   ]
  },
  {
   "cell_type": "code",
   "execution_count": 91,
   "id": "217c11d8-5c20-4d7d-bd10-e0733e72396e",
   "metadata": {},
   "outputs": [
    {
     "data": {
      "image/png": "[encoded data removed]",
      "text/plain": [
       "<Figure size 640x480 with 1 Axes>"
      ]
     },
     "metadata": {},
     "output_type": "display_data"
    }
   ],
   "source": [
    "sc.pl.umap(adata, neighbors_key='connectivities')"
   ]
  },
  {
   "cell_type": "code",
   "execution_count": 78,
   "id": "94499eb1-7093-4e39-bb88-1a67e3df4ae9",
   "metadata": {},
   "outputs": [],
   "source": [
    "uni_emb = adata.obsm['uni_emb']"
   ]
  },
  {
   "cell_type": "code",
   "execution_count": 79,
   "id": "aa701ca8-d20b-4f88-ba0a-c24064a351ae",
   "metadata": {},
   "outputs": [
    {
     "data": {
      "text/plain": [
       "(1944, 1536)"
      ]
     },
     "execution_count": 79,
     "metadata": {},
     "output_type": "execute_result"
    }
   ],
   "source": [
    "uni_emb.shape"
   ]
  },
  {
   "cell_type": "code",
   "execution_count": 80,
   "id": "1d432eb9-9825-4cb4-b62c-f5b9f7aea008",
   "metadata": {},
   "outputs": [],
   "source": [
    "sdata['adata'].obsm['uni_emb'] = uni_emb"
   ]
  },
  {
   "cell_type": "code",
   "execution_count": 81,
   "id": "45fcf16f-f2db-466a-b5e7-5b37e9705cab",
   "metadata": {},
   "outputs": [
    {
     "data": {
      "text/plain": [
       "AxisArrays with keys: X_pca, X_scVI, X_stamp, X_umap, X_umap_c2l_Midlevel, X_umap_pca, X_umap_scvi, _scvi_extra_categorical_covs, _scvi_extra_continuous_covs, hne_emb, means_cell_abundance_w_sf, q05_cell_abundance_w_sf, q05_cell_abundance_w_sf_c2l_Midlevel, q95_cell_abundance_w_sf, spatial, stds_cell_abundance_w_sf, uni_emb"
      ]
     },
     "execution_count": 81,
     "metadata": {},
     "output_type": "execute_result"
    }
   ],
   "source": [
    "sdata['adata'].obsm"
   ]
  },
  {
   "cell_type": "code",
   "execution_count": 82,
   "id": "cd90f861-a5d7-4fa4-8f94-2738e7ab878f",
   "metadata": {},
   "outputs": [
    {
     "ename": "ValueError",
     "evalue": "Cannot overwrite. The target path of the write operation is in use. Please save the data to a different location. \nDetails: the target path in which to save an element is a subfolder of the current Zarr store.\nWorkaround: please see discussion here https://github.com/scverse/spatialdata/discussions/520 .",
     "output_type": "error",
     "traceback": [
      "\u001b[1;31m---------------------------------------------------------------------------\u001b[0m",
      "\u001b[1;31mValueError\u001b[0m                                Traceback (most recent call last)",
      "Cell \u001b[1;32mIn[82], line 1\u001b[0m\n\u001b[1;32m----> 1\u001b[0m \u001b[43msdata\u001b[49m\u001b[38;5;241;43m.\u001b[39;49m\u001b[43mwrite_element\u001b[49m\u001b[43m(\u001b[49m\u001b[38;5;124;43m\"\u001b[39;49m\u001b[38;5;124;43madata\u001b[39;49m\u001b[38;5;124;43m\"\u001b[39;49m\u001b[43m,\u001b[49m\u001b[43m \u001b[49m\u001b[43moverwrite\u001b[49m\u001b[38;5;241;43m=\u001b[39;49m\u001b[38;5;28;43;01mTrue\u001b[39;49;00m\u001b[43m)\u001b[49m\n",
      "File \u001b[1;32m~\\AppData\\Local\\miniforge3\\envs\\spd\\lib\\site-packages\\spatialdata\\_core\\spatialdata.py:1271\u001b[0m, in \u001b[0;36mSpatialData.write_element\u001b[1;34m(self, element_name, overwrite, format)\u001b[0m\n\u001b[0;32m   1267\u001b[0m     \u001b[38;5;28;01mraise\u001b[39;00m \u001b[38;5;167;01mValueError\u001b[39;00m(\u001b[38;5;124mf\u001b[39m\u001b[38;5;124m\"\u001b[39m\u001b[38;5;124mElement with name \u001b[39m\u001b[38;5;132;01m{\u001b[39;00melement_name\u001b[38;5;132;01m}\u001b[39;00m\u001b[38;5;124m not found in SpatialData object.\u001b[39m\u001b[38;5;124m\"\u001b[39m)\n\u001b[0;32m   1269\u001b[0m \u001b[38;5;28mself\u001b[39m\u001b[38;5;241m.\u001b[39m_check_element_not_on_disk_with_different_type(element_type\u001b[38;5;241m=\u001b[39melement_type, element_name\u001b[38;5;241m=\u001b[39melement_name)\n\u001b[1;32m-> 1271\u001b[0m \u001b[38;5;28;43mself\u001b[39;49m\u001b[38;5;241;43m.\u001b[39;49m\u001b[43m_write_element\u001b[49m\u001b[43m(\u001b[49m\n\u001b[0;32m   1272\u001b[0m \u001b[43m    \u001b[49m\u001b[43melement\u001b[49m\u001b[38;5;241;43m=\u001b[39;49m\u001b[43melement\u001b[49m\u001b[43m,\u001b[49m\n\u001b[0;32m   1273\u001b[0m \u001b[43m    \u001b[49m\u001b[43mzarr_container_path\u001b[49m\u001b[38;5;241;43m=\u001b[39;49m\u001b[38;5;28;43mself\u001b[39;49m\u001b[38;5;241;43m.\u001b[39;49m\u001b[43mpath\u001b[49m\u001b[43m,\u001b[49m\n\u001b[0;32m   1274\u001b[0m \u001b[43m    \u001b[49m\u001b[43melement_type\u001b[49m\u001b[38;5;241;43m=\u001b[39;49m\u001b[43melement_type\u001b[49m\u001b[43m,\u001b[49m\n\u001b[0;32m   1275\u001b[0m \u001b[43m    \u001b[49m\u001b[43melement_name\u001b[49m\u001b[38;5;241;43m=\u001b[39;49m\u001b[43melement_name\u001b[49m\u001b[43m,\u001b[49m\n\u001b[0;32m   1276\u001b[0m \u001b[43m    \u001b[49m\u001b[43moverwrite\u001b[49m\u001b[38;5;241;43m=\u001b[39;49m\u001b[43moverwrite\u001b[49m\u001b[43m,\u001b[49m\n\u001b[0;32m   1277\u001b[0m \u001b[43m    \u001b[49m\u001b[38;5;28;43mformat\u001b[39;49m\u001b[38;5;241;43m=\u001b[39;49m\u001b[38;5;28;43mformat\u001b[39;49m\u001b[43m,\u001b[49m\n\u001b[0;32m   1278\u001b[0m \u001b[43m\u001b[49m\u001b[43m)\u001b[49m\n",
      "File \u001b[1;32m~\\AppData\\Local\\miniforge3\\envs\\spd\\lib\\site-packages\\spatialdata\\_core\\spatialdata.py:1190\u001b[0m, in \u001b[0;36mSpatialData._write_element\u001b[1;34m(self, element, zarr_container_path, element_type, element_name, overwrite, format)\u001b[0m\n\u001b[0;32m   1186\u001b[0m     \u001b[38;5;28;01mraise\u001b[39;00m \u001b[38;5;167;01mValueError\u001b[39;00m(\n\u001b[0;32m   1187\u001b[0m         \u001b[38;5;124mf\u001b[39m\u001b[38;5;124m\"\u001b[39m\u001b[38;5;124mzarr_container_path must be a Path object, type(zarr_container_path) = \u001b[39m\u001b[38;5;132;01m{\u001b[39;00m\u001b[38;5;28mtype\u001b[39m(zarr_container_path)\u001b[38;5;132;01m}\u001b[39;00m\u001b[38;5;124m.\u001b[39m\u001b[38;5;124m\"\u001b[39m\n\u001b[0;32m   1188\u001b[0m     )\n\u001b[0;32m   1189\u001b[0m file_path_of_element \u001b[38;5;241m=\u001b[39m zarr_container_path \u001b[38;5;241m/\u001b[39m element_type \u001b[38;5;241m/\u001b[39m element_name\n\u001b[1;32m-> 1190\u001b[0m \u001b[38;5;28;43mself\u001b[39;49m\u001b[38;5;241;43m.\u001b[39;49m\u001b[43m_validate_can_safely_write_to_path\u001b[49m\u001b[43m(\u001b[49m\n\u001b[0;32m   1191\u001b[0m \u001b[43m    \u001b[49m\u001b[43mfile_path\u001b[49m\u001b[38;5;241;43m=\u001b[39;49m\u001b[43mfile_path_of_element\u001b[49m\u001b[43m,\u001b[49m\u001b[43m \u001b[49m\u001b[43moverwrite\u001b[49m\u001b[38;5;241;43m=\u001b[39;49m\u001b[43moverwrite\u001b[49m\u001b[43m,\u001b[49m\u001b[43m \u001b[49m\u001b[43msaving_an_element\u001b[49m\u001b[38;5;241;43m=\u001b[39;49m\u001b[38;5;28;43;01mTrue\u001b[39;49;00m\n\u001b[0;32m   1192\u001b[0m \u001b[43m\u001b[49m\u001b[43m)\u001b[49m\n\u001b[0;32m   1194\u001b[0m root_group, element_type_group, _ \u001b[38;5;241m=\u001b[39m \u001b[38;5;28mself\u001b[39m\u001b[38;5;241m.\u001b[39m_get_groups_for_element(\n\u001b[0;32m   1195\u001b[0m     zarr_path\u001b[38;5;241m=\u001b[39mzarr_container_path, element_type\u001b[38;5;241m=\u001b[39melement_type, element_name\u001b[38;5;241m=\u001b[39melement_name\n\u001b[0;32m   1196\u001b[0m )\n\u001b[0;32m   1197\u001b[0m \u001b[38;5;28;01mfrom\u001b[39;00m\u001b[38;5;250m \u001b[39m\u001b[38;5;21;01mspatialdata\u001b[39;00m\u001b[38;5;21;01m.\u001b[39;00m\u001b[38;5;21;01m_io\u001b[39;00m\u001b[38;5;250m \u001b[39m\u001b[38;5;28;01mimport\u001b[39;00m write_image, write_labels, write_points, write_shapes, write_table\n",
      "File \u001b[1;32m~\\AppData\\Local\\miniforge3\\envs\\spd\\lib\\site-packages\\spatialdata\\_core\\spatialdata.py:1109\u001b[0m, in \u001b[0;36mSpatialData._validate_can_safely_write_to_path\u001b[1;34m(self, file_path, overwrite, saving_an_element)\u001b[0m\n\u001b[0;32m   1105\u001b[0m \u001b[38;5;28;01mif\u001b[39;00m \u001b[38;5;28mself\u001b[39m\u001b[38;5;241m.\u001b[39mpath \u001b[38;5;129;01mis\u001b[39;00m \u001b[38;5;129;01mnot\u001b[39;00m \u001b[38;5;28;01mNone\u001b[39;00m \u001b[38;5;129;01mand\u001b[39;00m (\n\u001b[0;32m   1106\u001b[0m     _is_subfolder(parent\u001b[38;5;241m=\u001b[39m\u001b[38;5;28mself\u001b[39m\u001b[38;5;241m.\u001b[39mpath, child\u001b[38;5;241m=\u001b[39mfile_path) \u001b[38;5;129;01mor\u001b[39;00m _is_subfolder(parent\u001b[38;5;241m=\u001b[39mfile_path, child\u001b[38;5;241m=\u001b[39m\u001b[38;5;28mself\u001b[39m\u001b[38;5;241m.\u001b[39mpath)\n\u001b[0;32m   1107\u001b[0m ):\n\u001b[0;32m   1108\u001b[0m     \u001b[38;5;28;01mif\u001b[39;00m saving_an_element \u001b[38;5;129;01mand\u001b[39;00m _is_subfolder(parent\u001b[38;5;241m=\u001b[39m\u001b[38;5;28mself\u001b[39m\u001b[38;5;241m.\u001b[39mpath, child\u001b[38;5;241m=\u001b[39mfile_path):\n\u001b[1;32m-> 1109\u001b[0m         \u001b[38;5;28;01mraise\u001b[39;00m \u001b[38;5;167;01mValueError\u001b[39;00m(\n\u001b[0;32m   1110\u001b[0m             ERROR_MSG \u001b[38;5;241m+\u001b[39m \u001b[38;5;124m\"\u001b[39m\u001b[38;5;130;01m\\n\u001b[39;00m\u001b[38;5;124mDetails: the target path in which to save an element is a subfolder \u001b[39m\u001b[38;5;124m\"\u001b[39m\n\u001b[0;32m   1111\u001b[0m             \u001b[38;5;124m\"\u001b[39m\u001b[38;5;124mof the current Zarr store.\u001b[39m\u001b[38;5;124m\"\u001b[39m \u001b[38;5;241m+\u001b[39m WORKAROUND\n\u001b[0;32m   1112\u001b[0m         )\n\u001b[0;32m   1113\u001b[0m     \u001b[38;5;28;01mraise\u001b[39;00m \u001b[38;5;167;01mValueError\u001b[39;00m(\n\u001b[0;32m   1114\u001b[0m         ERROR_MSG \u001b[38;5;241m+\u001b[39m \u001b[38;5;124m\"\u001b[39m\u001b[38;5;130;01m\\n\u001b[39;00m\u001b[38;5;124mDetails: the target path either contains, coincides or is contained in\u001b[39m\u001b[38;5;124m\"\u001b[39m\n\u001b[0;32m   1115\u001b[0m         \u001b[38;5;124m\"\u001b[39m\u001b[38;5;124m the current Zarr store.\u001b[39m\u001b[38;5;124m\"\u001b[39m \u001b[38;5;241m+\u001b[39m WORKAROUND\n\u001b[0;32m   1116\u001b[0m     )\n",
      "\u001b[1;31mValueError\u001b[0m: Cannot overwrite. The target path of the write operation is in use. Please save the data to a different location. \nDetails: the target path in which to save an element is a subfolder of the current Zarr store.\nWorkaround: please see discussion here https://github.com/scverse/spatialdata/discussions/520 ."
     ]
    }
   ],
   "source": [
    "sdata.write_element(\"adata\", overwrite=True)"
   ]
  },
  {
   "cell_type": "code",
   "execution_count": 71,
   "id": "60b29085-358d-48bd-91bc-810218a27851",
   "metadata": {},
   "outputs": [
    {
     "data": {
      "text/plain": [
       "[('LEAP-002A', NameError(\"name 'make_self_contained' is not defined\"))]"
      ]
     },
     "execution_count": 71,
     "metadata": {},
     "output_type": "execute_result"
    }
   ],
   "source": [
    "error_msg"
   ]
  },
  {
   "cell_type": "code",
   "execution_count": 61,
   "id": "7b68457d-9754-4e5c-96fc-b4357367f0ca",
   "metadata": {},
   "outputs": [],
   "source": [
    "adata = sdata['adata']\n",
    "sc.pp.neighbors(adata, use_rep=\"uni_emb\")\n",
    "sc.tl.leiden(adata, key_added=\"leiden_from_UNI\")\n",
    "\n",
    "color_key1 = \"leiden_stamp\"\n",
    "color_key2 = \"leiden_from_embedding\"\n",
    "\n",
    "# 2. Create a figure with subplots\n",
    "fig, axes = plt.subplots(1, 3, figsize=(18, 5))\n",
    "\n",
    "# 3. Generate each plot on its specific subplot axis\n",
    "\n",
    "# Plot 1: Spatial Scatter with 'leiden_stamp' (or fallback)\n",
    "sq.pl.spatial_scatter(\n",
    "    adata,\n",
    "    color=color_key1,\n",
    "    ax=axes[0],      # Target the first subplot\n",
    "    # show=False,    # REMOVE THIS LINE for sq.pl.spatial_scatter\n",
    "    title=f\"Spatial ({color_key1})\"\n",
    ")\n",
    "\n",
    "# Plot 2: UMAP\n",
    "sc.pl.umap(\n",
    "    adata,\n",
    "    color=color_key2,\n",
    "    ax=axes[1],      # Target the second subplot\n",
    "    showoutput_path=False,      # Keep this for sc.pl.umap (it handles it)\n",
    "    title=f\"UMAP ({color_key2})\"\n",
    ")\n",
    "\n",
    "# Plot 3: Spatial Scatter with 'leiden'\n",
    "sq.pl.spatial_scatter(\n",
    "    adata,\n",
    "    color=color_key2,\n",
    "    ax=axes[2],      # Target the third subplot\n",
    "    # show=False,    # REMOVE THIS LINE for sq.pl.spatial_scatter\n",
    "    title=f\"Spatial ({color_key2})\"\n",
    ")\n",
    "\n",
    "# 4. Adjust layout\n",
    "plt.tight_layout()\n",
    "output_filename = os.path.join(output_path, 'UNI', f\"{leap_id}_UNI.jpg\")\n",
    "# print(f\"Saving combined plot to: {output_filename}\")\n",
    "plt.savefig(output_filename, dpi=300, bbox_inches='tight')\n",
    "\n",
    "plt.close(fig)"
   ]
  },
  {
   "cell_type": "code",
   "execution_count": null,
   "id": "477a64b4-576d-4b2b-b730-317fa1ccc517",
   "metadata": {},
   "outputs": [],
   "source": []
  }
 ],
 "metadata": {
  "kernelspec": {
   "display_name": "Python 3 (ipykernel)",
   "language": "python",
   "name": "python3"
  },
  "language_info": {
   "codemirror_mode": {
    "name": "ipython",
    "version": 3
   },
   "file_extension": ".py",
   "mimetype": "text/x-python",
   "name": "python",
   "nbconvert_exporter": "python",
   "pygments_lexer": "ipython3",
   "version": "3.9.21"
  }
 },
 "nbformat": 4,
 "nbformat_minor": 5
}
